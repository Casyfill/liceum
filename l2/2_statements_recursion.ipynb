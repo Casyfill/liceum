{
 "cells": [
  {
   "cell_type": "markdown",
   "metadata": {},
   "source": [
    "Положения и циклы не имеют прямого отношения к функциям,, однако пригодятся нам в следующем примере (да и вообще в жизни).\n",
    "Давайте разберем основные варианты:"
   ]
  },
  {
   "cell_type": "markdown",
   "metadata": {},
   "source": [
    "# if/else/elif"
   ]
  },
  {
   "cell_type": "markdown",
   "metadata": {},
   "source": [
    "`if` - логическое условие; если условие выполняется, то исполняется соответствующий код, если нет - он пропускается. Как и для функции, код внутри `if` должен быть инденсирован"
   ]
  },
  {
   "cell_type": "code",
   "execution_count": 30,
   "metadata": {},
   "outputs": [],
   "source": [
    "x = 5 # измените значение для эксперимента\n",
    "\n",
    "if x > 5:\n",
    "    print(x)"
   ]
  },
  {
   "cell_type": "code",
   "execution_count": 31,
   "metadata": {},
   "outputs": [
    {
     "name": "stdout",
     "output_type": "stream",
     "text": [
      "Hi\n"
     ]
    }
   ],
   "source": [
    "x = \"Hello\"\n",
    "\n",
    "if x == 'Hello':\n",
    "    print('Hi')"
   ]
  },
  {
   "cell_type": "markdown",
   "metadata": {},
   "source": [
    "Замечу - частая ошибка новичка, делать условие на булевых, типа `if X == True`. Не делайте так, это масло маслянное!"
   ]
  },
  {
   "cell_type": "markdown",
   "metadata": {},
   "source": [
    "В ряде случаев мы должны прописать одну или несколько альтернатив. На помощь приходят `else` и `elif`"
   ]
  },
  {
   "cell_type": "code",
   "execution_count": 33,
   "metadata": {},
   "outputs": [
    {
     "name": "stdout",
     "output_type": "stream",
     "text": [
      "Positive\n"
     ]
    }
   ],
   "source": [
    "x = 1\n",
    "\n",
    "if x > 0:\n",
    "    print('Positive')\n",
    "else:\n",
    "    print('Negative')"
   ]
  },
  {
   "cell_type": "markdown",
   "metadata": {},
   "source": [
    "В коде выше есть логическая ошибка - ноль все же не позитивный и не негативный. Тут можно использовать `elif`:"
   ]
  },
  {
   "cell_type": "code",
   "execution_count": 34,
   "metadata": {},
   "outputs": [
    {
     "name": "stdout",
     "output_type": "stream",
     "text": [
      "Positive\n"
     ]
    }
   ],
   "source": [
    "if x == 0:\n",
    "    print('Zero')\n",
    "elif x > 0:\n",
    "    print('Positive')\n",
    "else:\n",
    "    pritn('Negative')"
   ]
  },
  {
   "cell_type": "markdown",
   "metadata": {},
   "source": [
    "мы можем вводить любое количество `elif`, однако в целом советуем обходится без долгих конструктов - часто единственного `if` более чем достаточно.\n",
    "\n",
    "NOTE: как мы помним, `return` в функциях заканчивает исполнение - код после него не исполняется. Это значит, что в функции, если `return` стоит внутри `if`, раздел `else` не нужен:"
   ]
  },
  {
   "cell_type": "code",
   "execution_count": 1,
   "metadata": {},
   "outputs": [],
   "source": [
    "def myfunc(x):\n",
    "    '''returns double of positive numbers, or raw value othervise'''\n",
    "    if x > 0:\n",
    "        return 2*x\n",
    "    \n",
    "    return x"
   ]
  },
  {
   "cell_type": "code",
   "execution_count": 2,
   "metadata": {},
   "outputs": [
    {
     "data": {
      "text/plain": [
       "-1"
      ]
     },
     "execution_count": 2,
     "metadata": {},
     "output_type": "execute_result"
    }
   ],
   "source": [
    "myfunc(-1)"
   ]
  },
  {
   "cell_type": "code",
   "execution_count": 3,
   "metadata": {},
   "outputs": [
    {
     "data": {
      "text/plain": [
       "4"
      ]
     },
     "execution_count": 3,
     "metadata": {},
     "output_type": "execute_result"
    }
   ],
   "source": [
    "myfunc(2)"
   ]
  },
  {
   "cell_type": "markdown",
   "metadata": {},
   "source": [
    "# Циклы"
   ]
  },
  {
   "cell_type": "markdown",
   "metadata": {},
   "source": [
    "## циклы `for`"
   ]
  },
  {
   "cell_type": "markdown",
   "metadata": {},
   "source": [
    "Циклы — механизм повторения части кода; они используются в программах сплошь и рядом;\n",
    "Самый частый тип циклов - с использованием `for`. Синтаксис следующий:\n",
    "\n",
    "```\n",
    "for element in collection:\n",
    "    LOOP CODE\n",
    "```\n",
    "\n",
    "Так же, как для функций и if/else, for требует инденсации. collection в данном случае - любой `iterable` (что в общем само-объяснение. `iterable` - все что может быть использовано в циклах), включая строки, списки(list), тюплы (tuple), словари(dict), генераторы, и так далее и тому подобное. Посмотрим на пример:"
   ]
  },
  {
   "cell_type": "code",
   "execution_count": 4,
   "metadata": {},
   "outputs": [],
   "source": [
    "values = 1,2,3,4,5 # пример packing, values в результате - tuple"
   ]
  },
  {
   "cell_type": "code",
   "execution_count": 6,
   "metadata": {},
   "outputs": [
    {
     "name": "stdout",
     "output_type": "stream",
     "text": [
      "1\n",
      "2\n",
      "3\n",
      "4\n",
      "5\n"
     ]
    }
   ],
   "source": [
    "for value in values:\n",
    "    print(value)"
   ]
  },
  {
   "cell_type": "markdown",
   "metadata": {},
   "source": [
    "для создания очередности чисел существует специальная функция - `range`"
   ]
  },
  {
   "cell_type": "code",
   "execution_count": 8,
   "metadata": {},
   "outputs": [
    {
     "data": {
      "text/plain": [
       "\u001b[0;31mInit signature:\u001b[0m \u001b[0mrange\u001b[0m\u001b[0;34m(\u001b[0m\u001b[0mself\u001b[0m\u001b[0;34m,\u001b[0m \u001b[0;34m/\u001b[0m\u001b[0;34m,\u001b[0m \u001b[0;34m*\u001b[0m\u001b[0margs\u001b[0m\u001b[0;34m,\u001b[0m \u001b[0;34m**\u001b[0m\u001b[0mkwargs\u001b[0m\u001b[0;34m)\u001b[0m\u001b[0;34m\u001b[0m\u001b[0m\n",
       "\u001b[0;31mDocstring:\u001b[0m     \n",
       "range(stop) -> range object\n",
       "range(start, stop[, step]) -> range object\n",
       "\n",
       "Return an object that produces a sequence of integers from start (inclusive)\n",
       "to stop (exclusive) by step.  range(i, j) produces i, i+1, i+2, ..., j-1.\n",
       "start defaults to 0, and stop is omitted!  range(4) produces 0, 1, 2, 3.\n",
       "These are exactly the valid indices for a list of 4 elements.\n",
       "When step is given, it specifies the increment (or decrement).\n",
       "\u001b[0;31mType:\u001b[0m           type\n"
      ]
     },
     "metadata": {},
     "output_type": "display_data"
    }
   ],
   "source": [
    "?range"
   ]
  },
  {
   "cell_type": "code",
   "execution_count": 9,
   "metadata": {},
   "outputs": [
    {
     "name": "stdout",
     "output_type": "stream",
     "text": [
      "1\n",
      "3\n",
      "5\n",
      "7\n",
      "9\n"
     ]
    }
   ],
   "source": [
    "for value in range(1, 10, 2):\n",
    "    print(value)"
   ]
  },
  {
   "cell_type": "markdown",
   "metadata": {},
   "source": [
    "Если нам нужно \"досрочно\" прекратить исполнене цикла, мы можем использовать слово `break`:"
   ]
  },
  {
   "cell_type": "code",
   "execution_count": 11,
   "metadata": {},
   "outputs": [
    {
     "name": "stdout",
     "output_type": "stream",
     "text": [
      "1035 45\n"
     ]
    }
   ],
   "source": [
    "S = 0\n",
    "\n",
    "for value in range(1000):\n",
    "    S += value\n",
    "    if S > 1000:\n",
    "        print(S, value)\n",
    "        break"
   ]
  },
  {
   "cell_type": "markdown",
   "metadata": {},
   "source": [
    "Попробуйте объяснить пример выше?"
   ]
  },
  {
   "cell_type": "markdown",
   "metadata": {},
   "source": [
    "Кстати, аналогично если циклы прерывать ну нужно, но конкретный код внутри цикла исполнять не обязательно, можно использовать `continue`"
   ]
  },
  {
   "cell_type": "markdown",
   "metadata": {},
   "source": [
    "**Ошибка новичков**"
   ]
  },
  {
   "cell_type": "markdown",
   "metadata": {},
   "source": [
    "Ошибка новичков, особенно знакомых с кодом в Java или Javascript - если нужно пройтись по массиву данных, итерировать по числам от нуля до длины массивы - 1. Этого делать не нужно - просто итерируйте по массиву:\n",
    "```\n",
    "for element in array:\n",
    "    # do something\n",
    "```\n",
    "    \n",
    "Если вам действительно в цикле нужно как значение, так и его индекс - используйте функцию `enumerate`, это быстрее:"
   ]
  },
  {
   "cell_type": "code",
   "execution_count": 16,
   "metadata": {},
   "outputs": [
    {
     "name": "stdout",
     "output_type": "stream",
     "text": [
      "0 10\n",
      "1 11\n",
      "2 12\n",
      "3 13\n",
      "4 14\n",
      "5 15\n",
      "6 16\n",
      "7 17\n",
      "8 18\n",
      "9 19\n"
     ]
    }
   ],
   "source": [
    "for i, v in enumerate(range(10, 20)):\n",
    "    print(i, v)"
   ]
  },
  {
   "cell_type": "markdown",
   "metadata": {},
   "source": [
    "## Практика"
   ]
  },
  {
   "cell_type": "markdown",
   "metadata": {},
   "source": [
    "давайте разберем использование loops на классическом примере - **рядах Фибоначчи**. \n",
    "Как вы помните, ряд фибоначчи - ряд чисел, где каждое последующее - сумма двух предыдущих, а два первых - 0 и 1:\n",
    "\n",
    "![fibonacci](https://upload.wikimedia.org/wikipedia/commons/thumb/2/2e/FibonacciSpiral.svg/220px-FibonacciSpiral.svg.png)"
   ]
  },
  {
   "cell_type": "code",
   "execution_count": 60,
   "metadata": {},
   "outputs": [
    {
     "data": {
      "text/html": [
       "\n",
       "        <iframe\n",
       "            width=\"800\"\n",
       "            height=\"350\"\n",
       "            src=\"https://www.youtube.com/embed/kkGeOWYOFoA\"\n",
       "            frameborder=\"0\"\n",
       "            allowfullscreen\n",
       "        ></iframe>\n",
       "        "
      ],
      "text/plain": [
       "<IPython.lib.display.IFrame at 0x10e3e4128>"
      ]
     },
     "execution_count": 60,
     "metadata": {},
     "output_type": "execute_result"
    }
   ],
   "source": [
    "from IPython.display import IFrame\n",
    "IFrame('https://www.youtube.com/embed/kkGeOWYOFoA', 800, 350)"
   ]
  },
  {
   "cell_type": "markdown",
   "metadata": {},
   "source": [
    "Чуть ниже мы будем считать ряды Фибоначчи с помощью рекурсии. Но можно посчитать и через цикл. Сможете?\n",
    "Напишем функцию от N, которая для любого положительного N вернет N-тое число ряда Фибоначчи."
   ]
  },
  {
   "cell_type": "markdown",
   "metadata": {},
   "source": [
    "Первые несколько чисел ряда:\n",
    "    0, 1, 1, 2, 3, 5, 8, 13, 21, 34, 55, 89"
   ]
  },
  {
   "cell_type": "code",
   "execution_count": 13,
   "metadata": {},
   "outputs": [],
   "source": [
    "def fib_loop(N):\n",
    "    # YOUR CODE HERE\n",
    "    pass"
   ]
  },
  {
   "cell_type": "code",
   "execution_count": 22,
   "metadata": {},
   "outputs": [
    {
     "data": {
      "text/plain": [
       "8"
      ]
     },
     "execution_count": 22,
     "metadata": {},
     "output_type": "execute_result"
    }
   ],
   "source": [
    "fib_loop(6)"
   ]
  },
  {
   "cell_type": "markdown",
   "metadata": {},
   "source": [
    "## циклы `while`"
   ]
  },
  {
   "cell_type": "markdown",
   "metadata": {},
   "source": [
    "Альтернатива `for` - циклы `while`. Как понятно из названия (while - пока), эти циклы будут исполняться, пока сохраняется какое-то условие."
   ]
  },
  {
   "cell_type": "code",
   "execution_count": 24,
   "metadata": {},
   "outputs": [
    {
     "name": "stdout",
     "output_type": "stream",
     "text": [
      "2\n",
      "4\n",
      "6\n",
      "8\n",
      "10\n"
     ]
    }
   ],
   "source": [
    "c = 0\n",
    "\n",
    "while c < 10:\n",
    "    c +=2\n",
    "    print(c) # кстати подумайте, почему если поменять местами две последних строки, результат изменится"
   ]
  },
  {
   "cell_type": "markdown",
   "metadata": {},
   "source": [
    "Часто используют паттерн `while True` - те цикл должен работать постоянно, пока что-то не произойдет ВНУТРИ него. Например, вы можете бесконечно (лучше через определенный интервал), пока работает скрипт, спрашивать сервер о новых данных."
   ]
  },
  {
   "cell_type": "code",
   "execution_count": 25,
   "metadata": {},
   "outputs": [
    {
     "name": "stdout",
     "output_type": "stream",
     "text": [
      "pinging... 1\n",
      "pinging... 2\n",
      "pinging... 3\n",
      "pinging... 4\n",
      "pinging... 5\n",
      "pinging... 6\n",
      "pinging... 7\n",
      "pinging... 8\n",
      "pinging... 9\n",
      "pinging... 10\n"
     ]
    }
   ],
   "source": [
    "import time # библиотека работы со временем\n",
    "cntr = 0\n",
    "\n",
    "while True:\n",
    "    cntr +=1\n",
    "    print(f'pinging... {cntr}')\n",
    "    \n",
    "    if cntr >= 10:\n",
    "        break\n",
    "    \n",
    "    time.sleep(1) # в секундах\n",
    "    "
   ]
  },
  {
   "cell_type": "markdown",
   "metadata": {},
   "source": [
    "# Try/except/finally"
   ]
  },
  {
   "cell_type": "markdown",
   "metadata": {},
   "source": [
    "По возможности наш код должен иметь варианты решения на любой случай - однако иногда, особенно в работе с внешними сервисами, это сложно и не нужно.\n",
    "Для того, чтобы код не останавливался на конкретных ошибках, ошибки можно ловить c помощью комбинации `try/except/finally`. \n",
    "\n",
    "* try - начало структуры, после этого пишут код который может привести к ошибке\n",
    "* except - часть, которая будет отработана, если `try` вызвал ошибку. можно (и нужно) указать конкретный тип ошибки\n",
    "* finally - конец структуры, этот код будет исполнен несмотря не на что. особенно это важно при работе с сервером или файлами - что бы ни случилось, подключение надо в конце закрыть."
   ]
  },
  {
   "cell_type": "markdown",
   "metadata": {},
   "source": [
    "Давайте рассмотрим на игрушечном примере - статусы http-запросов. \n",
    "\n",
    "Как вы, думаю, знаете, при обращении по http/https (любая страничка, API, итп) результат имеет статус-код - число, обозначающее статус запроса. Подробно о кодах можно почитать [тут](https://www.restapitutorial.com/httpstatuscodes.html). Наиболее известные запросы - 404 (сервер не найден), 200 (Успех), 502 (Плохой путь), 522 - таймаут. Часто мы должны предвидеть разное поведение сервиса при работе с ним. Для моделирования, мы будем использовать библиотеку requests и онлайн-сервис тестирования [httpstat.us](httpstat.us). Сервис очень простой - если кинуть запрос к серверу с указанием статуса, этот статус мы в результате и получим:\n",
    "\n",
    "httpstat.us/404 приведет к ошибке \"сервер не найден\".\n",
    "\n",
    "Давайте проитерируем через несколько статусов, и попробуем написать код, который адаптируется к проблеме\n",
    "\n"
   ]
  },
  {
   "cell_type": "code",
   "execution_count": 26,
   "metadata": {},
   "outputs": [],
   "source": [
    "import requests as rq\n",
    "base_url = 'https://httpstat.us/{code}'\n",
    "status_codes = 200, 502, 522, 404"
   ]
  },
  {
   "cell_type": "code",
   "execution_count": 27,
   "metadata": {},
   "outputs": [
    {
     "name": "stdout",
     "output_type": "stream",
     "text": [
      "200:success\n",
      "502:fail\n",
      "522:fail\n",
      "404:fail\n"
     ]
    }
   ],
   "source": [
    "for code in status_codes:\n",
    "    response = rq.get(base_url.format(code=code)) # sends request to the service\n",
    "    \n",
    "    try:\n",
    "        response.raise_for_status() # raises HTTPError for any problematic status\n",
    "        status = 'success'\n",
    "    except:\n",
    "        status = 'fail'\n",
    "    finally:\n",
    "        print(f'{code}:{status}')\n",
    "        "
   ]
  },
  {
   "cell_type": "markdown",
   "metadata": {},
   "source": [
    "В описанной выше схеме мы не обязаны использовать ни `finally`, ни  `except`. Если except не используется, для try сработает любая ошибка."
   ]
  },
  {
   "cell_type": "markdown",
   "metadata": {},
   "source": [
    "# With"
   ]
  },
  {
   "cell_type": "markdown",
   "metadata": {},
   "source": [
    "Последний стейтмент - `with`, по своей схеме работы аналогичен `try/finally`. \n",
    "Как мы уже говорили, такая схема особенно полезна при работе с подключениями - например к базе данных. что бы не произошло внутри кода, подключение стоит закрыть - иначе сервер с базой будет ждать и держать ресурсы зарезервированными. То же и с файлами.\n",
    "\n",
    "Однако писать `try/finally` для этих технических деталей каждый раз - трата времени. Логично обернуть \"открытие\" канала и его \"закрытие\" в свойствах соответствующих объектов. Собственно, `with` может работать с любым объектом, имеющим методы `obj.__enter__` и `obj.__exit__`. Для абстрактного объекта доступа к базе данных это выглядит так:\n",
    "\n",
    "```\n",
    "with connection() as con:\n",
    "    result = con.execute(query)\n",
    "```\n",
    "\n",
    "в этом коде `with` исполняет код `connecion().__enter__()`, который возвращает объект соединения. Этот объект можно использовать внутри with - но что бы не произошло, он будет позже закрыт с помощью `connection().__exit__()`.\n",
    "\n"
   ]
  },
  {
   "cell_type": "markdown",
   "metadata": {},
   "source": [
    "частый пример использования `with` в нашей практике - чтение файлов \"чистым\" питоном:"
   ]
  },
  {
   "cell_type": "code",
   "execution_count": 28,
   "metadata": {},
   "outputs": [
    {
     "name": "stdout",
     "output_type": "stream",
     "text": [
      "['N,city\\n', '1,Kazan\\n', '2,Moscow\\n', '3,New York\\n', '4,Bogota\\n', '5,Addis-Ababa']\n"
     ]
    }
   ],
   "source": [
    "with open('../data/l2/geographies.csv', 'r') as f:\n",
    "    rows = f.readlines()\n",
    "    \n",
    "print(rows)  # можете посмотреть, как выглядит сам файл"
   ]
  },
  {
   "cell_type": "markdown",
   "metadata": {},
   "source": [
    "# Рекурсия"
   ]
  },
  {
   "cell_type": "markdown",
   "metadata": {},
   "source": [
    "В контексте программирования **рекурсия - возможность вызывать функцию внутри самой функции**.\n",
    "\n",
    "Python исполняет код последовательно, линия за линией - таким образом внутри функции ее название уже зарегестрированно - и python может ее исполнять. Посмотрим на примере с Фибоначчи:"
   ]
  },
  {
   "cell_type": "markdown",
   "metadata": {},
   "source": [
    "0, 1, 1, 2, 3, 5, 8, 13, 21, 34, 55, 89"
   ]
  },
  {
   "cell_type": "code",
   "execution_count": 29,
   "metadata": {},
   "outputs": [],
   "source": [
    "def fibonacci(n):\n",
    "    if n == 0: return 0    \n",
    "    elif n == 1: return 1\n",
    "    \n",
    "    return fibonacci(n-1) + fibonacci(n-2)"
   ]
  },
  {
   "cell_type": "code",
   "execution_count": 30,
   "metadata": {},
   "outputs": [
    {
     "data": {
      "text/plain": [
       "3"
      ]
     },
     "execution_count": 30,
     "metadata": {},
     "output_type": "execute_result"
    }
   ],
   "source": [
    "fibonacci(4)"
   ]
  }
 ],
 "metadata": {
  "kernelspec": {
   "display_name": "Python 3",
   "language": "python",
   "name": "python3"
  },
  "language_info": {
   "codemirror_mode": {
    "name": "ipython",
    "version": 3
   },
   "file_extension": ".py",
   "mimetype": "text/x-python",
   "name": "python",
   "nbconvert_exporter": "python",
   "pygments_lexer": "ipython3",
   "version": "3.6.3"
  },
  "toc-showcode": false,
  "toc-showmarkdowntxt": true
 },
 "nbformat": 4,
 "nbformat_minor": 2
}
