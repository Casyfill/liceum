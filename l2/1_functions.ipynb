{
 "cells": [
  {
   "cell_type": "markdown",
   "metadata": {},
   "source": [
    "# Задача с переменными"
   ]
  },
  {
   "cell_type": "markdown",
   "metadata": {},
   "source": [
    "Классическая задача - несколько друзей-скряг обедают в ресторане и хотят с точностью до копейки посчитать чек. Налог - 13%, чаевые считаются с суммы заказа + налог. При этом каждый хочет отдать разное количество чаевых относительно своего заказа. Нужно посчитать общую сумму к оплате."
   ]
  },
  {
   "cell_type": "code",
   "execution_count": 1,
   "metadata": {},
   "outputs": [],
   "source": [
    "Ivan_order = 600\n",
    "Egor_order = 1000\n",
    "Danis_order = 300"
   ]
  },
  {
   "cell_type": "code",
   "execution_count": 7,
   "metadata": {},
   "outputs": [],
   "source": [
    "Ivan_gratitude = .2\n",
    "Egor_gratitude = .15\n",
    "Danis_gratitude = .22"
   ]
  },
  {
   "cell_type": "code",
   "execution_count": 4,
   "metadata": {},
   "outputs": [],
   "source": [
    "Tax = .13 # чаевые считаются от суммы заказа с налогами"
   ]
  },
  {
   "cell_type": "code",
   "execution_count": 5,
   "metadata": {},
   "outputs": [],
   "source": [
    "## Your code goes here"
   ]
  },
  {
   "cell_type": "code",
   "execution_count": 10,
   "metadata": {},
   "outputs": [
    {
     "name": "stdout",
     "output_type": "stream",
     "text": [
      "2526.68\n"
     ]
    }
   ],
   "source": [
    "## Your code goes here"
   ]
  },
  {
   "cell_type": "markdown",
   "metadata": {},
   "source": [
    "# Функции"
   ]
  },
  {
   "cell_type": "markdown",
   "metadata": {},
   "source": [
    "Как вы наверное заметили, в задаче выше есть мног повторений, а сам код кажется громоздким, длинным и с огромным потенциалом для ошибки (опечатка в переменной/числе приведет к резонным, но не правильным рассчетам. "
   ]
  },
  {
   "cell_type": "markdown",
   "metadata": {},
   "source": [
    "В терминах программистах этот код не DRY (Dont repeat yourself)"
   ]
  },
  {
   "cell_type": "markdown",
   "metadata": {},
   "source": [
    "Как улучшить этот код? Скорее всего, начать надо с энкапсуляции рассчетов в отдельные, четкие функции"
   ]
  },
  {
   "cell_type": "markdown",
   "metadata": {},
   "source": [
    "**Функция - часть кода, выделенная в отдельную логическую операцию, и как правила относетльно независимая от контекста**"
   ]
  },
  {
   "cell_type": "markdown",
   "metadata": {},
   "source": [
    "В питоне все функции (да и вообще все) публичные - любой может получить доступ, и при желании изменить любую функцию"
   ]
  },
  {
   "cell_type": "markdown",
   "metadata": {},
   "source": [
    "функции опредяются словом `def` (defenition) и последующим отступом для кода внутри. В питоне, в отличии от других языков, отступ - вопрос не только красифого форматирования, но самого языка. отступ определяет scope - контекст кода. Таким образом мы гарантируем что переменные внтури каждой функции, класса и тп, не будут конфликовать между друг другом.\n",
    "\n",
    "Имейте в виду - использование функций не \"бесплатно\" — сам факт вызова функции тратит немного памяти и времени. Все же, качество кода и психика разработчика как правило стоят больше."
   ]
  },
  {
   "cell_type": "markdown",
   "metadata": {},
   "source": [
    "## Function Declaration"
   ]
  },
  {
   "cell_type": "markdown",
   "metadata": {},
   "source": [
    "Пример функции:"
   ]
  },
  {
   "cell_type": "code",
   "execution_count": 14,
   "metadata": {},
   "outputs": [],
   "source": [
    "# def FUNCTIONNAME(ARGUEMENTS):\n",
    "#     '''DOCSTRING'''\n",
    "#     ACTUAL CODE\n",
    "\n",
    "def square(x):\n",
    "    '''returns the squared value of x'''\n",
    "    return x**2"
   ]
  },
  {
   "cell_type": "markdown",
   "metadata": {},
   "source": [
    "Функция выше возводит число в квадрат (и конечно таких функций писать не нужно). обратите внимание на слово `return` - оно определяет то, что функция возвращает как результат. никакой код ПОСЛЕ `return` исполняться не будет. Если в функции нет возврата, или он пустой (после return ничего нет), то функция будет возвращать `None` как результат (что часто вполне нас устраивает - например `print` ничего не возвращает."
   ]
  },
  {
   "cell_type": "markdown",
   "metadata": {},
   "source": [
    "Для функций и других контекстов, где не нужно ничего делать, контекст (инденсацию) нельзя оставлять совсем пустым. Лучшее решение - указать ключевое слово `pass` (ничего не делать).\n",
    "Это часто используется для функций-пустышек:"
   ]
  },
  {
   "cell_type": "code",
   "execution_count": 36,
   "metadata": {},
   "outputs": [
    {
     "ename": "SyntaxError",
     "evalue": "unexpected EOF while parsing (<ipython-input-36-c466a377c17e>, line 1)",
     "output_type": "error",
     "traceback": [
      "\u001b[0;36m  File \u001b[0;32m\"<ipython-input-36-c466a377c17e>\"\u001b[0;36m, line \u001b[0;32m1\u001b[0m\n\u001b[0;31m    def myfync(x):\u001b[0m\n\u001b[0m                  ^\u001b[0m\n\u001b[0;31mSyntaxError\u001b[0m\u001b[0;31m:\u001b[0m unexpected EOF while parsing\n"
     ]
    }
   ],
   "source": [
    "def myfync(x):"
   ]
  },
  {
   "cell_type": "code",
   "execution_count": 37,
   "metadata": {},
   "outputs": [],
   "source": [
    "def myfunc(x):\n",
    "    pass"
   ]
  },
  {
   "cell_type": "markdown",
   "metadata": {},
   "source": [
    "## Документация  (Docstrings)"
   ]
  },
  {
   "cell_type": "markdown",
   "metadata": {},
   "source": [
    "`Docstring` - текст аннотации функции, определяемый как текст (str) на первой строчке функции;  он будет показан во множестве подсказок; в Jupyter его можно посмотреть используя вопросительный знак:"
   ]
  },
  {
   "cell_type": "code",
   "execution_count": 15,
   "metadata": {},
   "outputs": [
    {
     "data": {
      "text/plain": [
       "\u001b[0;31mSignature:\u001b[0m  \u001b[0msquare\u001b[0m\u001b[0;34m(\u001b[0m\u001b[0mx\u001b[0m\u001b[0;34m)\u001b[0m\u001b[0;34m\u001b[0m\u001b[0;34m\u001b[0m\u001b[0m\n",
       "\u001b[0;31mDocstring:\u001b[0m returns the squared value of x\n",
       "\u001b[0;31mFile:\u001b[0m      ~/Dropbox/personal_projects/liceum/l2/<ipython-input-14-49b2a212c13e>\n",
       "\u001b[0;31mType:\u001b[0m      function\n"
      ]
     },
     "metadata": {},
     "output_type": "display_data"
    }
   ],
   "source": [
    "? square"
   ]
  },
  {
   "cell_type": "markdown",
   "metadata": {},
   "source": [
    "Разнообразные редакторы кода, например VScode, будут показывать его при наведении на функцию. Советуем ВСЕГДА прописывать докстринги функций, в идеале указывая все подробности. Типичный шаблон докстринга:\n",
    "\n",
    "''' краткое описание функции\n",
    "\n",
    "длинное описание функции\n",
    "\n",
    "Args:\n",
    "    param1(type) - описание\n",
    "    param2(type) - oписание\n",
    "Returns:\n",
    "    type - описание\n",
    "    \n",
    "'''"
   ]
  },
  {
   "cell_type": "markdown",
   "metadata": {},
   "source": [
    "**Примечание:** мы рекумендуем писать документацию сразу после названия функции - часто это позволит вам продумать код функции наперед"
   ]
  },
  {
   "cell_type": "markdown",
   "metadata": {},
   "source": [
    "## Значения по умолчанию"
   ]
  },
  {
   "cell_type": "markdown",
   "metadata": {},
   "source": [
    "Мы можем указать дефолтное значение для всех или части аргументов, просто \"приравняв\" аргумент в скобках к нему:"
   ]
  },
  {
   "cell_type": "code",
   "execution_count": 16,
   "metadata": {},
   "outputs": [],
   "source": [
    "def power(x, v=2):\n",
    "    '''returns value of x in power of v\n",
    "    \n",
    "    Args:\n",
    "        x(number) -- any number\n",
    "        v(number) -- value of power\n",
    "    Returns:\n",
    "        number -- x**v\n",
    "    \n",
    "    '''\n",
    "    return x**v"
   ]
  },
  {
   "cell_type": "code",
   "execution_count": 19,
   "metadata": {},
   "outputs": [
    {
     "data": {
      "text/plain": [
       "4"
      ]
     },
     "execution_count": 19,
     "metadata": {},
     "output_type": "execute_result"
    }
   ],
   "source": [
    "power(2)"
   ]
  },
  {
   "cell_type": "code",
   "execution_count": 25,
   "metadata": {},
   "outputs": [
    {
     "data": {
      "text/plain": [
       "8"
      ]
     },
     "execution_count": 25,
     "metadata": {},
     "output_type": "execute_result"
    }
   ],
   "source": [
    "power(2, 3)"
   ]
  },
  {
   "cell_type": "markdown",
   "metadata": {},
   "source": [
    "Аргументы можно определять по очередности, или обозначит конкретный агрумент, о котором мы говорим (в таком случае очередность не имеет значения). Как правило мы рекомендуем использовать второй вариант, особенно если это не первое значение - так код становится намного более читаемым и защищенным от ошибок."
   ]
  },
  {
   "cell_type": "code",
   "execution_count": 18,
   "metadata": {},
   "outputs": [
    {
     "data": {
      "text/plain": [
       "8"
      ]
     },
     "execution_count": 18,
     "metadata": {},
     "output_type": "execute_result"
    }
   ],
   "source": [
    "power(2, v=3)"
   ]
  },
  {
   "cell_type": "markdown",
   "metadata": {},
   "source": [
    "Обратите внимание - **по правилам питона все аргументы со значением по умолчанию должны находиться в конце списка аргументов**"
   ]
  },
  {
   "cell_type": "markdown",
   "metadata": {},
   "source": [
    "## Практика 1"
   ]
  },
  {
   "cell_type": "markdown",
   "metadata": {},
   "source": [
    "Давайте попробуем использовать функции в задаче, с которой мы начали"
   ]
  },
  {
   "cell_type": "markdown",
   "metadata": {},
   "source": [
    "В задаче можно выделить 2 повторяющиеся операции:\n",
    "1. Подсчет суммы с учетом налогов\n",
    "2. Подсчет суммы с учетом чаевых\n"
   ]
  },
  {
   "cell_type": "code",
   "execution_count": 31,
   "metadata": {},
   "outputs": [],
   "source": [
    "## Подсчет налогов"
   ]
  },
  {
   "cell_type": "code",
   "execution_count": 32,
   "metadata": {},
   "outputs": [],
   "source": [
    "## Подсчет с чаевыми"
   ]
  },
  {
   "cell_type": "code",
   "execution_count": 33,
   "metadata": {},
   "outputs": [],
   "source": [
    "## Тот же код в результате"
   ]
  },
  {
   "cell_type": "markdown",
   "metadata": {},
   "source": [
    "## Множественные значения"
   ]
  },
  {
   "cell_type": "markdown",
   "metadata": {},
   "source": [
    "Иногда в функцию необходимо передать изменяемое количество аргументов. Самый простой пример такой функции - `print`"
   ]
  },
  {
   "cell_type": "code",
   "execution_count": 20,
   "metadata": {},
   "outputs": [
    {
     "name": "stdout",
     "output_type": "stream",
     "text": [
      "x\n"
     ]
    }
   ],
   "source": [
    "print('x')"
   ]
  },
  {
   "cell_type": "code",
   "execution_count": 21,
   "metadata": {},
   "outputs": [
    {
     "name": "stdout",
     "output_type": "stream",
     "text": [
      "x y z\n"
     ]
    }
   ],
   "source": [
    "print('x', 'y', 'z')"
   ]
  },
  {
   "cell_type": "markdown",
   "metadata": {},
   "source": [
    "такой функционал достигается с помощью спец-сигнала зведочки:"
   ]
  },
  {
   "cell_type": "code",
   "execution_count": 22,
   "metadata": {},
   "outputs": [],
   "source": [
    "def my_sum(*args):\n",
    "    return sum(args)"
   ]
  },
  {
   "cell_type": "code",
   "execution_count": 23,
   "metadata": {},
   "outputs": [
    {
     "data": {
      "text/plain": [
       "1"
      ]
     },
     "execution_count": 23,
     "metadata": {},
     "output_type": "execute_result"
    }
   ],
   "source": [
    "my_sum(1)"
   ]
  },
  {
   "cell_type": "code",
   "execution_count": 24,
   "metadata": {},
   "outputs": [
    {
     "data": {
      "text/plain": [
       "10"
      ]
     },
     "execution_count": 24,
     "metadata": {},
     "output_type": "execute_result"
    }
   ],
   "source": [
    "my_sum(1,2,3,4)"
   ]
  },
  {
   "cell_type": "markdown",
   "metadata": {},
   "source": [
    "Обратите внимание что `args` в этом примере - абстрактное значение, мы не обязаны называть его так, но это стандартная конвенция - так всем сразу будет понятно, что происходит"
   ]
  },
  {
   "cell_type": "markdown",
   "metadata": {},
   "source": [
    "в данном случае args - список (list). О списках и как с ними работать мы поговорим в следующем ноутбуке"
   ]
  },
  {
   "cell_type": "markdown",
   "metadata": {},
   "source": [
    "Таким же образом иногда мы можем не знать заранее всех именных переменных. для этого подобным образом используют двойную звездочку и переменную `kwargs` (keyword arguements)"
   ]
  },
  {
   "cell_type": "code",
   "execution_count": 27,
   "metadata": {},
   "outputs": [],
   "source": [
    "def my_sum(**kwargs):\n",
    "    print( '|'.join(kwargs.keys()) + ': ', sum(kwargs.values()))"
   ]
  },
  {
   "cell_type": "code",
   "execution_count": 28,
   "metadata": {},
   "outputs": [
    {
     "name": "stdout",
     "output_type": "stream",
     "text": [
      "Hello|World:  15\n"
     ]
    }
   ],
   "source": [
    "my_sum(Hello=5, World=10)"
   ]
  },
  {
   "cell_type": "markdown",
   "metadata": {},
   "source": [
    "`Kwargs` в этом контексте используется как словарь (`dict`), `kwargs.keys()` и `kwargs.values()` - методы словарей, мы их разберем в следующем ноутбуке"
   ]
  },
  {
   "cell_type": "markdown",
   "metadata": {},
   "source": [
    "Зачем это нужно? Основных кейсов три: \n",
    "\n",
    "1. ваша функция - это обертка над какой-то сложной функцией, для которой все настройки переписывать второй раз (как аргументы вашей функции) странно\n",
    "2. ваша функция принимает какую-то функцию как аргумент, соответственно мы не знаем ее параметров наперед\n",
    "3. ваша функция будет вызвана внутри другого кода, который может передавать дополнительные, для вас не важные аргументы. в таком случае дополнительные аргументы будут попадать в args и kwargs, и код не будет вызывать ошибку"
   ]
  },
  {
   "cell_type": "code",
   "execution_count": 34,
   "metadata": {},
   "outputs": [],
   "source": [
    "# пример:\n",
    "\n",
    "def batch_executor(variables, func, **kwargs):\n",
    "    \n",
    "    return func(variables, **kwargs)"
   ]
  },
  {
   "cell_type": "markdown",
   "metadata": {},
   "source": [
    "обратите внимание выше - во время ВЫЗОВА функции мы можем передать список или словарь как множественные агрументы, те та же операция производится наоборот."
   ]
  },
  {
   "cell_type": "markdown",
   "metadata": {},
   "source": [
    "**args** и **kwargs** можно совмещать, во многих функциях вы заметите такой паттерн:"
   ]
  },
  {
   "cell_type": "code",
   "execution_count": 35,
   "metadata": {},
   "outputs": [],
   "source": [
    "def func(a, b, c=3, *args, **kwargs):\n",
    "    return a + b + c"
   ]
  },
  {
   "cell_type": "markdown",
   "metadata": {},
   "source": [
    "##  Практика 2"
   ]
  },
  {
   "cell_type": "markdown",
   "metadata": {},
   "source": [
    "### Import"
   ]
  },
  {
   "cell_type": "markdown",
   "metadata": {},
   "source": [
    "Давайте потренируемся работать с args и kwargs на примере. Ознакомьтесь с кодом ниже:"
   ]
  },
  {
   "cell_type": "code",
   "execution_count": 4,
   "metadata": {},
   "outputs": [],
   "source": [
    "# настройка jupyter - теперь картинки будут в \"теле\" ноутбука\n",
    "%matplotlib inline\n",
    "\n",
    "# импорт интерфейса матплотлиб\n",
    "import pylab as plt               \n",
    "\n",
    "# стиль графиков 538 (как на сайте fivethirtyeight.com Нейта Сильера)\n",
    "plt.style.use('fivethirtyeight')  "
   ]
  },
  {
   "cell_type": "markdown",
   "metadata": {},
   "source": [
    "В коде выше мы впервые:\n",
    "    1. использовали \"магию\" jupyter - мы будем использовать еще несколько примеров в будущем.\n",
    "    2. импортировали нашу первую библиотеку!\n",
    "    \n",
    "Писать свой код без использования библиотек - не путь настоящего pythonista. Одна из \"заповедей\" питона - \"battaries included\"; Питон имеет пару десятков встроенных библиотек (например для работы с json, файловой системой, sqlite, и др.). Кроме этого, существуют тысячи сторонних библиотек, некоторые из них, включая `matplotlib`, очень популярны."
   ]
  },
  {
   "cell_type": "markdown",
   "metadata": {},
   "source": [
    "библиотеки ипортируются с помощью слова `import`. В данном случае мы импортируем с переименованием - для краткости. Часто такие переименования стандартны, так что все поймут о чем идет речь; свои названия придумывть можно, но не стоит. Другие известные \"клички\":\n",
    "\n",
    "```\n",
    "import numpy as np\n",
    "import pandas as pd\n",
    "import seaborn as sns\n",
    "```"
   ]
  },
  {
   "cell_type": "markdown",
   "metadata": {},
   "source": [
    "Кстати, импортировать строго советуется в начале файла - так вы сразу узнаете, если какая-то библиотека у вас не установленна. В этом ноутбуке мы проигнорируем собственный совет"
   ]
  },
  {
   "cell_type": "markdown",
   "metadata": {},
   "source": [
    "### Скаттерплот"
   ]
  },
  {
   "cell_type": "markdown",
   "metadata": {},
   "source": [
    "Теперь:"
   ]
  },
  {
   "cell_type": "code",
   "execution_count": 19,
   "metadata": {},
   "outputs": [
    {
     "data": {
      "image/png": "[encoded data removed]",
      "text/plain": [
       "<matplotlib.figure.Figure at 0x11390e780>"
      ]
     },
     "metadata": {},
     "output_type": "display_data"
    }
   ],
   "source": [
    "x = [1,2] # list, список - обсудим в сл. ноутбуке\n",
    "y = [2,1]\n",
    "\n",
    "plt.scatter(x, y)\n",
    "plt.title('Two dots')\n",
    "plt.show()"
   ]
  },
  {
   "cell_type": "markdown",
   "metadata": {},
   "source": [
    "Ваша задача - сделать функция, которая принимала бы параметры точек и название графика, и производила бы аналогичный график"
   ]
  },
  {
   "cell_type": "code",
   "execution_count": 14,
   "metadata": {},
   "outputs": [],
   "source": [
    "### Your code here"
   ]
  },
  {
   "cell_type": "markdown",
   "metadata": {},
   "source": [
    "А как сделать аналогичную функцию для N точек? И сделать так, чтобы по умолчанию название было бы \"Dots\"?"
   ]
  },
  {
   "cell_type": "code",
   "execution_count": 17,
   "metadata": {},
   "outputs": [],
   "source": [
    "### Your code here"
   ]
  },
  {
   "cell_type": "markdown",
   "metadata": {},
   "source": [
    "На самом деле скаттерплот принимает еще много параметров/настроек визуализации - например, `s` (размер маркера), `color`(цвет) и `alpha`(прозрачность). как мы можем быть уверены что все они доступны для изменения в нашей функции?"
   ]
  },
  {
   "cell_type": "markdown",
   "metadata": {},
   "source": [
    "[scatterplot docs](https://matplotlib.org/api/_as_gen/matplotlib.pyplot.scatter.html)"
   ]
  },
  {
   "cell_type": "code",
   "execution_count": 20,
   "metadata": {},
   "outputs": [],
   "source": [
    "### Your code here"
   ]
  },
  {
   "cell_type": "markdown",
   "metadata": {},
   "source": [
    "# Лямбда-функции"
   ]
  },
  {
   "cell_type": "markdown",
   "metadata": {},
   "source": [
    "В некоторых кейсах приходится создавать простейшие функции \"на один раз\". В таком случае стоит воспользоваться _лямбда-функциями_ -- анонимными, короткими функциями, которые можно написать в одну линию"
   ]
  },
  {
   "cell_type": "code",
   "execution_count": 37,
   "metadata": {},
   "outputs": [
    {
     "data": {
      "text/plain": [
       "<function __main__.<lambda>>"
      ]
     },
     "execution_count": 37,
     "metadata": {},
     "output_type": "execute_result"
    }
   ],
   "source": [
    "lambda x: x[1:].tittle()"
   ]
  },
  {
   "cell_type": "code",
   "execution_count": 38,
   "metadata": {},
   "outputs": [
    {
     "data": {
      "text/plain": [
       "<function __main__.<lambda>>"
      ]
     },
     "execution_count": 38,
     "metadata": {},
     "output_type": "execute_result"
    }
   ],
   "source": [
    "lambda a, b: f'{a}|{b}'"
   ]
  },
  {
   "cell_type": "markdown",
   "metadata": {},
   "source": [
    "Лямбды не рекомендуется хранить - лучше используйте их сразу в контексте кода, который их будет использовать"
   ]
  },
  {
   "cell_type": "markdown",
   "metadata": {},
   "source": [
    "# Аннотации типа (Type Annotations)"
   ]
  },
  {
   "cell_type": "markdown",
   "metadata": {},
   "source": [
    "Хотя мы не будем их использовать в нашем курсе, где-то вы можете заметить усложненный синтаксис функций, типа такого:"
   ]
  },
  {
   "cell_type": "code",
   "execution_count": 35,
   "metadata": {},
   "outputs": [],
   "source": [
    "def my_typeannoted_func(a:int, b:int) -> float:\n",
    "    return a / b"
   ]
  },
  {
   "cell_type": "markdown",
   "metadata": {},
   "source": [
    "Все эти `:int` в данном случае - аннотации типа параметра, они подсказывают, какой тип параметра ожидается, или в случае `-> float` - какие стоит ожидать. Аннотации типа появились в 3 питоне, и они ничего не делают с самим кодом - их наличие или отсутствие ни на что не влияет. "
   ]
  },
  {
   "cell_type": "markdown",
   "metadata": {},
   "source": [
    "2018 год можно назвать годом аннотаций типов - они стали популярны не только в питоне, но и например в  javascript - через typescript. Дело в том что оба языка - динамические, они не имеют никаких гарантий типов. Как результат, их удобно писать, но сам код исполняется сравнительно долго, и в дальней перспективе есть шанс появится багам и ошибкам."
   ]
  },
  {
   "cell_type": "markdown",
   "metadata": {},
   "source": [
    "Аннотации типов сами по себе не влияют на производительность - но позволяют заранее проверить, правильно ли код использует типы. Отдельная программа (`mypy` и другие ) проходится по функциям и проверяет, передаются ли аргументы правильного типа. Кроме того, аннотации оказались полезны для разнообразных пограничных вариантов - например, при разработке API фреймворки могут использовать их чтобы \"под капотом\" валидитровать запросы."
   ]
  },
  {
   "cell_type": "raw",
   "metadata": {},
   "source": [
    "Наконец, существует инициатива `mypyc`, цель которой - позволить конвертировать код на питоне напрямую в код на _С_, - что должно в разы ускорить его исполнение, в том числе тк в _C_ переменные не динамические, их тип четко определен"
   ]
  },
  {
   "cell_type": "code",
   "execution_count": null,
   "metadata": {},
   "outputs": [],
   "source": []
  }
 ],
 "metadata": {
  "kernelspec": {
   "display_name": "Python 3",
   "language": "python",
   "name": "python3"
  },
  "language_info": {
   "codemirror_mode": {
    "name": "ipython",
    "version": 3
   },
   "file_extension": ".py",
   "mimetype": "text/x-python",
   "name": "python",
   "nbconvert_exporter": "python",
   "pygments_lexer": "ipython3",
   "version": "3.6.3"
  },
  "toc-autonumbering": true,
  "toc-showcode": false
 },
 "nbformat": 4,
 "nbformat_minor": 2
}
