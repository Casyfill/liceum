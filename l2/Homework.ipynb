{
 "cells": [
  {
   "cell_type": "markdown",
   "metadata": {},
   "source": [
    "# Домашнее задание 2"
   ]
  },
  {
   "cell_type": "code",
   "execution_count": 2,
   "metadata": {},
   "outputs": [],
   "source": [
    "url = 'https://feeds.citibikenyc.com/stations/stations.json'"
   ]
  },
  {
   "cell_type": "markdown",
   "metadata": {},
   "source": [
    "по урл выше ситибайк Нью Йорка сообщает о статусе своих станций в реальном времени.\n",
    "\n",
    "\n",
    "Задача - написать **единую функцию**, которая не принимает никаких аргументов, а на выходе возвращает простой словарь со следующей информацией:\n",
    "\n",
    "- время чтения запроса (execution time)\n",
    "- количество станций в сети\n",
    "- сколько из них — testStation\n",
    "- сколько из них загружены велосипедами более чем на 80%?\n",
    "- cколько из них пусты более чем на 80%?"
   ]
  },
  {
   "cell_type": "code",
   "execution_count": 3,
   "metadata": {},
   "outputs": [],
   "source": [
    "def citibike_analytics() -> dict:\n",
    "    # your code here\n",
    "    pass"
   ]
  },
  {
   "cell_type": "code",
   "execution_count": null,
   "metadata": {},
   "outputs": [],
   "source": []
  }
 ],
 "metadata": {
  "kernelspec": {
   "display_name": "Python 3",
   "language": "python",
   "name": "python3"
  },
  "language_info": {
   "codemirror_mode": {
    "name": "ipython",
    "version": 3
   },
   "file_extension": ".py",
   "mimetype": "text/x-python",
   "name": "python",
   "nbconvert_exporter": "python",
   "pygments_lexer": "ipython3",
   "version": "3.6.3"
  }
 },
 "nbformat": 4,
 "nbformat_minor": 2
}
