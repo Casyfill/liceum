{
 "cells": [
  {
   "cell_type": "markdown",
   "metadata": {},
   "source": [
    "# LUIGI for data pipelines\n",
    "[docs](https://github.com/spotify/luigi)"
   ]
  },
  {
   "cell_type": "code",
   "execution_count": null,
   "metadata": {},
   "outputs": [],
   "source": []
  },
  {
   "cell_type": "markdown",
   "metadata": {},
   "source": [
    "### Преимущества\n",
    "\n",
    "- Графы заданий, в том числе пересекающиеся (DAGs)\n",
    "- Выполненное задание не будет выполняться еще раз\n",
    "- простой, прозрачный интерфейс\n",
    "- Как правило, выполнение задания обозначено наличием файла *\n",
    "- Вся мощь наследования\n",
    "- Исполнение \"По площадям\" (in bulk)\n",
    "- \"бесплатный\" интерфейс\n",
    "\n",
    "### Недостатки\n",
    "\n",
    "- \"не очень\" масштабируется (весь даг на одной машине)\n",
    "- нет \"активного\" UI (нельзя стартовать задание по кнопке)\n",
    "- нет своего скеджулера (надо использовать cron, локально)"
   ]
  },
  {
   "cell_type": "code",
   "execution_count": null,
   "metadata": {},
   "outputs": [],
   "source": []
  }
 ],
 "metadata": {
  "kernelspec": {
   "display_name": "Python 3",
   "language": "python",
   "name": "python3"
  },
  "language_info": {
   "codemirror_mode": {
    "name": "ipython",
    "version": 3
   },
   "file_extension": ".py",
   "mimetype": "text/x-python",
   "name": "python",
   "nbconvert_exporter": "python",
   "pygments_lexer": "ipython3",
   "version": "3.7.3"
  }
 },
 "nbformat": 4,
 "nbformat_minor": 2
}
