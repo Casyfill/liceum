{
 "cells": [
  {
   "cell_type": "markdown",
   "metadata": {},
   "source": [
    "Давайте теперь попробуем использовать знания этого занятия для чего-то полезного.\n",
    "Часто доступные нам данные представленны не в том формате, или на их основе можно получить дополнительную информацию. Иногда для получения этой информации нам нужно отправить запросы и обработать ответы из онлайн-сервиса\n",
    "\n",
    "Классический пример - геокодинг, те определение координат места по его адресу. Геокодинг по всему миру - крайне сложная задача, требующая сравнительно большой инфраструктуры и больших объемов постоянно обновляющейся информации. Геокодинг как услуга предоставляется компаниями типа Yandex, Google, Mapbox, Carto и другими, — а так-же организацией Open Street Maps на основе их данных. Имейте в виду - большинство сервисов имеют бесплатную квоту, но практически все - имеют лицензию, во многих случаях (Google, Yandex) очень суровую."
   ]
  },
  {
   "cell_type": "markdown",
   "metadata": {},
   "source": [
    "Давайте представим что у нас есть набор данных с адресами, и нам нужно получить их координаты. Использовать будем сервис геолокации от OSM - Nominatim."
   ]
  },
  {
   "cell_type": "markdown",
   "metadata": {},
   "source": [
    "Посмотрите на документацию сервиса: [ссылка](http://nominatim.org/release-docs/latest/api/Search/)"
   ]
  },
  {
   "cell_type": "markdown",
   "metadata": {},
   "source": [
    "Теперь обсудим технические детали:\n",
    "    \n",
    "1. Дано: файл csv с адресами\n",
    "2. Задача: Нужно записать такой-же файл, но уже с координатами. Некоторые адреса могут не распознаться!\n",
    "3. Решение: использовать сервис Nominatim\n",
    "    * прочитать файл и устроить проход по строкам в цикле\n",
    "    * для каждой строки сформировать запрос к nominatim, получить, распарсить и сохранить результат\n",
    "    * все данные сохранить в новый файл\n",
    "    "
   ]
  },
  {
   "cell_type": "code",
   "execution_count": 19,
   "metadata": {},
   "outputs": [],
   "source": [
    "from csv import DictReader, DictWriter  # чтение csv\n",
    "import requests as rq\n",
    "import time"
   ]
  },
  {
   "cell_type": "markdown",
   "metadata": {},
   "source": [
    "# Чтение данных"
   ]
  },
  {
   "cell_type": "code",
   "execution_count": 2,
   "metadata": {},
   "outputs": [],
   "source": [
    "path = '../data/l2/geographies.csv'"
   ]
  },
  {
   "cell_type": "code",
   "execution_count": 10,
   "metadata": {},
   "outputs": [],
   "source": [
    "with open(path, mode='r') as f: # mode r -- read\n",
    "    data = [row for row in DictReader(f)]"
   ]
  },
  {
   "cell_type": "markdown",
   "metadata": {},
   "source": [
    "# Функция запроса к Nominatim"
   ]
  },
  {
   "cell_type": "code",
   "execution_count": 14,
   "metadata": {},
   "outputs": [
    {
     "data": {
      "text/plain": [
       "\u001b[0;31mSignature:\u001b[0m \u001b[0mrq\u001b[0m\u001b[0;34m.\u001b[0m\u001b[0mget\u001b[0m\u001b[0;34m(\u001b[0m\u001b[0murl\u001b[0m\u001b[0;34m,\u001b[0m \u001b[0mparams\u001b[0m\u001b[0;34m=\u001b[0m\u001b[0;32mNone\u001b[0m\u001b[0;34m,\u001b[0m \u001b[0;34m**\u001b[0m\u001b[0mkwargs\u001b[0m\u001b[0;34m)\u001b[0m\u001b[0;34m\u001b[0m\u001b[0m\n",
       "\u001b[0;31mDocstring:\u001b[0m\n",
       "Sends a GET request.\n",
       "\n",
       ":param url: URL for the new :class:`Request` object.\n",
       ":param params: (optional) Dictionary or bytes to be sent in the query string for the :class:`Request`.\n",
       ":param \\*\\*kwargs: Optional arguments that ``request`` takes.\n",
       ":return: :class:`Response <Response>` object\n",
       ":rtype: requests.Response\n",
       "\u001b[0;31mFile:\u001b[0m      ~/anaconda3/lib/python3.6/site-packages/requests/api.py\n",
       "\u001b[0;31mType:\u001b[0m      function\n"
      ]
     },
     "metadata": {},
     "output_type": "display_data"
    }
   ],
   "source": [
    "?rq.get()"
   ]
  },
  {
   "cell_type": "code",
   "execution_count": 20,
   "metadata": {},
   "outputs": [],
   "source": [
    "def geocode(address:str, sleep=1, **kwargs):\n",
    "    '''geocode using nomitatim service\n",
    "    \n",
    "    docs: http://nominatim.org/release-docs/latest/api/Search/\n",
    "    \n",
    "    args:\n",
    "        address(str): address to query'''\n",
    "    url = 'https://nominatim.openstreetmap.org/search'\n",
    "    params = {'q':address, 'format':'geojson'}.update(kwargs)\n",
    "\n",
    "    r = rq.get(url, params=params)\n",
    "    r.raise_for_status()  # raise if something wrong with response\n",
    "    time.sleep(sleep) # dodge nominatim's requests-per-second limits\n",
    "    \n",
    "    return r.json()  # requests knows how to parse json answer into dictionary \n",
    "    \n",
    "    \n",
    "    "
   ]
  },
  {
   "cell_type": "markdown",
   "metadata": {},
   "source": [
    "обратите внимание, что nominatim может фильтравать адреса для конкретного города/страны - это удобно, если ваши адреса находятся в одном городе"
   ]
  },
  {
   "cell_type": "code",
   "execution_count": 24,
   "metadata": {},
   "outputs": [
    {
     "data": {
      "text/plain": [
       "{'features': [{'bbox': [-73.9918909, 40.7386806, -73.9917909, 40.7387806],\n",
       "   'geometry': {'coordinates': [-73.9918409, 40.7387306], 'type': 'Point'},\n",
       "   'properties': {'category': 'place',\n",
       "    'display_name': '130, 5th Avenue, Flatiron District, Manhattan, Manhattan Community Board 5, New York County, NYC, New York, 10011, USA',\n",
       "    'importance': 0.831,\n",
       "    'osm_id': '2703043812',\n",
       "    'osm_type': 'node',\n",
       "    'place_id': '28682016',\n",
       "    'place_rank': '30',\n",
       "    'type': 'house'},\n",
       "   'type': 'Feature'}],\n",
       " 'licence': 'Data © OpenStreetMap contributors, ODbL 1.0. https://osm.org/copyright',\n",
       " 'type': 'FeatureCollection'}"
      ]
     },
     "execution_count": 24,
     "metadata": {},
     "output_type": "execute_result"
    }
   ],
   "source": [
    "r = geocode('130 5th avenue, New York, NY, 10011, USA')\n",
    "r"
   ]
  },
  {
   "cell_type": "markdown",
   "metadata": {},
   "source": [
    "Запрос отдает массив фич (точек)ю Для простоты будем считать что первая точка всегда верная, смотрим только на нее. Но нужно предусмотреть и вариант с 0 фич!"
   ]
  },
  {
   "cell_type": "code",
   "execution_count": 25,
   "metadata": {},
   "outputs": [],
   "source": [
    "def _pull_coords(response):\n",
    "    if len(response['features']) == 0:\n",
    "        return None\n",
    "    \n",
    "    return response['features'][0]['geometry']['coordinates']"
   ]
  },
  {
   "cell_type": "markdown",
   "metadata": {},
   "source": [
    "# Построим цикл"
   ]
  },
  {
   "cell_type": "code",
   "execution_count": 30,
   "metadata": {},
   "outputs": [],
   "source": [
    "def _geocode_data(data):\n",
    "    new_data  = data.copy()\n",
    "    \n",
    "    for row in data:\n",
    "        r = geocode(row['city'])\n",
    "        coords = _pull_coords(r)\n",
    "\n",
    "        row['lat'], row['lon'] = coords\n",
    "    return data"
   ]
  },
  {
   "cell_type": "code",
   "execution_count": 32,
   "metadata": {},
   "outputs": [],
   "source": [
    "result = _geocode_data(data)"
   ]
  },
  {
   "cell_type": "markdown",
   "metadata": {},
   "source": [
    "# Сохраним файл"
   ]
  },
  {
   "cell_type": "code",
   "execution_count": 35,
   "metadata": {},
   "outputs": [],
   "source": [
    "out_path = 'geolocated_capitals.csv'\n",
    "\n",
    "with open(out_path, 'w') as csvfile:\n",
    "        writer = DictWriter(csvfile, fieldnames=result[0].keys())\n",
    "        writer.writeheader()\n",
    "        \n",
    "        for data in result:\n",
    "            writer.writerow(data)"
   ]
  },
  {
   "cell_type": "code",
   "execution_count": null,
   "metadata": {},
   "outputs": [],
   "source": []
  }
 ],
 "metadata": {
  "kernelspec": {
   "display_name": "Python 3",
   "language": "python",
   "name": "python3"
  },
  "language_info": {
   "codemirror_mode": {
    "name": "ipython",
    "version": 3
   },
   "file_extension": ".py",
   "mimetype": "text/x-python",
   "name": "python",
   "nbconvert_exporter": "python",
   "pygments_lexer": "ipython3",
   "version": "3.6.3"
  }
 },
 "nbformat": 4,
 "nbformat_minor": 2
}
