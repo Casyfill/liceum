{
 "cells": [
  {
   "cell_type": "markdown",
   "metadata": {},
   "source": [
    "# В каком районе станция?"
   ]
  },
  {
   "cell_type": "markdown",
   "metadata": {},
   "source": [
    "[old new yorker app](https://projects.newyorker.com/story/citi-bike.html)"
   ]
  },
  {
   "cell_type": "markdown",
   "metadata": {},
   "source": [
    "![caption](./_assets/map.png)"
   ]
  },
  {
   "cell_type": "markdown",
   "metadata": {},
   "source": [
    "В первой части лекцции мы попробуем получить дополнительную информацию о станциях - в каком районе города они находятся - используя reverse geocoding,\n",
    "а заодно научимся использовать **apply** и **merge**"
   ]
  },
  {
   "cell_type": "code",
   "execution_count": 12,
   "metadata": {},
   "outputs": [],
   "source": [
    "%matplotlib inline\n",
    "\n",
    "import pylab as plt\n",
    "import pandas as pd"
   ]
  },
  {
   "cell_type": "code",
   "execution_count": 2,
   "metadata": {},
   "outputs": [],
   "source": [
    "path = '../data/l5/201801-citibike-tripdata.csv.zip'\n",
    "df = pd.read_csv(path)"
   ]
  },
  {
   "cell_type": "code",
   "execution_count": 3,
   "metadata": {},
   "outputs": [
    {
     "data": {
      "text/html": [
       "<div>\n",
       "<style scoped>\n",
       "    .dataframe tbody tr th:only-of-type {\n",
       "        vertical-align: middle;\n",
       "    }\n",
       "\n",
       "    .dataframe tbody tr th {\n",
       "        vertical-align: top;\n",
       "    }\n",
       "\n",
       "    .dataframe thead th {\n",
       "        text-align: right;\n",
       "    }\n",
       "</style>\n",
       "<table border=\"1\" class=\"dataframe\">\n",
       "  <thead>\n",
       "    <tr style=\"text-align: right;\">\n",
       "      <th></th>\n",
       "      <th>tripduration</th>\n",
       "      <th>starttime</th>\n",
       "      <th>stoptime</th>\n",
       "      <th>start station id</th>\n",
       "      <th>start station name</th>\n",
       "      <th>start station latitude</th>\n",
       "      <th>start station longitude</th>\n",
       "      <th>end station id</th>\n",
       "      <th>end station name</th>\n",
       "      <th>end station latitude</th>\n",
       "      <th>end station longitude</th>\n",
       "      <th>bikeid</th>\n",
       "      <th>usertype</th>\n",
       "      <th>birth year</th>\n",
       "      <th>gender</th>\n",
       "    </tr>\n",
       "  </thead>\n",
       "  <tbody>\n",
       "    <tr>\n",
       "      <th>0</th>\n",
       "      <td>970</td>\n",
       "      <td>2018-01-01 13:50:57.4340</td>\n",
       "      <td>2018-01-01 14:07:08.1860</td>\n",
       "      <td>72</td>\n",
       "      <td>W 52 St &amp; 11 Ave</td>\n",
       "      <td>40.767272</td>\n",
       "      <td>-73.993929</td>\n",
       "      <td>505</td>\n",
       "      <td>6 Ave &amp; W 33 St</td>\n",
       "      <td>40.749013</td>\n",
       "      <td>-73.988484</td>\n",
       "      <td>31956</td>\n",
       "      <td>Subscriber</td>\n",
       "      <td>1992</td>\n",
       "      <td>1</td>\n",
       "    </tr>\n",
       "    <tr>\n",
       "      <th>1</th>\n",
       "      <td>723</td>\n",
       "      <td>2018-01-01 15:33:30.1820</td>\n",
       "      <td>2018-01-01 15:45:33.3410</td>\n",
       "      <td>72</td>\n",
       "      <td>W 52 St &amp; 11 Ave</td>\n",
       "      <td>40.767272</td>\n",
       "      <td>-73.993929</td>\n",
       "      <td>3255</td>\n",
       "      <td>8 Ave &amp; W 31 St</td>\n",
       "      <td>40.750585</td>\n",
       "      <td>-73.994685</td>\n",
       "      <td>32536</td>\n",
       "      <td>Subscriber</td>\n",
       "      <td>1969</td>\n",
       "      <td>1</td>\n",
       "    </tr>\n",
       "    <tr>\n",
       "      <th>2</th>\n",
       "      <td>496</td>\n",
       "      <td>2018-01-01 15:39:18.3370</td>\n",
       "      <td>2018-01-01 15:47:35.1720</td>\n",
       "      <td>72</td>\n",
       "      <td>W 52 St &amp; 11 Ave</td>\n",
       "      <td>40.767272</td>\n",
       "      <td>-73.993929</td>\n",
       "      <td>525</td>\n",
       "      <td>W 34 St &amp; 11 Ave</td>\n",
       "      <td>40.755942</td>\n",
       "      <td>-74.002116</td>\n",
       "      <td>16069</td>\n",
       "      <td>Subscriber</td>\n",
       "      <td>1956</td>\n",
       "      <td>1</td>\n",
       "    </tr>\n",
       "  </tbody>\n",
       "</table>\n",
       "</div>"
      ],
      "text/plain": [
       "   tripduration                 starttime                  stoptime  \\\n",
       "0           970  2018-01-01 13:50:57.4340  2018-01-01 14:07:08.1860   \n",
       "1           723  2018-01-01 15:33:30.1820  2018-01-01 15:45:33.3410   \n",
       "2           496  2018-01-01 15:39:18.3370  2018-01-01 15:47:35.1720   \n",
       "\n",
       "   start station id start station name  start station latitude  \\\n",
       "0                72   W 52 St & 11 Ave               40.767272   \n",
       "1                72   W 52 St & 11 Ave               40.767272   \n",
       "2                72   W 52 St & 11 Ave               40.767272   \n",
       "\n",
       "   start station longitude  end station id  end station name  \\\n",
       "0               -73.993929             505   6 Ave & W 33 St   \n",
       "1               -73.993929            3255   8 Ave & W 31 St   \n",
       "2               -73.993929             525  W 34 St & 11 Ave   \n",
       "\n",
       "   end station latitude  end station longitude  bikeid    usertype  \\\n",
       "0             40.749013             -73.988484   31956  Subscriber   \n",
       "1             40.750585             -73.994685   32536  Subscriber   \n",
       "2             40.755942             -74.002116   16069  Subscriber   \n",
       "\n",
       "   birth year  gender  \n",
       "0        1992       1  \n",
       "1        1969       1  \n",
       "2        1956       1  "
      ]
     },
     "execution_count": 3,
     "metadata": {},
     "output_type": "execute_result"
    }
   ],
   "source": [
    "df.head(3)"
   ]
  },
  {
   "cell_type": "code",
   "execution_count": 4,
   "metadata": {},
   "outputs": [
    {
     "data": {
      "text/plain": [
       "(718994, 15)"
      ]
     },
     "execution_count": 4,
     "metadata": {},
     "output_type": "execute_result"
    }
   ],
   "source": [
    "df.shape"
   ]
  },
  {
   "cell_type": "markdown",
   "metadata": {},
   "source": [
    "# Уникальные станции"
   ]
  },
  {
   "cell_type": "code",
   "execution_count": 7,
   "metadata": {},
   "outputs": [],
   "source": [
    "cols = ['station id', 'station name', 'station latitude', 'station longitude'] \n",
    "s = df[['start ' + el for el in  cols]]\n",
    "e = df[['end ' + el for el in  cols]]\n",
    "s.columns, e.columns = cols, cols"
   ]
  },
  {
   "cell_type": "code",
   "execution_count": 8,
   "metadata": {},
   "outputs": [],
   "source": [
    "stations = pd.concat([s, e]).set_index('station id')\n",
    "stations = stations[~stations.index.duplicated(keep='first')]  # в других случаях можно stations.drop_duplicates(subset=[названия колонок])"
   ]
  },
  {
   "cell_type": "code",
   "execution_count": 9,
   "metadata": {},
   "outputs": [
    {
     "data": {
      "text/plain": [
       "(768, 3)"
      ]
     },
     "execution_count": 9,
     "metadata": {},
     "output_type": "execute_result"
    }
   ],
   "source": [
    "stations.shape"
   ]
  },
  {
   "cell_type": "code",
   "execution_count": 10,
   "metadata": {},
   "outputs": [
    {
     "data": {
      "text/html": [
       "<div>\n",
       "<style scoped>\n",
       "    .dataframe tbody tr th:only-of-type {\n",
       "        vertical-align: middle;\n",
       "    }\n",
       "\n",
       "    .dataframe tbody tr th {\n",
       "        vertical-align: top;\n",
       "    }\n",
       "\n",
       "    .dataframe thead th {\n",
       "        text-align: right;\n",
       "    }\n",
       "</style>\n",
       "<table border=\"1\" class=\"dataframe\">\n",
       "  <thead>\n",
       "    <tr style=\"text-align: right;\">\n",
       "      <th></th>\n",
       "      <th>station name</th>\n",
       "      <th>station latitude</th>\n",
       "      <th>station longitude</th>\n",
       "    </tr>\n",
       "    <tr>\n",
       "      <th>station id</th>\n",
       "      <th></th>\n",
       "      <th></th>\n",
       "      <th></th>\n",
       "    </tr>\n",
       "  </thead>\n",
       "  <tbody>\n",
       "    <tr>\n",
       "      <th>72</th>\n",
       "      <td>W 52 St &amp; 11 Ave</td>\n",
       "      <td>40.767272</td>\n",
       "      <td>-73.993929</td>\n",
       "    </tr>\n",
       "    <tr>\n",
       "      <th>79</th>\n",
       "      <td>Franklin St &amp; W Broadway</td>\n",
       "      <td>40.719116</td>\n",
       "      <td>-74.006667</td>\n",
       "    </tr>\n",
       "    <tr>\n",
       "      <th>82</th>\n",
       "      <td>St James Pl &amp; Pearl St</td>\n",
       "      <td>40.711174</td>\n",
       "      <td>-74.000165</td>\n",
       "    </tr>\n",
       "  </tbody>\n",
       "</table>\n",
       "</div>"
      ],
      "text/plain": [
       "                        station name  station latitude  station longitude\n",
       "station id                                                               \n",
       "72                  W 52 St & 11 Ave         40.767272         -73.993929\n",
       "79          Franklin St & W Broadway         40.719116         -74.006667\n",
       "82            St James Pl & Pearl St         40.711174         -74.000165"
      ]
     },
     "execution_count": 10,
     "metadata": {},
     "output_type": "execute_result"
    }
   ],
   "source": [
    "stations.head(3)"
   ]
  },
  {
   "cell_type": "markdown",
   "metadata": {},
   "source": [
    "## get Boroughs"
   ]
  },
  {
   "cell_type": "markdown",
   "metadata": {},
   "source": [
    "[Nominatim API policy](https://operations.osmfoundation.org/policies/nominatim/)"
   ]
  },
  {
   "cell_type": "code",
   "execution_count": 13,
   "metadata": {},
   "outputs": [
    {
     "name": "stderr",
     "output_type": "stream",
     "text": [
      "0it [00:00, ?it/s]\n"
     ]
    }
   ],
   "source": [
    "import requests as rq\n",
    "import time\n",
    "\n",
    "# caching\n",
    "from functools import lru_cache\n",
    "# OR - from fastcache import clru_cache <- external package, 30x-40x faster\n",
    "\n",
    "# just a nice ui progress bar\n",
    "from tqdm import tqdm #, tqdm_notebook - хтмл-прогрессбар, работает в jupyter notebook, но не jupyter\n",
    "tqdm().pandas()"
   ]
  },
  {
   "cell_type": "markdown",
   "metadata": {},
   "source": [
    "### Декораторы"
   ]
  },
  {
   "cell_type": "code",
   "execution_count": 19,
   "metadata": {},
   "outputs": [],
   "source": [
    "def my_decorator(func):\n",
    "    def wrapper():\n",
    "        print(\"Something is happening before the function is called.\")\n",
    "        func()\n",
    "        print(\"Something is happening after the function is called.\")\n",
    "    return wrapper"
   ]
  },
  {
   "cell_type": "code",
   "execution_count": 20,
   "metadata": {},
   "outputs": [],
   "source": [
    "@my_decorator\n",
    "def say_whee():\n",
    "    print(\"Whee!\")"
   ]
  },
  {
   "cell_type": "code",
   "execution_count": 21,
   "metadata": {},
   "outputs": [
    {
     "name": "stdout",
     "output_type": "stream",
     "text": [
      "Something is happening before the function is called.\n",
      "Whee!\n",
      "Something is happening after the function is called.\n"
     ]
    }
   ],
   "source": [
    "say_whee()"
   ]
  },
  {
   "cell_type": "markdown",
   "metadata": {},
   "source": [
    "### Назад"
   ]
  },
  {
   "cell_type": "code",
   "execution_count": 22,
   "metadata": {},
   "outputs": [],
   "source": [
    "@lru_cache(maxsize=2000)\n",
    "def generic_json_api_request(url:str, time_sleep=1, **kwargs) -> dict:\n",
    "    response = rq.get(url, params=kwargs)\n",
    "    response.raise_for_status()\n",
    "    time.sleep(time_sleep)\n",
    "    return response.json()"
   ]
  },
  {
   "cell_type": "code",
   "execution_count": 23,
   "metadata": {},
   "outputs": [],
   "source": [
    "def reverse_geocode(lat:float, lon:float):\n",
    "    base_url = ' https://nominatim.openstreetmap.org/reverse'\n",
    "    params = {'format':'jsonv2', 'lat': lat, 'lon': lon}\n",
    "    \n",
    "    return generic_json_api_request(base_url, **params)"
   ]
  },
  {
   "cell_type": "code",
   "execution_count": 24,
   "metadata": {},
   "outputs": [
    {
     "data": {
      "text/plain": [
       "{'place_id': '48356435',\n",
       " 'licence': 'Data © OpenStreetMap contributors, ODbL 1.0. https://osm.org/copyright',\n",
       " 'osm_type': 'node',\n",
       " 'osm_id': '3708656763',\n",
       " 'lat': '40.7672722',\n",
       " 'lon': '-73.9939289',\n",
       " 'place_rank': '30',\n",
       " 'category': 'amenity',\n",
       " 'type': 'bicycle_rental',\n",
       " 'importance': '0',\n",
       " 'addresstype': 'amenity',\n",
       " 'name': 'Citi Bike - W 52 St & 11 Ave',\n",
       " 'display_name': 'Citi Bike - W 52 St & 11 Ave, West 52nd Street, Diamond District, Midtown, Manhattan, Manhattan Community Board 5, New York County, NYC, New York, 10019, USA',\n",
       " 'address': {'address29': 'Citi Bike - W 52 St & 11 Ave',\n",
       "  'road': 'West 52nd Street',\n",
       "  'neighbourhood': 'Diamond District',\n",
       "  'suburb': 'Midtown',\n",
       "  'city_district': 'Manhattan',\n",
       "  'city': 'NYC',\n",
       "  'county': 'New York County',\n",
       "  'state': 'New York',\n",
       "  'postcode': '10019',\n",
       "  'country': 'USA',\n",
       "  'country_code': 'us'},\n",
       " 'boundingbox': ['40.7671722', '40.7673722', '-73.9940289', '-73.9938289']}"
      ]
     },
     "execution_count": 24,
     "metadata": {},
     "output_type": "execute_result"
    }
   ],
   "source": [
    "# test\n",
    "reverse_geocode(40.767272, -73.993929)"
   ]
  },
  {
   "cell_type": "code",
   "execution_count": 25,
   "metadata": {},
   "outputs": [
    {
     "data": {
      "text/plain": [
       "{'place_id': '48359864',\n",
       " 'licence': 'Data © OpenStreetMap contributors, ODbL 1.0. https://osm.org/copyright',\n",
       " 'osm_type': 'node',\n",
       " 'osm_id': '3708656243',\n",
       " 'lat': '40.683826',\n",
       " 'lon': '-73.9763233',\n",
       " 'place_rank': '30',\n",
       " 'category': 'amenity',\n",
       " 'type': 'bicycle_rental',\n",
       " 'importance': '0',\n",
       " 'addresstype': 'amenity',\n",
       " 'name': 'Citi Bike - Atlantic Ave & Fort Greene Pl',\n",
       " 'display_name': 'Citi Bike - Atlantic Ave & Fort Greene Pl, Atlantic Avenue, Fort Greene, BK, Kings County, NYC, New York, 11208, USA',\n",
       " 'address': {'address29': 'Citi Bike - Atlantic Ave & Fort Greene Pl',\n",
       "  'road': 'Atlantic Avenue',\n",
       "  'neighbourhood': 'Fort Greene',\n",
       "  'suburb': 'BK',\n",
       "  'county': 'Kings County',\n",
       "  'city': 'NYC',\n",
       "  'state': 'New York',\n",
       "  'postcode': '11208',\n",
       "  'country': 'USA',\n",
       "  'country_code': 'us'},\n",
       " 'boundingbox': ['40.683726', '40.683926', '-73.9764233', '-73.9762233']}"
      ]
     },
     "execution_count": 25,
     "metadata": {},
     "output_type": "execute_result"
    }
   ],
   "source": [
    "reverse_geocode(40.6838, -73.9763)"
   ]
  },
  {
   "cell_type": "markdown",
   "metadata": {},
   "source": [
    "# reGeocode all"
   ]
  },
  {
   "cell_type": "code",
   "execution_count": 26,
   "metadata": {},
   "outputs": [
    {
     "name": "stderr",
     "output_type": "stream",
     "text": [
      "100%|██████████| 10/10 [00:13<00:00,  1.43s/it]\n"
     ]
    }
   ],
   "source": [
    "# progress_apply is tqdm's wrapper around pandas `apply` method. only thing it changes is the progress bar\n",
    "\n",
    "# geocoded = stations.apply(lambda row: reverse_geocode(row['station latitude'],\n",
    "#                                                       row['station longitude'])['address'],\n",
    "#                                                axis=1)\n",
    "\n",
    "# для примера используйте первые 10 строк\n",
    "first10 = stations.head(10)\n",
    "geocoded = first10.progress_apply(lambda row: reverse_geocode(row['station latitude'], row['station longitude'])['address'],\n",
    "                                             axis=1)\n",
    "\n"
   ]
  },
  {
   "cell_type": "code",
   "execution_count": 28,
   "metadata": {},
   "outputs": [],
   "source": [
    "regeocoded = pd.DataFrame(geocoded.tolist(), index=first10.index)"
   ]
  },
  {
   "cell_type": "code",
   "execution_count": 29,
   "metadata": {},
   "outputs": [
    {
     "data": {
      "text/html": [
       "<div>\n",
       "<style scoped>\n",
       "    .dataframe tbody tr th:only-of-type {\n",
       "        vertical-align: middle;\n",
       "    }\n",
       "\n",
       "    .dataframe tbody tr th {\n",
       "        vertical-align: top;\n",
       "    }\n",
       "\n",
       "    .dataframe thead th {\n",
       "        text-align: right;\n",
       "    }\n",
       "</style>\n",
       "<table border=\"1\" class=\"dataframe\">\n",
       "  <thead>\n",
       "    <tr style=\"text-align: right;\">\n",
       "      <th></th>\n",
       "      <th>address29</th>\n",
       "      <th>city</th>\n",
       "      <th>city_district</th>\n",
       "      <th>country</th>\n",
       "      <th>country_code</th>\n",
       "      <th>county</th>\n",
       "      <th>neighbourhood</th>\n",
       "      <th>pedestrian</th>\n",
       "      <th>postcode</th>\n",
       "      <th>residential</th>\n",
       "      <th>road</th>\n",
       "      <th>state</th>\n",
       "      <th>suburb</th>\n",
       "    </tr>\n",
       "    <tr>\n",
       "      <th>station id</th>\n",
       "      <th></th>\n",
       "      <th></th>\n",
       "      <th></th>\n",
       "      <th></th>\n",
       "      <th></th>\n",
       "      <th></th>\n",
       "      <th></th>\n",
       "      <th></th>\n",
       "      <th></th>\n",
       "      <th></th>\n",
       "      <th></th>\n",
       "      <th></th>\n",
       "      <th></th>\n",
       "    </tr>\n",
       "  </thead>\n",
       "  <tbody>\n",
       "    <tr>\n",
       "      <th>72</th>\n",
       "      <td>Citi Bike - W 52 St &amp; 11 Ave</td>\n",
       "      <td>NYC</td>\n",
       "      <td>Manhattan</td>\n",
       "      <td>USA</td>\n",
       "      <td>us</td>\n",
       "      <td>New York County</td>\n",
       "      <td>Diamond District</td>\n",
       "      <td>NaN</td>\n",
       "      <td>10019</td>\n",
       "      <td>NaN</td>\n",
       "      <td>West 52nd Street</td>\n",
       "      <td>New York</td>\n",
       "      <td>Midtown</td>\n",
       "    </tr>\n",
       "    <tr>\n",
       "      <th>79</th>\n",
       "      <td>Citi Bike - Franklin St &amp; W Broadway</td>\n",
       "      <td>NYC</td>\n",
       "      <td>Manhattan</td>\n",
       "      <td>USA</td>\n",
       "      <td>us</td>\n",
       "      <td>New York County</td>\n",
       "      <td>NaN</td>\n",
       "      <td>Franklin Street</td>\n",
       "      <td>10013</td>\n",
       "      <td>NaN</td>\n",
       "      <td>NaN</td>\n",
       "      <td>New York</td>\n",
       "      <td>TriBeCa</td>\n",
       "    </tr>\n",
       "    <tr>\n",
       "      <th>82</th>\n",
       "      <td>Citi Bike - St James Pl &amp; Pearl St</td>\n",
       "      <td>NYC</td>\n",
       "      <td>Manhattan</td>\n",
       "      <td>USA</td>\n",
       "      <td>us</td>\n",
       "      <td>New York County</td>\n",
       "      <td>NaN</td>\n",
       "      <td>NaN</td>\n",
       "      <td>10038</td>\n",
       "      <td>NaN</td>\n",
       "      <td>Saint James Place</td>\n",
       "      <td>New York</td>\n",
       "      <td>Civic Center</td>\n",
       "    </tr>\n",
       "  </tbody>\n",
       "</table>\n",
       "</div>"
      ],
      "text/plain": [
       "                                       address29 city city_district country  \\\n",
       "station id                                                                    \n",
       "72                  Citi Bike - W 52 St & 11 Ave  NYC     Manhattan     USA   \n",
       "79          Citi Bike - Franklin St & W Broadway  NYC     Manhattan     USA   \n",
       "82            Citi Bike - St James Pl & Pearl St  NYC     Manhattan     USA   \n",
       "\n",
       "           country_code           county     neighbourhood       pedestrian  \\\n",
       "station id                                                                    \n",
       "72                   us  New York County  Diamond District              NaN   \n",
       "79                   us  New York County               NaN  Franklin Street   \n",
       "82                   us  New York County               NaN              NaN   \n",
       "\n",
       "           postcode residential               road     state        suburb  \n",
       "station id                                                                  \n",
       "72            10019         NaN   West 52nd Street  New York       Midtown  \n",
       "79            10013         NaN                NaN  New York       TriBeCa  \n",
       "82            10038         NaN  Saint James Place  New York  Civic Center  "
      ]
     },
     "execution_count": 29,
     "metadata": {},
     "output_type": "execute_result"
    }
   ],
   "source": [
    "regeocoded.head(3)"
   ]
  },
  {
   "cell_type": "code",
   "execution_count": 31,
   "metadata": {},
   "outputs": [
    {
     "data": {
      "text/plain": [
       "address29        0\n",
       "city             0\n",
       "country          0\n",
       "country_code     0\n",
       "county           0\n",
       "postcode         0\n",
       "state            0\n",
       "road             1\n",
       "suburb           3\n",
       "neighbourhood    4\n",
       "city_district    5\n",
       "pedestrian       9\n",
       "residential      9\n",
       "dtype: int64"
      ]
     },
     "execution_count": 31,
     "metadata": {},
     "output_type": "execute_result"
    }
   ],
   "source": [
    "regeocoded.isnull().sum().sort_values()"
   ]
  },
  {
   "cell_type": "code",
   "execution_count": 32,
   "metadata": {},
   "outputs": [],
   "source": [
    "cols = ['county', 'postcode', 'suburb', 'city_district', 'neighbourhood']\n",
    "regeocoded = regeocoded[cols]"
   ]
  },
  {
   "cell_type": "code",
   "execution_count": 33,
   "metadata": {},
   "outputs": [],
   "source": []
  },
  {
   "cell_type": "code",
   "execution_count": 34,
   "metadata": {},
   "outputs": [],
   "source": [
    "stations = stations.join(regeocoded)"
   ]
  },
  {
   "cell_type": "code",
   "execution_count": 58,
   "metadata": {},
   "outputs": [],
   "source": [
    "stations.to_csv('../data/l6/stations_regeocoded.csv.gzip', index=None)\n",
    "# stations = pd.read_csv('../data/l6/stations_regeocoded.csv.gzip')"
   ]
  },
  {
   "cell_type": "code",
   "execution_count": 57,
   "metadata": {},
   "outputs": [
    {
     "data": {
      "text/html": [
       "<div>\n",
       "<style scoped>\n",
       "    .dataframe tbody tr th:only-of-type {\n",
       "        vertical-align: middle;\n",
       "    }\n",
       "\n",
       "    .dataframe tbody tr th {\n",
       "        vertical-align: top;\n",
       "    }\n",
       "\n",
       "    .dataframe thead th {\n",
       "        text-align: right;\n",
       "    }\n",
       "</style>\n",
       "<table border=\"1\" class=\"dataframe\">\n",
       "  <thead>\n",
       "    <tr style=\"text-align: right;\">\n",
       "      <th></th>\n",
       "      <th>station id</th>\n",
       "      <th>station name</th>\n",
       "      <th>station latitude</th>\n",
       "      <th>station longitude</th>\n",
       "      <th>county</th>\n",
       "      <th>postcode</th>\n",
       "      <th>suburb</th>\n",
       "      <th>city_district</th>\n",
       "      <th>neighbourhood</th>\n",
       "    </tr>\n",
       "  </thead>\n",
       "  <tbody>\n",
       "    <tr>\n",
       "      <th>0</th>\n",
       "      <td>72</td>\n",
       "      <td>W 52 St &amp; 11 Ave</td>\n",
       "      <td>40.767272</td>\n",
       "      <td>-73.993929</td>\n",
       "      <td>New York County</td>\n",
       "      <td>10019</td>\n",
       "      <td>Midtown</td>\n",
       "      <td>Manhattan</td>\n",
       "      <td>Diamond District</td>\n",
       "    </tr>\n",
       "    <tr>\n",
       "      <th>1</th>\n",
       "      <td>79</td>\n",
       "      <td>Franklin St &amp; W Broadway</td>\n",
       "      <td>40.719116</td>\n",
       "      <td>-74.006667</td>\n",
       "      <td>New York County</td>\n",
       "      <td>10013</td>\n",
       "      <td>TriBeCa</td>\n",
       "      <td>Manhattan</td>\n",
       "      <td>NaN</td>\n",
       "    </tr>\n",
       "    <tr>\n",
       "      <th>2</th>\n",
       "      <td>82</td>\n",
       "      <td>St James Pl &amp; Pearl St</td>\n",
       "      <td>40.711174</td>\n",
       "      <td>-74.000165</td>\n",
       "      <td>New York County</td>\n",
       "      <td>10038</td>\n",
       "      <td>Civic Center</td>\n",
       "      <td>Manhattan</td>\n",
       "      <td>NaN</td>\n",
       "    </tr>\n",
       "    <tr>\n",
       "      <th>3</th>\n",
       "      <td>83</td>\n",
       "      <td>Atlantic Ave &amp; Fort Greene Pl</td>\n",
       "      <td>40.683826</td>\n",
       "      <td>-73.976323</td>\n",
       "      <td>Kings County</td>\n",
       "      <td>11208</td>\n",
       "      <td>BK</td>\n",
       "      <td>NaN</td>\n",
       "      <td>Fort Greene</td>\n",
       "    </tr>\n",
       "    <tr>\n",
       "      <th>4</th>\n",
       "      <td>119</td>\n",
       "      <td>Park Ave &amp; St Edwards St</td>\n",
       "      <td>40.696089</td>\n",
       "      <td>-73.978034</td>\n",
       "      <td>Kings County</td>\n",
       "      <td>11251</td>\n",
       "      <td>NaN</td>\n",
       "      <td>NaN</td>\n",
       "      <td>Fort Greene</td>\n",
       "    </tr>\n",
       "  </tbody>\n",
       "</table>\n",
       "</div>"
      ],
      "text/plain": [
       "   station id                   station name  station latitude  \\\n",
       "0          72               W 52 St & 11 Ave         40.767272   \n",
       "1          79       Franklin St & W Broadway         40.719116   \n",
       "2          82         St James Pl & Pearl St         40.711174   \n",
       "3          83  Atlantic Ave & Fort Greene Pl         40.683826   \n",
       "4         119       Park Ave & St Edwards St         40.696089   \n",
       "\n",
       "   station longitude           county postcode        suburb city_district  \\\n",
       "0         -73.993929  New York County    10019       Midtown     Manhattan   \n",
       "1         -74.006667  New York County    10013       TriBeCa     Manhattan   \n",
       "2         -74.000165  New York County    10038  Civic Center     Manhattan   \n",
       "3         -73.976323     Kings County    11208            BK           NaN   \n",
       "4         -73.978034     Kings County    11251           NaN           NaN   \n",
       "\n",
       "      neighbourhood  \n",
       "0  Diamond District  \n",
       "1               NaN  \n",
       "2               NaN  \n",
       "3       Fort Greene  \n",
       "4       Fort Greene  "
      ]
     },
     "execution_count": 57,
     "metadata": {},
     "output_type": "execute_result"
    }
   ],
   "source": [
    "stations.head(5)"
   ]
  },
  {
   "cell_type": "code",
   "execution_count": 41,
   "metadata": {},
   "outputs": [
    {
     "data": {
      "text/plain": [
       "New York County              421\n",
       "Kings County                 266\n",
       "Queens County                 78\n",
       "Agglomération de Montréal      2\n",
       "Hudson County                  1\n",
       "Name: county, dtype: int64"
      ]
     },
     "execution_count": 41,
     "metadata": {},
     "output_type": "execute_result"
    }
   ],
   "source": [
    "stations['county'].value_counts()"
   ]
  },
  {
   "cell_type": "code",
   "execution_count": 42,
   "metadata": {},
   "outputs": [
    {
     "data": {
      "text/html": [
       "<div>\n",
       "<style scoped>\n",
       "    .dataframe tbody tr th:only-of-type {\n",
       "        vertical-align: middle;\n",
       "    }\n",
       "\n",
       "    .dataframe tbody tr th {\n",
       "        vertical-align: top;\n",
       "    }\n",
       "\n",
       "    .dataframe thead th {\n",
       "        text-align: right;\n",
       "    }\n",
       "</style>\n",
       "<table border=\"1\" class=\"dataframe\">\n",
       "  <thead>\n",
       "    <tr style=\"text-align: right;\">\n",
       "      <th></th>\n",
       "      <th>station id</th>\n",
       "      <th>station name</th>\n",
       "      <th>station latitude</th>\n",
       "      <th>station longitude</th>\n",
       "      <th>county</th>\n",
       "      <th>postcode</th>\n",
       "      <th>suburb</th>\n",
       "      <th>city_district</th>\n",
       "      <th>neighbourhood</th>\n",
       "    </tr>\n",
       "  </thead>\n",
       "  <tbody>\n",
       "    <tr>\n",
       "      <th>607</th>\n",
       "      <td>3488</td>\n",
       "      <td>8D QC Station 01</td>\n",
       "      <td>45.506364</td>\n",
       "      <td>-73.569463</td>\n",
       "      <td>Agglomération de Montréal</td>\n",
       "      <td>H3A 1N9</td>\n",
       "      <td>Ville-Marie</td>\n",
       "      <td>NaN</td>\n",
       "      <td>Quartier des Spectacles</td>\n",
       "    </tr>\n",
       "    <tr>\n",
       "      <th>752</th>\n",
       "      <td>3650</td>\n",
       "      <td>8D Mobile 01</td>\n",
       "      <td>45.506264</td>\n",
       "      <td>-73.568906</td>\n",
       "      <td>Agglomération de Montréal</td>\n",
       "      <td>H3A 1N9</td>\n",
       "      <td>Ville-Marie</td>\n",
       "      <td>NaN</td>\n",
       "      <td>Quartier des Spectacles</td>\n",
       "    </tr>\n",
       "  </tbody>\n",
       "</table>\n",
       "</div>"
      ],
      "text/plain": [
       "     station id      station name  station latitude  station longitude  \\\n",
       "607        3488  8D QC Station 01         45.506364         -73.569463   \n",
       "752        3650      8D Mobile 01         45.506264         -73.568906   \n",
       "\n",
       "                        county postcode       suburb city_district  \\\n",
       "607  Agglomération de Montréal  H3A 1N9  Ville-Marie           NaN   \n",
       "752  Agglomération de Montréal  H3A 1N9  Ville-Marie           NaN   \n",
       "\n",
       "               neighbourhood  \n",
       "607  Quartier des Spectacles  \n",
       "752  Quartier des Spectacles  "
      ]
     },
     "execution_count": 42,
     "metadata": {},
     "output_type": "execute_result"
    }
   ],
   "source": [
    "stations[stations['county'] == 'Agglomération de Montréal']"
   ]
  },
  {
   "cell_type": "code",
   "execution_count": 44,
   "metadata": {},
   "outputs": [
    {
     "data": {
      "text/html": [
       "<div>\n",
       "<style scoped>\n",
       "    .dataframe tbody tr th:only-of-type {\n",
       "        vertical-align: middle;\n",
       "    }\n",
       "\n",
       "    .dataframe tbody tr th {\n",
       "        vertical-align: top;\n",
       "    }\n",
       "\n",
       "    .dataframe thead th {\n",
       "        text-align: right;\n",
       "    }\n",
       "</style>\n",
       "<table border=\"1\" class=\"dataframe\">\n",
       "  <thead>\n",
       "    <tr style=\"text-align: right;\">\n",
       "      <th></th>\n",
       "      <th>station id</th>\n",
       "      <th>station name</th>\n",
       "      <th>station latitude</th>\n",
       "      <th>station longitude</th>\n",
       "      <th>county</th>\n",
       "      <th>postcode</th>\n",
       "      <th>suburb</th>\n",
       "      <th>city_district</th>\n",
       "      <th>neighbourhood</th>\n",
       "    </tr>\n",
       "  </thead>\n",
       "  <tbody>\n",
       "    <tr>\n",
       "      <th>0</th>\n",
       "      <td>72</td>\n",
       "      <td>W 52 St &amp; 11 Ave</td>\n",
       "      <td>40.767272</td>\n",
       "      <td>-73.993929</td>\n",
       "      <td>New York County</td>\n",
       "      <td>10019</td>\n",
       "      <td>Midtown</td>\n",
       "      <td>Manhattan</td>\n",
       "      <td>Diamond District</td>\n",
       "    </tr>\n",
       "    <tr>\n",
       "      <th>1</th>\n",
       "      <td>79</td>\n",
       "      <td>Franklin St &amp; W Broadway</td>\n",
       "      <td>40.719116</td>\n",
       "      <td>-74.006667</td>\n",
       "      <td>New York County</td>\n",
       "      <td>10013</td>\n",
       "      <td>TriBeCa</td>\n",
       "      <td>Manhattan</td>\n",
       "      <td>NaN</td>\n",
       "    </tr>\n",
       "    <tr>\n",
       "      <th>2</th>\n",
       "      <td>82</td>\n",
       "      <td>St James Pl &amp; Pearl St</td>\n",
       "      <td>40.711174</td>\n",
       "      <td>-74.000165</td>\n",
       "      <td>New York County</td>\n",
       "      <td>10038</td>\n",
       "      <td>Civic Center</td>\n",
       "      <td>Manhattan</td>\n",
       "      <td>NaN</td>\n",
       "    </tr>\n",
       "    <tr>\n",
       "      <th>3</th>\n",
       "      <td>83</td>\n",
       "      <td>Atlantic Ave &amp; Fort Greene Pl</td>\n",
       "      <td>40.683826</td>\n",
       "      <td>-73.976323</td>\n",
       "      <td>Kings County</td>\n",
       "      <td>11208</td>\n",
       "      <td>BK</td>\n",
       "      <td>NaN</td>\n",
       "      <td>Fort Greene</td>\n",
       "    </tr>\n",
       "    <tr>\n",
       "      <th>4</th>\n",
       "      <td>119</td>\n",
       "      <td>Park Ave &amp; St Edwards St</td>\n",
       "      <td>40.696089</td>\n",
       "      <td>-73.978034</td>\n",
       "      <td>Kings County</td>\n",
       "      <td>11251</td>\n",
       "      <td>NaN</td>\n",
       "      <td>NaN</td>\n",
       "      <td>Fort Greene</td>\n",
       "    </tr>\n",
       "  </tbody>\n",
       "</table>\n",
       "</div>"
      ],
      "text/plain": [
       "   station id                   station name  station latitude  \\\n",
       "0          72               W 52 St & 11 Ave         40.767272   \n",
       "1          79       Franklin St & W Broadway         40.719116   \n",
       "2          82         St James Pl & Pearl St         40.711174   \n",
       "3          83  Atlantic Ave & Fort Greene Pl         40.683826   \n",
       "4         119       Park Ave & St Edwards St         40.696089   \n",
       "\n",
       "   station longitude           county postcode        suburb city_district  \\\n",
       "0         -73.993929  New York County    10019       Midtown     Manhattan   \n",
       "1         -74.006667  New York County    10013       TriBeCa     Manhattan   \n",
       "2         -74.000165  New York County    10038  Civic Center     Manhattan   \n",
       "3         -73.976323     Kings County    11208            BK           NaN   \n",
       "4         -73.978034     Kings County    11251           NaN           NaN   \n",
       "\n",
       "      neighbourhood  \n",
       "0  Diamond District  \n",
       "1               NaN  \n",
       "2               NaN  \n",
       "3       Fort Greene  \n",
       "4       Fort Greene  "
      ]
     },
     "execution_count": 44,
     "metadata": {},
     "output_type": "execute_result"
    }
   ],
   "source": [
    "stations.head(5)"
   ]
  },
  {
   "cell_type": "code",
   "execution_count": null,
   "metadata": {},
   "outputs": [],
   "source": []
  }
 ],
 "metadata": {
  "kernelspec": {
   "display_name": "Python 3",
   "language": "python",
   "name": "python3"
  },
  "language_info": {
   "codemirror_mode": {
    "name": "ipython",
    "version": 3
   },
   "file_extension": ".py",
   "mimetype": "text/x-python",
   "name": "python",
   "nbconvert_exporter": "python",
   "pygments_lexer": "ipython3",
   "version": "3.6.5"
  }
 },
 "nbformat": 4,
 "nbformat_minor": 2
}
