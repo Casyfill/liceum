{
 "cells": [
  {
   "cell_type": "markdown",
   "metadata": {},
   "source": [
    "# Нулевая гипотеза и p-value"
   ]
  },
  {
   "cell_type": "markdown",
   "metadata": {},
   "source": [
    "Зная формулу распределения вероятностей, мы можем определить вероятность получить значение выше/ниже определенной величины"
   ]
  },
  {
   "cell_type": "markdown",
   "metadata": {},
   "source": [
    "Другими словами, мы можем оценить вероятность события превышающего / пренижающего мат. ожидание более чем на ..."
   ]
  },
  {
   "cell_type": "markdown",
   "metadata": {},
   "source": [
    "То же самое можно использовать и по другому - определить вероятность того, что полученная величина пренадлежить известному распределению - например, что показатели больного после принятия лекарства с высокой вероятностью принадлежит популяции больных людей (лекарство не действует). Для этого испольщуют p-value  (probability value) - фундамент множества (большинства?) исследований в мире."
   ]
  },
  {
   "cell_type": "markdown",
   "metadata": {},
   "source": [
    "p-value - это показатель того, что наблюдаемые данные (sample) принадлежат теоретическому (population) распределению"
   ]
  },
  {
   "cell_type": "markdown",
   "metadata": {},
   "source": [
    "* [P-hacking](https://projects.fivethirtyeight.com/p-hacking/)"
   ]
  },
  {
   "cell_type": "markdown",
   "metadata": {},
   "source": [
    "**Нулевая гипотеза - это базовое ( по умолчению) предположение что между двумя событиями нет связи. Задача исследователя - доказать фактами что нулевую гипотезу можно отбросить - шанс что наблюдаемые взаимосвязи случайны достаточно низок**"
   ]
  },
  {
   "cell_type": "markdown",
   "metadata": {},
   "source": [
    "### Пример\n",
    "\n",
    "Достаточно ли у нас оснований сказать, что женщины ездят дольше чем мужчины?"
   ]
  },
  {
   "cell_type": "code",
   "execution_count": null,
   "metadata": {},
   "outputs": [],
   "source": [
    "from scipy.stats import kstest"
   ]
  },
  {
   "cell_type": "code",
   "execution_count": null,
   "metadata": {},
   "outputs": [],
   "source": [
    "male_distr =\n",
    "female_distr = "
   ]
  },
  {
   "cell_type": "code",
   "execution_count": null,
   "metadata": {},
   "outputs": [],
   "source": [
    "scipy.stats.kstest(rvs, cdf, args=(), N=20, alternative='two-sided', mode='approx')"
   ]
  },
  {
   "cell_type": "code",
   "execution_count": null,
   "metadata": {},
   "outputs": [],
   "source": []
  }
 ],
 "metadata": {
  "kernelspec": {
   "display_name": "Python 3",
   "language": "python",
   "name": "python3"
  },
  "language_info": {
   "codemirror_mode": {
    "name": "ipython",
    "version": 3
   },
   "file_extension": ".py",
   "mimetype": "text/x-python",
   "name": "python",
   "nbconvert_exporter": "python",
   "pygments_lexer": "ipython3",
   "version": "3.6.5"
  }
 },
 "nbformat": 4,
 "nbformat_minor": 2
}
