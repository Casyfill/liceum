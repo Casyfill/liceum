{
 "cells": [
  {
   "cell_type": "code",
   "execution_count": 1,
   "metadata": {},
   "outputs": [],
   "source": [
    "%matplotlib inline\n",
    "import pylab as plt\n",
    "plt.style.use('fivethirtyeight')"
   ]
  },
  {
   "cell_type": "code",
   "execution_count": 2,
   "metadata": {},
   "outputs": [],
   "source": [
    "import pandas as pd"
   ]
  },
  {
   "cell_type": "code",
   "execution_count": 3,
   "metadata": {},
   "outputs": [],
   "source": [
    "path = '../data/l5/201801-citibike-tripdata.csv.zip'\n",
    "df = pd.read_csv(path)\n",
    "df['tripduration']  /= 60"
   ]
  },
  {
   "cell_type": "code",
   "execution_count": 4,
   "metadata": {},
   "outputs": [],
   "source": [
    "mask = df.tripduration <= 60 # less than an hour"
   ]
  },
  {
   "cell_type": "code",
   "execution_count": 5,
   "metadata": {},
   "outputs": [
    {
     "data": {
      "text/plain": [
       "<matplotlib.axes._subplots.AxesSubplot at 0x12cceda20>"
      ]
     },
     "execution_count": 5,
     "metadata": {},
     "output_type": "execute_result"
    },
    {
     "data": {
      "image/png": "[encoded data removed]",
      "text/plain": [
       "<Figure size 432x288 with 1 Axes>"
      ]
     },
     "metadata": {
      "needs_background": "light"
     },
     "output_type": "display_data"
    }
   ],
   "source": [
    "POP = df.loc[mask, 'tripduration']\n",
    "POP.hist(bins=50)"
   ]
  },
  {
   "cell_type": "code",
   "execution_count": 6,
   "metadata": {},
   "outputs": [
    {
     "data": {
      "text/plain": [
       "(716571,)"
      ]
     },
     "execution_count": 6,
     "metadata": {},
     "output_type": "execute_result"
    }
   ],
   "source": [
    "POP.shape"
   ]
  },
  {
   "cell_type": "code",
   "execution_count": 203,
   "metadata": {},
   "outputs": [],
   "source": [
    "SAMPLES = 2000\n",
    "pd.np.random.seed(100)"
   ]
  },
  {
   "cell_type": "code",
   "execution_count": null,
   "metadata": {},
   "outputs": [],
   "source": [
    "sampe_means = [POP.sample(1000).mean() for el in range(SAMPLES)] "
   ]
  },
  {
   "cell_type": "code",
   "execution_count": null,
   "metadata": {},
   "outputs": [],
   "source": [
    "pd.Series(sampe_means).hist(bins=50)"
   ]
  },
  {
   "cell_type": "markdown",
   "metadata": {},
   "source": [
    "вверху = T-distr"
   ]
  },
  {
   "cell_type": "markdown",
   "metadata": {},
   "source": [
    "# T-test"
   ]
  },
  {
   "cell_type": "code",
   "execution_count": 16,
   "metadata": {},
   "outputs": [],
   "source": [
    "import scipy.stats as stats"
   ]
  },
  {
   "cell_type": "code",
   "execution_count": 34,
   "metadata": {},
   "outputs": [],
   "source": [
    "sample = POP.sample(1000)"
   ]
  },
  {
   "cell_type": "code",
   "execution_count": 35,
   "metadata": {},
   "outputs": [
    {
     "data": {
      "text/plain": [
       "Ttest_1sampResult(statistic=-0.4665886761291446, pvalue=0.6408959208301943)"
      ]
     },
     "execution_count": 35,
     "metadata": {},
     "output_type": "execute_result"
    }
   ],
   "source": [
    "\n",
    "stats.ttest_1samp(a = sample,               # Sample data\n",
    "                  popmean= POP.mean())              # Pop mean"
   ]
  },
  {
   "cell_type": "code",
   "execution_count": 139,
   "metadata": {},
   "outputs": [],
   "source": [
    "pd.np.random.seed(100)\n",
    "sample = POP.sample(50) * .7  # corrupt data"
   ]
  },
  {
   "cell_type": "code",
   "execution_count": 141,
   "metadata": {},
   "outputs": [
    {
     "data": {
      "text/plain": [
       "8.060033333333333"
      ]
     },
     "execution_count": 141,
     "metadata": {},
     "output_type": "execute_result"
    }
   ],
   "source": [
    "sample.mean()"
   ]
  },
  {
   "cell_type": "code",
   "execution_count": 142,
   "metadata": {},
   "outputs": [
    {
     "data": {
      "text/plain": [
       "<matplotlib.axes._subplots.AxesSubplot at 0x1229c4e48>"
      ]
     },
     "execution_count": 142,
     "metadata": {},
     "output_type": "execute_result"
    },
    {
     "data": {
      "image/png": "[encoded data removed]",
      "text/plain": [
       "<Figure size 720x720 with 2 Axes>"
      ]
     },
     "metadata": {
      "needs_background": "light"
     },
     "output_type": "display_data"
    }
   ],
   "source": [
    "fig, axes = plt.subplots(2, 1, figsize=(10, 10), sharex=True)\n",
    "POP.hist(bins=50, ax=axes[0])\n",
    "sample.hist(bins=50, ax=axes[1], color='red')"
   ]
  },
  {
   "cell_type": "code",
   "execution_count": 143,
   "metadata": {},
   "outputs": [
    {
     "data": {
      "text/plain": [
       "Ttest_1sampResult(statistic=-3.0619921999179267, pvalue=0.0035648433933430884)"
      ]
     },
     "execution_count": 143,
     "metadata": {},
     "output_type": "execute_result"
    }
   ],
   "source": [
    "\n",
    "stats.ttest_1samp(a = sample,               # Sample data\n",
    "                  popmean= POP.mean())              # Pop mean"
   ]
  },
  {
   "cell_type": "code",
   "execution_count": 151,
   "metadata": {},
   "outputs": [
    {
     "name": "stdout",
     "output_type": "stream",
     "text": [
      "-2.0095752344892093\n",
      "2.009575234489209\n"
     ]
    }
   ],
   "source": [
    "for q in .025, (1-.025):\n",
    "    print( stats.t.ppf(q=q,            # Quantile to check\n",
    "                       df=len(sample)-1))  # Degrees of freedom"
   ]
  },
  {
   "cell_type": "markdown",
   "metadata": {},
   "source": [
    "## p-value"
   ]
  },
  {
   "cell_type": "code",
   "execution_count": 153,
   "metadata": {},
   "outputs": [
    {
     "data": {
      "text/plain": [
       "\u001b[0;31mSignature:\u001b[0m \u001b[0mstats\u001b[0m\u001b[0;34m.\u001b[0m\u001b[0mt\u001b[0m\u001b[0;34m.\u001b[0m\u001b[0mcdf\u001b[0m\u001b[0;34m(\u001b[0m\u001b[0mx\u001b[0m\u001b[0;34m,\u001b[0m \u001b[0;34m*\u001b[0m\u001b[0margs\u001b[0m\u001b[0;34m,\u001b[0m \u001b[0;34m**\u001b[0m\u001b[0mkwds\u001b[0m\u001b[0;34m)\u001b[0m\u001b[0;34m\u001b[0m\u001b[0m\n",
       "\u001b[0;31mDocstring:\u001b[0m\n",
       "Cumulative distribution function of the given RV.\n",
       "\n",
       "Parameters\n",
       "----------\n",
       "x : array_like\n",
       "    quantiles\n",
       "arg1, arg2, arg3,... : array_like\n",
       "    The shape parameter(s) for the distribution (see docstring of the\n",
       "    instance object for more information)\n",
       "loc : array_like, optional\n",
       "    location parameter (default=0)\n",
       "scale : array_like, optional\n",
       "    scale parameter (default=1)\n",
       "\n",
       "Returns\n",
       "-------\n",
       "cdf : ndarray\n",
       "    Cumulative distribution function evaluated at `x`\n",
       "\u001b[0;31mFile:\u001b[0m      ~/anaconda3/envs/py36/lib/python3.6/site-packages/scipy/stats/_distn_infrastructure.py\n",
       "\u001b[0;31mType:\u001b[0m      method\n"
      ]
     },
     "metadata": {},
     "output_type": "display_data"
    }
   ],
   "source": [
    "?stats.t.cdf"
   ]
  },
  {
   "cell_type": "code",
   "execution_count": 152,
   "metadata": {},
   "outputs": [
    {
     "data": {
      "text/plain": [
       "0.0035648433933430884"
      ]
     },
     "execution_count": 152,
     "metadata": {},
     "output_type": "execute_result"
    }
   ],
   "source": [
    "stats.t.cdf(x=  -3.0619921999179267,      # T-test statistic\n",
    "            df= len(sample)-1) * 2   # Mupltiply by two for two tailed test*"
   ]
  },
  {
   "cell_type": "code",
   "execution_count": 154,
   "metadata": {},
   "outputs": [
    {
     "data": {
      "text/plain": [
       "True"
      ]
     },
     "execution_count": 154,
     "metadata": {},
     "output_type": "execute_result"
    }
   ],
   "source": [
    "stats.t.cdf(x=  -3.0619921999179267,\n",
    "            df= len(sample)-1) * 2     < .05"
   ]
  },
  {
   "cell_type": "markdown",
   "metadata": {},
   "source": [
    "p-value - это вероятность получения настолько - или более - отклоняющегося от \"нормы\" результата"
   ]
  },
  {
   "cell_type": "markdown",
   "metadata": {},
   "source": [
    "# Нулевая Гипотеза"
   ]
  },
  {
   "cell_type": "markdown",
   "metadata": {},
   "source": [
    "Нулевая гипотеза - это базовое ( по умолчению) предположение что между двумя событиями нет связи. Задача исследователя - доказать фактами что нулевую гипотезу можно отбросить - шанс что наблюдаемые взаимосвязи случайны достаточно низок."
   ]
  },
  {
   "cell_type": "markdown",
   "metadata": {},
   "source": [
    "В нашем (и большинстве) случаев нулевая гипотеза глачит что наблюдаемый результат вполне вписывается в \"норму\". Необходимо доказать что наблюдаемый/полученый результат достаточно отклоняется от \"нормы\", чтобы считать его значимым, например:"
   ]
  },
  {
   "cell_type": "markdown",
   "metadata": {},
   "source": [
    "(ВСЕ ПРИМЕРЫ ПРИДУМАННЫ)\n",
    "* Применение лекарства X привело к улучшению состояния у пацеиентов в значительной степени, что позволяет говорить, что лекарство действут\n",
    "* Наблюдаемые Мадагаскарские мыши имеют значительно более длинный хвост, что позволяет говорить о том, что это отдельный подвид\n",
    "* генно-модифицированные семена принесли в ДОСТАТОЧНОЙ МЕРЕ больше урожая чтобы говорить об эффективности метода"
   ]
  },
  {
   "cell_type": "markdown",
   "metadata": {},
   "source": [
    "* [P-hacking](https://projects.fivethirtyeight.com/p-hacking/)"
   ]
  },
  {
   "cell_type": "markdown",
   "metadata": {},
   "source": [
    "# Представляют ли две выборки (sample) единуую генеральную совокупность (Population)?\n",
    "\n",
    "## Paired T-Test\n"
   ]
  },
  {
   "cell_type": "code",
   "execution_count": 20,
   "metadata": {},
   "outputs": [],
   "source": [
    "S = df.loc[(mask & (df.usertype=='Subscriber')), 'tripduration']\n",
    "C = df.loc[(mask & (df.usertype=='Customer')), 'tripduration']"
   ]
  },
  {
   "cell_type": "code",
   "execution_count": 48,
   "metadata": {},
   "outputs": [
    {
     "data": {
      "text/plain": [
       "<matplotlib.axes._subplots.AxesSubplot at 0x1278f8908>"
      ]
     },
     "execution_count": 48,
     "metadata": {},
     "output_type": "execute_result"
    },
    {
     "data": {
      "image/png": "[encoded data removed]",
      "text/plain": [
       "<Figure size 720x720 with 1 Axes>"
      ]
     },
     "metadata": {
      "needs_background": "light"
     },
     "output_type": "display_data"
    }
   ],
   "source": [
    "fig, axes = plt.subplots(1, 1, figsize=(10, 10), sharex=True)\n",
    "S.hist(bins=50, ax=axes, density=True, alpha=.4)\n",
    "C.hist(bins=50, ax=axes, density=True, color='red', alpha=.4)"
   ]
  },
  {
   "cell_type": "code",
   "execution_count": 44,
   "metadata": {},
   "outputs": [
    {
     "data": {
      "text/plain": [
       "Ttest_indResult(statistic=-132.790269948001, pvalue=0.0)"
      ]
     },
     "execution_count": 44,
     "metadata": {},
     "output_type": "execute_result"
    }
   ],
   "source": [
    "stats.ttest_ind(a=S, b=C, equal_var=False)"
   ]
  },
  {
   "cell_type": "markdown",
   "metadata": {},
   "source": [
    "# Мужчины и женщины"
   ]
  },
  {
   "cell_type": "code",
   "execution_count": 10,
   "metadata": {},
   "outputs": [],
   "source": [
    "male = df.loc[(mask & (df.gender==1)), 'tripduration']\n",
    "female = df.loc[(mask & (df.gender==2)), 'tripduration']"
   ]
  },
  {
   "cell_type": "code",
   "execution_count": 11,
   "metadata": {},
   "outputs": [
    {
     "data": {
      "text/plain": [
       "(10.456873254415525, 8.1)"
      ]
     },
     "execution_count": 11,
     "metadata": {},
     "output_type": "execute_result"
    }
   ],
   "source": [
    "male.mean(), male.median()"
   ]
  },
  {
   "cell_type": "code",
   "execution_count": 13,
   "metadata": {},
   "outputs": [
    {
     "data": {
      "text/plain": [
       "(11.731382344842777, 9.266666666666667)"
      ]
     },
     "execution_count": 13,
     "metadata": {},
     "output_type": "execute_result"
    }
   ],
   "source": [
    "female.mean(), female.median()"
   ]
  },
  {
   "cell_type": "code",
   "execution_count": 37,
   "metadata": {},
   "outputs": [
    {
     "data": {
      "text/plain": [
       "(151325, 536592)"
      ]
     },
     "execution_count": 37,
     "metadata": {},
     "output_type": "execute_result"
    }
   ],
   "source": [
    "len(female), len(male)"
   ]
  },
  {
   "cell_type": "code",
   "execution_count": 49,
   "metadata": {},
   "outputs": [
    {
     "data": {
      "text/plain": [
       "<matplotlib.legend.Legend at 0x127d6b358>"
      ]
     },
     "execution_count": 49,
     "metadata": {},
     "output_type": "execute_result"
    },
    {
     "data": {
      "image/png": "[encoded data removed]",
      "text/plain": [
       "<Figure size 720x720 with 1 Axes>"
      ]
     },
     "metadata": {
      "needs_background": "light"
     },
     "output_type": "display_data"
    }
   ],
   "source": [
    "fig, axes = plt.subplots(1, 1, figsize=(10, 10), sharex=True)\n",
    "male.hist(bins=50, ax=axes, alpha=.4, density=True, label='male')\n",
    "female.hist(bins=50, ax=axes, color='red', alpha=.4, density=True, label='female')\n",
    "plt.legend()"
   ]
  },
  {
   "cell_type": "code",
   "execution_count": 50,
   "metadata": {},
   "outputs": [
    {
     "data": {
      "text/plain": [
       "Ttest_indResult(statistic=-52.828582128356864, pvalue=0.0)"
      ]
     },
     "execution_count": 50,
     "metadata": {},
     "output_type": "execute_result"
    }
   ],
   "source": [
    "stats.ttest_ind(a=male, b=female, equal_var=False)"
   ]
  },
  {
   "cell_type": "markdown",
   "metadata": {},
   "source": [
    "* Достаточно ли у нас оснований сказать, что женщины ездят дольше/меньше чем мужчины? "
   ]
  },
  {
   "cell_type": "markdown",
   "metadata": {},
   "source": [
    "* Значит ли это что мужчины в Америке/Нью-Йорке ездят меньше/быстрее?"
   ]
  },
  {
   "cell_type": "markdown",
   "metadata": {},
   "source": [
    "# Ошибки первого и второго типа"
   ]
  },
  {
   "cell_type": "markdown",
   "metadata": {},
   "source": [
    "* Type I - ошибочно отбросить нулевую гипотезу (False Positive)\n",
    "* Type II - ошибочно держаться нулевой гипотезы (False Negative)"
   ]
  },
  {
   "cell_type": "markdown",
   "metadata": {},
   "source": [
    "![image](data:image/png;base64,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)"
   ]
  },
  {
   "cell_type": "markdown",
   "metadata": {},
   "source": [
    "## Chi Square Test"
   ]
  },
  {
   "cell_type": "markdown",
   "metadata": {},
   "source": [
    "- сравнение распределения категориальных данных"
   ]
  },
  {
   "cell_type": "markdown",
   "metadata": {},
   "source": [
    "${\\displaystyle X^{2}=\\sum _{i=1}^{k}{\\frac {(x_{i}-m_{i})^{2}}{m_{i}}}=\\sum _{i=1}^{k}{{\\frac {x_{i}^{2}}{m_{i}}}-n}}$"
   ]
  },
  {
   "cell_type": "code",
   "execution_count": 57,
   "metadata": {},
   "outputs": [],
   "source": [
    "Sg = df.loc[mask & (df.usertype =='Subscriber'), 'gender'].value_counts()"
   ]
  },
  {
   "cell_type": "code",
   "execution_count": 58,
   "metadata": {},
   "outputs": [
    {
     "data": {
      "text/plain": [
       "1    533800\n",
       "2    149348\n",
       "0     12432\n",
       "Name: gender, dtype: int64"
      ]
     },
     "execution_count": 58,
     "metadata": {},
     "output_type": "execute_result"
    }
   ],
   "source": [
    "Sg"
   ]
  },
  {
   "cell_type": "code",
   "execution_count": 59,
   "metadata": {},
   "outputs": [],
   "source": [
    "Cg = df.loc[mask & (df.usertype =='Customer'), 'gender'].value_counts()"
   ]
  },
  {
   "cell_type": "code",
   "execution_count": 60,
   "metadata": {},
   "outputs": [
    {
     "data": {
      "text/plain": [
       "0    16222\n",
       "1     2792\n",
       "2     1977\n",
       "Name: gender, dtype: int64"
      ]
     },
     "execution_count": 60,
     "metadata": {},
     "output_type": "execute_result"
    }
   ],
   "source": [
    "Cg"
   ]
  },
  {
   "cell_type": "code",
   "execution_count": 65,
   "metadata": {},
   "outputs": [],
   "source": [
    "DF = pd.DataFrame({'Subscriber':Sg, 'Customer':Cg})\n",
    "DF = DF / DF.sum()"
   ]
  },
  {
   "cell_type": "code",
   "execution_count": 67,
   "metadata": {},
   "outputs": [
    {
     "data": {
      "text/plain": [
       "<matplotlib.axes._subplots.AxesSubplot at 0x1215fa1d0>"
      ]
     },
     "execution_count": 67,
     "metadata": {},
     "output_type": "execute_result"
    },
    {
     "data": {
      "image/png": "[encoded data removed]",
      "text/plain": [
       "<Figure size 432x288 with 1 Axes>"
      ]
     },
     "metadata": {
      "needs_background": "light"
     },
     "output_type": "display_data"
    }
   ],
   "source": [
    "DF.plot(kind='barh')"
   ]
  },
  {
   "cell_type": "code",
   "execution_count": 68,
   "metadata": {},
   "outputs": [
    {
     "data": {
      "text/plain": [
       "Power_divergenceResult(statistic=654457.5689671593, pvalue=0.0)"
      ]
     },
     "execution_count": 68,
     "metadata": {},
     "output_type": "execute_result"
    }
   ],
   "source": [
    "stats.chisquare(f_obs= Cg,\n",
    "                f_exp= Sg)"
   ]
  },
  {
   "cell_type": "code",
   "execution_count": 72,
   "metadata": {},
   "outputs": [],
   "source": [
    "DF = pd.DataFrame({'Subscriber':Sg, 'Customer':Cg}).iloc[1:]"
   ]
  },
  {
   "cell_type": "code",
   "execution_count": 73,
   "metadata": {},
   "outputs": [],
   "source": [
    "DF = DF / DF.sum()"
   ]
  },
  {
   "cell_type": "code",
   "execution_count": 74,
   "metadata": {},
   "outputs": [
    {
     "data": {
      "text/plain": [
       "<matplotlib.axes._subplots.AxesSubplot at 0x128f68d30>"
      ]
     },
     "execution_count": 74,
     "metadata": {},
     "output_type": "execute_result"
    },
    {
     "data": {
      "image/png": "[encoded data removed]",
      "text/plain": [
       "<Figure size 432x288 with 1 Axes>"
      ]
     },
     "metadata": {
      "needs_background": "light"
     },
     "output_type": "display_data"
    }
   ],
   "source": [
    "DF.plot(kind='barh')"
   ]
  },
  {
   "cell_type": "code",
   "execution_count": 75,
   "metadata": {},
   "outputs": [
    {
     "data": {
      "text/plain": [
       "Power_divergenceResult(statistic=0.1581817926975872, pvalue=0.6908360423703623)"
      ]
     },
     "execution_count": 75,
     "metadata": {},
     "output_type": "execute_result"
    }
   ],
   "source": [
    "stats.chisquare(f_obs= DF['Subscriber'],\n",
    "                f_exp= DF['Customer'])"
   ]
  },
  {
   "cell_type": "code",
   "execution_count": null,
   "metadata": {},
   "outputs": [],
   "source": []
  }
 ],
 "metadata": {
  "kernelspec": {
   "display_name": "Python 3",
   "language": "python",
   "name": "python3"
  },
  "language_info": {
   "codemirror_mode": {
    "name": "ipython",
    "version": 3
   },
   "file_extension": ".py",
   "mimetype": "text/x-python",
   "name": "python",
   "nbconvert_exporter": "python",
   "pygments_lexer": "ipython3",
   "version": "3.6.5"
  }
 },
 "nbformat": 4,
 "nbformat_minor": 2
}
