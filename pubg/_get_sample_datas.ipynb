{
 "cells": [
  {
   "cell_type": "code",
   "execution_count": 19,
   "metadata": {},
   "outputs": [],
   "source": [
    "import pandas as pd"
   ]
  },
  {
   "cell_type": "code",
   "execution_count": 20,
   "metadata": {},
   "outputs": [],
   "source": [
    "import sqlite3\n",
    "conn = sqlite3.connect(\"../data/pubg/pubg_sample.db\")"
   ]
  },
  {
   "cell_type": "markdown",
   "metadata": {},
   "source": [
    "# Deaths"
   ]
  },
  {
   "cell_type": "code",
   "execution_count": 21,
   "metadata": {},
   "outputs": [],
   "source": [
    "deaths = pd.read_csv('../data/pubg/deaths/kill_match_stats_final_0.csv')"
   ]
  },
  {
   "cell_type": "code",
   "execution_count": 22,
   "metadata": {},
   "outputs": [
    {
     "data": {
      "text/plain": [
       "(13426348, 12)"
      ]
     },
     "execution_count": 22,
     "metadata": {},
     "output_type": "execute_result"
    }
   ],
   "source": [
    "deaths.shape"
   ]
  },
  {
   "cell_type": "code",
   "execution_count": 23,
   "metadata": {},
   "outputs": [],
   "source": [
    "rs=2019"
   ]
  },
  {
   "cell_type": "code",
   "execution_count": 24,
   "metadata": {},
   "outputs": [],
   "source": [
    "sample = pd.concat([df.sample(200_000, random_state=rs) for _, df in deaths.groupby('map')], sort=False)"
   ]
  },
  {
   "cell_type": "code",
   "execution_count": 25,
   "metadata": {},
   "outputs": [],
   "source": [
    "sample.reset_index(drop=True, inplace=True)"
   ]
  },
  {
   "cell_type": "code",
   "execution_count": 26,
   "metadata": {},
   "outputs": [],
   "source": [
    "sample.to_sql('deaths', conn)"
   ]
  },
  {
   "cell_type": "markdown",
   "metadata": {},
   "source": [
    "# Aggregates"
   ]
  },
  {
   "cell_type": "code",
   "execution_count": 27,
   "metadata": {},
   "outputs": [],
   "source": [
    "aggregates = pd.read_csv('../data/pubg/aggregate/agg_match_stats_0.csv')"
   ]
  },
  {
   "cell_type": "code",
   "execution_count": 28,
   "metadata": {},
   "outputs": [],
   "source": [
    "a = aggregates.sample(1_000_000, random_state=rs)"
   ]
  },
  {
   "cell_type": "code",
   "execution_count": 29,
   "metadata": {},
   "outputs": [],
   "source": [
    "a.reset_index(drop=True, inplace=True)"
   ]
  },
  {
   "cell_type": "code",
   "execution_count": 31,
   "metadata": {},
   "outputs": [],
   "source": [
    "a.to_sql('aggregates', conn)"
   ]
  },
  {
   "cell_type": "code",
   "execution_count": 32,
   "metadata": {},
   "outputs": [],
   "source": [
    "conn.close()"
   ]
  },
  {
   "cell_type": "markdown",
   "metadata": {},
   "source": [
    "## Check"
   ]
  },
  {
   "cell_type": "code",
   "execution_count": 33,
   "metadata": {},
   "outputs": [],
   "source": [
    "con2 = sqlite3.connect(\"../data/pubg/pubg_sample.db\")"
   ]
  },
  {
   "cell_type": "code",
   "execution_count": 34,
   "metadata": {},
   "outputs": [],
   "source": [
    "df = pd.read_sql('SELECT * FROM aggregates LIMIT 10;', con2)"
   ]
  },
  {
   "cell_type": "code",
   "execution_count": 35,
   "metadata": {},
   "outputs": [
    {
     "data": {
      "text/html": [
       "<div>\n",
       "<style scoped>\n",
       "    .dataframe tbody tr th:only-of-type {\n",
       "        vertical-align: middle;\n",
       "    }\n",
       "\n",
       "    .dataframe tbody tr th {\n",
       "        vertical-align: top;\n",
       "    }\n",
       "\n",
       "    .dataframe thead th {\n",
       "        text-align: right;\n",
       "    }\n",
       "</style>\n",
       "<table border=\"1\" class=\"dataframe\">\n",
       "  <thead>\n",
       "    <tr style=\"text-align: right;\">\n",
       "      <th></th>\n",
       "      <th>index</th>\n",
       "      <th>date</th>\n",
       "      <th>game_size</th>\n",
       "      <th>match_id</th>\n",
       "      <th>match_mode</th>\n",
       "      <th>party_size</th>\n",
       "      <th>player_assists</th>\n",
       "      <th>player_dbno</th>\n",
       "      <th>player_dist_ride</th>\n",
       "      <th>player_dist_walk</th>\n",
       "      <th>player_dmg</th>\n",
       "      <th>player_kills</th>\n",
       "      <th>player_name</th>\n",
       "      <th>player_survive_time</th>\n",
       "      <th>team_id</th>\n",
       "      <th>team_placement</th>\n",
       "    </tr>\n",
       "  </thead>\n",
       "  <tbody>\n",
       "    <tr>\n",
       "      <th>0</th>\n",
       "      <td>0</td>\n",
       "      <td>2017-11-22T13:46:57+0000</td>\n",
       "      <td>89</td>\n",
       "      <td>2U4GBNA0YmkdFgFsMGcdVo99KIBVuwJxruGNqJQ2BzOGsM...</td>\n",
       "      <td>tpp</td>\n",
       "      <td>1</td>\n",
       "      <td>0</td>\n",
       "      <td>0</td>\n",
       "      <td>0.00000</td>\n",
       "      <td>429.593048</td>\n",
       "      <td>41</td>\n",
       "      <td>0</td>\n",
       "      <td>zwg136</td>\n",
       "      <td>283.304</td>\n",
       "      <td>100026</td>\n",
       "      <td>70</td>\n",
       "    </tr>\n",
       "    <tr>\n",
       "      <th>1</th>\n",
       "      <td>1</td>\n",
       "      <td>2017-12-21T09:45:45+0000</td>\n",
       "      <td>27</td>\n",
       "      <td>2U4GBNA0YmmA2pEK3A1VqTo7j_ghu_sQtuj275Lyf_sPuk...</td>\n",
       "      <td>tpp</td>\n",
       "      <td>4</td>\n",
       "      <td>0</td>\n",
       "      <td>0</td>\n",
       "      <td>0.00000</td>\n",
       "      <td>1845.780520</td>\n",
       "      <td>0</td>\n",
       "      <td>0</td>\n",
       "      <td>Bronze2g</td>\n",
       "      <td>883.392</td>\n",
       "      <td>11</td>\n",
       "      <td>13</td>\n",
       "    </tr>\n",
       "    <tr>\n",
       "      <th>2</th>\n",
       "      <td>2</td>\n",
       "      <td>2017-12-02T20:14:22+0000</td>\n",
       "      <td>50</td>\n",
       "      <td>2U4GBNA0YmkyGvVnE3aSCxZ8W74OQGL2lAsoqpF8YY2Cbw...</td>\n",
       "      <td>tpp</td>\n",
       "      <td>2</td>\n",
       "      <td>0</td>\n",
       "      <td>0</td>\n",
       "      <td>5835.63574</td>\n",
       "      <td>2933.343750</td>\n",
       "      <td>132</td>\n",
       "      <td>0</td>\n",
       "      <td>I-think_ok</td>\n",
       "      <td>1698.422</td>\n",
       "      <td>20</td>\n",
       "      <td>5</td>\n",
       "    </tr>\n",
       "    <tr>\n",
       "      <th>3</th>\n",
       "      <td>3</td>\n",
       "      <td>2017-11-13T09:47:46+0000</td>\n",
       "      <td>49</td>\n",
       "      <td>2U4GBNA0YmndALs89crpkL2GmrIDVlRqYN8s4ObZ5x9mRB...</td>\n",
       "      <td>tpp</td>\n",
       "      <td>2</td>\n",
       "      <td>0</td>\n",
       "      <td>0</td>\n",
       "      <td>0.00000</td>\n",
       "      <td>20.143822</td>\n",
       "      <td>0</td>\n",
       "      <td>0</td>\n",
       "      <td>yishengpiaobo</td>\n",
       "      <td>103.771</td>\n",
       "      <td>3</td>\n",
       "      <td>42</td>\n",
       "    </tr>\n",
       "    <tr>\n",
       "      <th>4</th>\n",
       "      <td>4</td>\n",
       "      <td>2017-11-23T16:48:37+0000</td>\n",
       "      <td>27</td>\n",
       "      <td>2U4GBNA0YmkCpY7hPVi8Zw3V-OTqEpRa9g1jQ0k3_kPLff...</td>\n",
       "      <td>tpp</td>\n",
       "      <td>4</td>\n",
       "      <td>0</td>\n",
       "      <td>2</td>\n",
       "      <td>4272.06800</td>\n",
       "      <td>1787.829350</td>\n",
       "      <td>436</td>\n",
       "      <td>3</td>\n",
       "      <td>Daniel_su</td>\n",
       "      <td>1791.252</td>\n",
       "      <td>12</td>\n",
       "      <td>3</td>\n",
       "    </tr>\n",
       "    <tr>\n",
       "      <th>5</th>\n",
       "      <td>5</td>\n",
       "      <td>2018-01-03T00:39:43+0000</td>\n",
       "      <td>98</td>\n",
       "      <td>2U4GBNA0YmlNS9OkdqjPheI9gqlAmLc3AaoQ7L6hkXCadd...</td>\n",
       "      <td>tpp</td>\n",
       "      <td>1</td>\n",
       "      <td>0</td>\n",
       "      <td>0</td>\n",
       "      <td>0.00000</td>\n",
       "      <td>399.417267</td>\n",
       "      <td>0</td>\n",
       "      <td>0</td>\n",
       "      <td>Snaffle</td>\n",
       "      <td>392.255</td>\n",
       "      <td>100043</td>\n",
       "      <td>55</td>\n",
       "    </tr>\n",
       "    <tr>\n",
       "      <th>6</th>\n",
       "      <td>6</td>\n",
       "      <td>2017-10-25T02:50:33+0000</td>\n",
       "      <td>27</td>\n",
       "      <td>2U4GBNA0YmkU5tw01Kfg71ujNJXMq89oT5DTMyArzg0INn...</td>\n",
       "      <td>tpp</td>\n",
       "      <td>4</td>\n",
       "      <td>0</td>\n",
       "      <td>0</td>\n",
       "      <td>0.00000</td>\n",
       "      <td>0.000000</td>\n",
       "      <td>0</td>\n",
       "      <td>0</td>\n",
       "      <td>SUPEI_MAN</td>\n",
       "      <td>380.798</td>\n",
       "      <td>9</td>\n",
       "      <td>10</td>\n",
       "    </tr>\n",
       "    <tr>\n",
       "      <th>7</th>\n",
       "      <td>7</td>\n",
       "      <td>2017-12-01T20:46:44+0000</td>\n",
       "      <td>48</td>\n",
       "      <td>2U4GBNA0YmnU2IBuPSnw3hYZhaxEYtMPaSM5Uv0yfJpM7t...</td>\n",
       "      <td>tpp</td>\n",
       "      <td>2</td>\n",
       "      <td>1</td>\n",
       "      <td>1</td>\n",
       "      <td>1724.95386</td>\n",
       "      <td>3544.101560</td>\n",
       "      <td>232</td>\n",
       "      <td>2</td>\n",
       "      <td>ZCgregory</td>\n",
       "      <td>1856.709</td>\n",
       "      <td>15</td>\n",
       "      <td>4</td>\n",
       "    </tr>\n",
       "    <tr>\n",
       "      <th>8</th>\n",
       "      <td>8</td>\n",
       "      <td>2017-12-29T04:32:51+0000</td>\n",
       "      <td>47</td>\n",
       "      <td>2U4GBNA0Ymk5jsoc8bth8gv4qbE8vkMlaKRQIWTkfpiFfE...</td>\n",
       "      <td>tpp</td>\n",
       "      <td>2</td>\n",
       "      <td>0</td>\n",
       "      <td>1</td>\n",
       "      <td>0.00000</td>\n",
       "      <td>2877.846680</td>\n",
       "      <td>248</td>\n",
       "      <td>1</td>\n",
       "      <td>KoalaTheKoala</td>\n",
       "      <td>1166.898</td>\n",
       "      <td>46</td>\n",
       "      <td>8</td>\n",
       "    </tr>\n",
       "    <tr>\n",
       "      <th>9</th>\n",
       "      <td>9</td>\n",
       "      <td>2017-11-20T17:18:03+0000</td>\n",
       "      <td>27</td>\n",
       "      <td>2U4GBNA0YmlUnkkUo1rrszBPLtpCOYSP7-Au_j2YwXytWv...</td>\n",
       "      <td>tpp</td>\n",
       "      <td>4</td>\n",
       "      <td>0</td>\n",
       "      <td>0</td>\n",
       "      <td>2467.86353</td>\n",
       "      <td>1942.460330</td>\n",
       "      <td>0</td>\n",
       "      <td>0</td>\n",
       "      <td>SilasYin</td>\n",
       "      <td>1190.581</td>\n",
       "      <td>3</td>\n",
       "      <td>12</td>\n",
       "    </tr>\n",
       "  </tbody>\n",
       "</table>\n",
       "</div>"
      ],
      "text/plain": [
       "   index                      date  game_size  \\\n",
       "0      0  2017-11-22T13:46:57+0000         89   \n",
       "1      1  2017-12-21T09:45:45+0000         27   \n",
       "2      2  2017-12-02T20:14:22+0000         50   \n",
       "3      3  2017-11-13T09:47:46+0000         49   \n",
       "4      4  2017-11-23T16:48:37+0000         27   \n",
       "5      5  2018-01-03T00:39:43+0000         98   \n",
       "6      6  2017-10-25T02:50:33+0000         27   \n",
       "7      7  2017-12-01T20:46:44+0000         48   \n",
       "8      8  2017-12-29T04:32:51+0000         47   \n",
       "9      9  2017-11-20T17:18:03+0000         27   \n",
       "\n",
       "                                            match_id match_mode  party_size  \\\n",
       "0  2U4GBNA0YmkdFgFsMGcdVo99KIBVuwJxruGNqJQ2BzOGsM...        tpp           1   \n",
       "1  2U4GBNA0YmmA2pEK3A1VqTo7j_ghu_sQtuj275Lyf_sPuk...        tpp           4   \n",
       "2  2U4GBNA0YmkyGvVnE3aSCxZ8W74OQGL2lAsoqpF8YY2Cbw...        tpp           2   \n",
       "3  2U4GBNA0YmndALs89crpkL2GmrIDVlRqYN8s4ObZ5x9mRB...        tpp           2   \n",
       "4  2U4GBNA0YmkCpY7hPVi8Zw3V-OTqEpRa9g1jQ0k3_kPLff...        tpp           4   \n",
       "5  2U4GBNA0YmlNS9OkdqjPheI9gqlAmLc3AaoQ7L6hkXCadd...        tpp           1   \n",
       "6  2U4GBNA0YmkU5tw01Kfg71ujNJXMq89oT5DTMyArzg0INn...        tpp           4   \n",
       "7  2U4GBNA0YmnU2IBuPSnw3hYZhaxEYtMPaSM5Uv0yfJpM7t...        tpp           2   \n",
       "8  2U4GBNA0Ymk5jsoc8bth8gv4qbE8vkMlaKRQIWTkfpiFfE...        tpp           2   \n",
       "9  2U4GBNA0YmlUnkkUo1rrszBPLtpCOYSP7-Au_j2YwXytWv...        tpp           4   \n",
       "\n",
       "   player_assists  player_dbno  player_dist_ride  player_dist_walk  \\\n",
       "0               0            0           0.00000        429.593048   \n",
       "1               0            0           0.00000       1845.780520   \n",
       "2               0            0        5835.63574       2933.343750   \n",
       "3               0            0           0.00000         20.143822   \n",
       "4               0            2        4272.06800       1787.829350   \n",
       "5               0            0           0.00000        399.417267   \n",
       "6               0            0           0.00000          0.000000   \n",
       "7               1            1        1724.95386       3544.101560   \n",
       "8               0            1           0.00000       2877.846680   \n",
       "9               0            0        2467.86353       1942.460330   \n",
       "\n",
       "   player_dmg  player_kills    player_name  player_survive_time  team_id  \\\n",
       "0          41             0         zwg136              283.304   100026   \n",
       "1           0             0       Bronze2g              883.392       11   \n",
       "2         132             0     I-think_ok             1698.422       20   \n",
       "3           0             0  yishengpiaobo              103.771        3   \n",
       "4         436             3      Daniel_su             1791.252       12   \n",
       "5           0             0        Snaffle              392.255   100043   \n",
       "6           0             0      SUPEI_MAN              380.798        9   \n",
       "7         232             2      ZCgregory             1856.709       15   \n",
       "8         248             1  KoalaTheKoala             1166.898       46   \n",
       "9           0             0       SilasYin             1190.581        3   \n",
       "\n",
       "   team_placement  \n",
       "0              70  \n",
       "1              13  \n",
       "2               5  \n",
       "3              42  \n",
       "4               3  \n",
       "5              55  \n",
       "6              10  \n",
       "7               4  \n",
       "8               8  \n",
       "9              12  "
      ]
     },
     "execution_count": 35,
     "metadata": {},
     "output_type": "execute_result"
    }
   ],
   "source": [
    "df"
   ]
  },
  {
   "cell_type": "code",
   "execution_count": null,
   "metadata": {},
   "outputs": [],
   "source": []
  }
 ],
 "metadata": {
  "kernelspec": {
   "display_name": "Python 3",
   "language": "python",
   "name": "python3"
  },
  "language_info": {
   "codemirror_mode": {
    "name": "ipython",
    "version": 3
   },
   "file_extension": ".py",
   "mimetype": "text/x-python",
   "name": "python",
   "nbconvert_exporter": "python",
   "pygments_lexer": "ipython3",
   "version": "3.6.5"
  }
 },
 "nbformat": 4,
 "nbformat_minor": 2
}
