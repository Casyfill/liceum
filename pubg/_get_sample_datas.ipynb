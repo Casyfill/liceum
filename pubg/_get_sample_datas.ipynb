{
 "cells": [
  {
   "cell_type": "code",
   "execution_count": 3,
   "metadata": {},
   "outputs": [],
   "source": [
    "import pandas as pd"
   ]
  },
  {
   "cell_type": "code",
   "execution_count": 1,
   "metadata": {},
   "outputs": [],
   "source": [
    "import sqlite3\n",
    "conn = sqlite3.connect(\"../data/pubg/pubg_sample.db\")"
   ]
  },
  {
   "cell_type": "markdown",
   "metadata": {},
   "source": [
    "# Deaths"
   ]
  },
  {
   "cell_type": "code",
   "execution_count": 4,
   "metadata": {},
   "outputs": [],
   "source": [
    "deaths = pd.read_csv('../data/pubg/deaths/kill_match_stats_final_0.csv')"
   ]
  },
  {
   "cell_type": "code",
   "execution_count": 5,
   "metadata": {},
   "outputs": [
    {
     "data": {
      "text/plain": [
       "(13426348, 12)"
      ]
     },
     "execution_count": 5,
     "metadata": {},
     "output_type": "execute_result"
    }
   ],
   "source": [
    "deaths.shape"
   ]
  },
  {
   "cell_type": "code",
   "execution_count": 6,
   "metadata": {},
   "outputs": [],
   "source": [
    "rs=2019"
   ]
  },
  {
   "cell_type": "code",
   "execution_count": 7,
   "metadata": {},
   "outputs": [],
   "source": [
    "sample = pd.concat([df.sample(200_000, random_state=rs) for _, df in deaths.groupby('map')], sort=False)"
   ]
  },
  {
   "cell_type": "code",
   "execution_count": 8,
   "metadata": {},
   "outputs": [],
   "source": [
    "sample.reset_index(drop=True, inplace=True)"
   ]
  },
  {
   "cell_type": "code",
   "execution_count": 9,
   "metadata": {},
   "outputs": [],
   "source": [
    "sample.to_sql('deaths', conn)"
   ]
  },
  {
   "cell_type": "markdown",
   "metadata": {},
   "source": [
    "# Aggregates"
   ]
  },
  {
   "cell_type": "code",
   "execution_count": 10,
   "metadata": {},
   "outputs": [],
   "source": [
    "aggregates = pd.read_csv('../data/pubg/aggregate/agg_match_stats_0.csv')"
   ]
  },
  {
   "cell_type": "code",
   "execution_count": 11,
   "metadata": {},
   "outputs": [],
   "source": [
    "a = aggregates.sample(1_000_000, random_state=rs)"
   ]
  },
  {
   "cell_type": "code",
   "execution_count": 12,
   "metadata": {},
   "outputs": [],
   "source": [
    "a.reset_index(drop=True, inplace=True)"
   ]
  },
  {
   "cell_type": "code",
   "execution_count": 13,
   "metadata": {},
   "outputs": [],
   "source": [
    "sample.to_sql('aggregates', conn)"
   ]
  },
  {
   "cell_type": "code",
   "execution_count": 14,
   "metadata": {},
   "outputs": [],
   "source": [
    "conn.close()"
   ]
  },
  {
   "cell_type": "markdown",
   "metadata": {},
   "source": [
    "## Check"
   ]
  },
  {
   "cell_type": "code",
   "execution_count": 15,
   "metadata": {},
   "outputs": [],
   "source": [
    "con2 = sqlite3.connect(\"../data/pubg/pubg_sample.db\")"
   ]
  },
  {
   "cell_type": "code",
   "execution_count": 16,
   "metadata": {},
   "outputs": [],
   "source": [
    "df = pd.read_sql('SELECT * FROM aggregates LIMIT 10;', con2)"
   ]
  },
  {
   "cell_type": "code",
   "execution_count": 17,
   "metadata": {},
   "outputs": [
    {
     "data": {
      "text/html": [
       "<div>\n",
       "<style scoped>\n",
       "    .dataframe tbody tr th:only-of-type {\n",
       "        vertical-align: middle;\n",
       "    }\n",
       "\n",
       "    .dataframe tbody tr th {\n",
       "        vertical-align: top;\n",
       "    }\n",
       "\n",
       "    .dataframe thead th {\n",
       "        text-align: right;\n",
       "    }\n",
       "</style>\n",
       "<table border=\"1\" class=\"dataframe\">\n",
       "  <thead>\n",
       "    <tr style=\"text-align: right;\">\n",
       "      <th></th>\n",
       "      <th>index</th>\n",
       "      <th>killed_by</th>\n",
       "      <th>killer_name</th>\n",
       "      <th>killer_placement</th>\n",
       "      <th>killer_position_x</th>\n",
       "      <th>killer_position_y</th>\n",
       "      <th>map</th>\n",
       "      <th>match_id</th>\n",
       "      <th>time</th>\n",
       "      <th>victim_name</th>\n",
       "      <th>victim_placement</th>\n",
       "      <th>victim_position_x</th>\n",
       "      <th>victim_position_y</th>\n",
       "    </tr>\n",
       "  </thead>\n",
       "  <tbody>\n",
       "    <tr>\n",
       "      <th>0</th>\n",
       "      <td>0</td>\n",
       "      <td>UMP9</td>\n",
       "      <td>bigjj321</td>\n",
       "      <td>5.0</td>\n",
       "      <td>332478.2</td>\n",
       "      <td>533202.6</td>\n",
       "      <td>ERANGEL</td>\n",
       "      <td>2U4GBNA0YmmYVKQqfjTRvzroK1jWy0P_Ekt9jDJjdzJ8_g...</td>\n",
       "      <td>747</td>\n",
       "      <td>unbertakerP</td>\n",
       "      <td>3.0</td>\n",
       "      <td>330715.8</td>\n",
       "      <td>532682.2</td>\n",
       "    </tr>\n",
       "    <tr>\n",
       "      <th>1</th>\n",
       "      <td>1</td>\n",
       "      <td>Bluezone</td>\n",
       "      <td>None</td>\n",
       "      <td>NaN</td>\n",
       "      <td>NaN</td>\n",
       "      <td>NaN</td>\n",
       "      <td>ERANGEL</td>\n",
       "      <td>2U4GBNA0YmnpTzelHSxoLknOT8Wco_qaNyOFz53xi7X7Em...</td>\n",
       "      <td>1487</td>\n",
       "      <td>Your-Old-Iron</td>\n",
       "      <td>82.0</td>\n",
       "      <td>0.0</td>\n",
       "      <td>0.0</td>\n",
       "    </tr>\n",
       "    <tr>\n",
       "      <th>2</th>\n",
       "      <td>2</td>\n",
       "      <td>M16A4</td>\n",
       "      <td>StolenV91</td>\n",
       "      <td>24.0</td>\n",
       "      <td>520532.2</td>\n",
       "      <td>467115.6</td>\n",
       "      <td>ERANGEL</td>\n",
       "      <td>2U4GBNA0YmlVfjiMYDoLjs98iK0X1fFCQtmxh9XIAXWJ4l...</td>\n",
       "      <td>504</td>\n",
       "      <td>sasadezx</td>\n",
       "      <td>33.0</td>\n",
       "      <td>520822.9</td>\n",
       "      <td>467389.5</td>\n",
       "    </tr>\n",
       "    <tr>\n",
       "      <th>3</th>\n",
       "      <td>3</td>\n",
       "      <td>M416</td>\n",
       "      <td>LHYnana</td>\n",
       "      <td>11.0</td>\n",
       "      <td>467785.8</td>\n",
       "      <td>318166.1</td>\n",
       "      <td>ERANGEL</td>\n",
       "      <td>2U4GBNA0YmlTGucmurdMK2LklO0uiEBpLbx7EUw7n-emtn...</td>\n",
       "      <td>964</td>\n",
       "      <td>pokkerguy</td>\n",
       "      <td>NaN</td>\n",
       "      <td>468878.0</td>\n",
       "      <td>318632.4</td>\n",
       "    </tr>\n",
       "    <tr>\n",
       "      <th>4</th>\n",
       "      <td>4</td>\n",
       "      <td>Down and Out</td>\n",
       "      <td>Hypes</td>\n",
       "      <td>11.0</td>\n",
       "      <td>224879.9</td>\n",
       "      <td>325055.3</td>\n",
       "      <td>ERANGEL</td>\n",
       "      <td>2U4GBNA0Ymkrs-C2kSP-qk99tdGpXA67flljOW0l8DLUTi...</td>\n",
       "      <td>1094</td>\n",
       "      <td>Krave34</td>\n",
       "      <td>15.0</td>\n",
       "      <td>216709.4</td>\n",
       "      <td>331693.7</td>\n",
       "    </tr>\n",
       "    <tr>\n",
       "      <th>5</th>\n",
       "      <td>5</td>\n",
       "      <td>DP-28</td>\n",
       "      <td>KenVoCam</td>\n",
       "      <td>3.0</td>\n",
       "      <td>627023.3</td>\n",
       "      <td>602767.9</td>\n",
       "      <td>ERANGEL</td>\n",
       "      <td>2U4GBNA0YmkwxgEOcFYPcauqi5oQdu1qcUZc5omNikoOv-...</td>\n",
       "      <td>267</td>\n",
       "      <td>zhuadap2017</td>\n",
       "      <td>26.0</td>\n",
       "      <td>623870.8</td>\n",
       "      <td>601579.4</td>\n",
       "    </tr>\n",
       "    <tr>\n",
       "      <th>6</th>\n",
       "      <td>6</td>\n",
       "      <td>P1911</td>\n",
       "      <td>nanjingdadage</td>\n",
       "      <td>6.0</td>\n",
       "      <td>217782.2</td>\n",
       "      <td>284560.8</td>\n",
       "      <td>ERANGEL</td>\n",
       "      <td>2U4GBNA0Ymk2lEJmq1piEne9Q7dAfJnyeh56xLTFMwQuTa...</td>\n",
       "      <td>218</td>\n",
       "      <td>ItemDelivery</td>\n",
       "      <td>25.0</td>\n",
       "      <td>218473.5</td>\n",
       "      <td>283203.3</td>\n",
       "    </tr>\n",
       "    <tr>\n",
       "      <th>7</th>\n",
       "      <td>7</td>\n",
       "      <td>Bluezone</td>\n",
       "      <td>None</td>\n",
       "      <td>NaN</td>\n",
       "      <td>NaN</td>\n",
       "      <td>NaN</td>\n",
       "      <td>ERANGEL</td>\n",
       "      <td>2U4GBNA0YmlzbhEQLKZtbBdueSY2PUaFtWjRvmG_wqE865...</td>\n",
       "      <td>942</td>\n",
       "      <td>K_R_FTY</td>\n",
       "      <td>35.0</td>\n",
       "      <td>460794.0</td>\n",
       "      <td>428297.9</td>\n",
       "    </tr>\n",
       "    <tr>\n",
       "      <th>8</th>\n",
       "      <td>8</td>\n",
       "      <td>AKM</td>\n",
       "      <td>china-zhengzou</td>\n",
       "      <td>1.0</td>\n",
       "      <td>218230.9</td>\n",
       "      <td>203133.9</td>\n",
       "      <td>ERANGEL</td>\n",
       "      <td>2U4GBNA0YmlJFvQeB7FIvjp5tKp7q5TBRAI4fnE5kAOVlY...</td>\n",
       "      <td>1362</td>\n",
       "      <td>BeiwoZZZZF</td>\n",
       "      <td>6.0</td>\n",
       "      <td>219250.1</td>\n",
       "      <td>200326.0</td>\n",
       "    </tr>\n",
       "    <tr>\n",
       "      <th>9</th>\n",
       "      <td>9</td>\n",
       "      <td>Bluezone</td>\n",
       "      <td>None</td>\n",
       "      <td>NaN</td>\n",
       "      <td>NaN</td>\n",
       "      <td>NaN</td>\n",
       "      <td>ERANGEL</td>\n",
       "      <td>2U4GBNA0YmkOPy_EtgTTtQfUGjgpNNxiJrSxN-k8rywcEc...</td>\n",
       "      <td>1496</td>\n",
       "      <td>Organic_Napalm</td>\n",
       "      <td>16.0</td>\n",
       "      <td>342262.8</td>\n",
       "      <td>433625.4</td>\n",
       "    </tr>\n",
       "  </tbody>\n",
       "</table>\n",
       "</div>"
      ],
      "text/plain": [
       "   index     killed_by     killer_name  killer_placement  killer_position_x  \\\n",
       "0      0          UMP9        bigjj321               5.0           332478.2   \n",
       "1      1      Bluezone            None               NaN                NaN   \n",
       "2      2         M16A4       StolenV91              24.0           520532.2   \n",
       "3      3          M416         LHYnana              11.0           467785.8   \n",
       "4      4  Down and Out           Hypes              11.0           224879.9   \n",
       "5      5         DP-28        KenVoCam               3.0           627023.3   \n",
       "6      6         P1911   nanjingdadage               6.0           217782.2   \n",
       "7      7      Bluezone            None               NaN                NaN   \n",
       "8      8           AKM  china-zhengzou               1.0           218230.9   \n",
       "9      9      Bluezone            None               NaN                NaN   \n",
       "\n",
       "   killer_position_y      map  \\\n",
       "0           533202.6  ERANGEL   \n",
       "1                NaN  ERANGEL   \n",
       "2           467115.6  ERANGEL   \n",
       "3           318166.1  ERANGEL   \n",
       "4           325055.3  ERANGEL   \n",
       "5           602767.9  ERANGEL   \n",
       "6           284560.8  ERANGEL   \n",
       "7                NaN  ERANGEL   \n",
       "8           203133.9  ERANGEL   \n",
       "9                NaN  ERANGEL   \n",
       "\n",
       "                                            match_id  time     victim_name  \\\n",
       "0  2U4GBNA0YmmYVKQqfjTRvzroK1jWy0P_Ekt9jDJjdzJ8_g...   747     unbertakerP   \n",
       "1  2U4GBNA0YmnpTzelHSxoLknOT8Wco_qaNyOFz53xi7X7Em...  1487   Your-Old-Iron   \n",
       "2  2U4GBNA0YmlVfjiMYDoLjs98iK0X1fFCQtmxh9XIAXWJ4l...   504        sasadezx   \n",
       "3  2U4GBNA0YmlTGucmurdMK2LklO0uiEBpLbx7EUw7n-emtn...   964       pokkerguy   \n",
       "4  2U4GBNA0Ymkrs-C2kSP-qk99tdGpXA67flljOW0l8DLUTi...  1094         Krave34   \n",
       "5  2U4GBNA0YmkwxgEOcFYPcauqi5oQdu1qcUZc5omNikoOv-...   267     zhuadap2017   \n",
       "6  2U4GBNA0Ymk2lEJmq1piEne9Q7dAfJnyeh56xLTFMwQuTa...   218    ItemDelivery   \n",
       "7  2U4GBNA0YmlzbhEQLKZtbBdueSY2PUaFtWjRvmG_wqE865...   942         K_R_FTY   \n",
       "8  2U4GBNA0YmlJFvQeB7FIvjp5tKp7q5TBRAI4fnE5kAOVlY...  1362      BeiwoZZZZF   \n",
       "9  2U4GBNA0YmkOPy_EtgTTtQfUGjgpNNxiJrSxN-k8rywcEc...  1496  Organic_Napalm   \n",
       "\n",
       "   victim_placement  victim_position_x  victim_position_y  \n",
       "0               3.0           330715.8           532682.2  \n",
       "1              82.0                0.0                0.0  \n",
       "2              33.0           520822.9           467389.5  \n",
       "3               NaN           468878.0           318632.4  \n",
       "4              15.0           216709.4           331693.7  \n",
       "5              26.0           623870.8           601579.4  \n",
       "6              25.0           218473.5           283203.3  \n",
       "7              35.0           460794.0           428297.9  \n",
       "8               6.0           219250.1           200326.0  \n",
       "9              16.0           342262.8           433625.4  "
      ]
     },
     "execution_count": 17,
     "metadata": {},
     "output_type": "execute_result"
    }
   ],
   "source": [
    "df"
   ]
  },
  {
   "cell_type": "code",
   "execution_count": null,
   "metadata": {},
   "outputs": [],
   "source": []
  }
 ],
 "metadata": {
  "kernelspec": {
   "display_name": "Python 3",
   "language": "python",
   "name": "python3"
  },
  "language_info": {
   "codemirror_mode": {
    "name": "ipython",
    "version": 3
   },
   "file_extension": ".py",
   "mimetype": "text/x-python",
   "name": "python",
   "nbconvert_exporter": "python",
   "pygments_lexer": "ipython3",
   "version": "3.6.5"
  }
 },
 "nbformat": 4,
 "nbformat_minor": 2
}
