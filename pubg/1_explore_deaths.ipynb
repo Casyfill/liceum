{
 "cells": [
  {
   "cell_type": "code",
   "execution_count": 21,
   "metadata": {},
   "outputs": [],
   "source": [
    "%matplotlib inline\n",
    "import pylab as plt\n",
    "plt.style.use('fivethirtyeight')\n",
    "\n",
    "import pandas as pd"
   ]
  },
  {
   "cell_type": "code",
   "execution_count": null,
   "metadata": {},
   "outputs": [],
   "source": []
  },
  {
   "cell_type": "code",
   "execution_count": 22,
   "metadata": {},
   "outputs": [],
   "source": [
    "import seaborn as sns"
   ]
  },
  {
   "cell_type": "code",
   "execution_count": 23,
   "metadata": {},
   "outputs": [],
   "source": [
    "deaths = pd.read_feather('../data/pubg/deaths_sample.fth')"
   ]
  },
  {
   "cell_type": "code",
   "execution_count": 24,
   "metadata": {},
   "outputs": [
    {
     "data": {
      "text/html": [
       "<div>\n",
       "<style scoped>\n",
       "    .dataframe tbody tr th:only-of-type {\n",
       "        vertical-align: middle;\n",
       "    }\n",
       "\n",
       "    .dataframe tbody tr th {\n",
       "        vertical-align: top;\n",
       "    }\n",
       "\n",
       "    .dataframe thead th {\n",
       "        text-align: right;\n",
       "    }\n",
       "</style>\n",
       "<table border=\"1\" class=\"dataframe\">\n",
       "  <thead>\n",
       "    <tr style=\"text-align: right;\">\n",
       "      <th></th>\n",
       "      <th>killed_by</th>\n",
       "      <th>killer_name</th>\n",
       "      <th>killer_placement</th>\n",
       "      <th>killer_position_x</th>\n",
       "      <th>killer_position_y</th>\n",
       "      <th>map</th>\n",
       "      <th>match_id</th>\n",
       "      <th>time</th>\n",
       "      <th>victim_name</th>\n",
       "      <th>victim_placement</th>\n",
       "      <th>victim_position_x</th>\n",
       "      <th>victim_position_y</th>\n",
       "    </tr>\n",
       "  </thead>\n",
       "  <tbody>\n",
       "    <tr>\n",
       "      <th>0</th>\n",
       "      <td>UMP9</td>\n",
       "      <td>bigjj321</td>\n",
       "      <td>5.0</td>\n",
       "      <td>332478.2</td>\n",
       "      <td>533202.6</td>\n",
       "      <td>ERANGEL</td>\n",
       "      <td>2U4GBNA0YmmYVKQqfjTRvzroK1jWy0P_Ekt9jDJjdzJ8_g...</td>\n",
       "      <td>747</td>\n",
       "      <td>unbertakerP</td>\n",
       "      <td>3.0</td>\n",
       "      <td>330715.8</td>\n",
       "      <td>532682.2</td>\n",
       "    </tr>\n",
       "    <tr>\n",
       "      <th>1</th>\n",
       "      <td>Bluezone</td>\n",
       "      <td>None</td>\n",
       "      <td>NaN</td>\n",
       "      <td>NaN</td>\n",
       "      <td>NaN</td>\n",
       "      <td>ERANGEL</td>\n",
       "      <td>2U4GBNA0YmnpTzelHSxoLknOT8Wco_qaNyOFz53xi7X7Em...</td>\n",
       "      <td>1487</td>\n",
       "      <td>Your-Old-Iron</td>\n",
       "      <td>82.0</td>\n",
       "      <td>0.0</td>\n",
       "      <td>0.0</td>\n",
       "    </tr>\n",
       "    <tr>\n",
       "      <th>2</th>\n",
       "      <td>M16A4</td>\n",
       "      <td>StolenV91</td>\n",
       "      <td>24.0</td>\n",
       "      <td>520532.2</td>\n",
       "      <td>467115.6</td>\n",
       "      <td>ERANGEL</td>\n",
       "      <td>2U4GBNA0YmlVfjiMYDoLjs98iK0X1fFCQtmxh9XIAXWJ4l...</td>\n",
       "      <td>504</td>\n",
       "      <td>sasadezx</td>\n",
       "      <td>33.0</td>\n",
       "      <td>520822.9</td>\n",
       "      <td>467389.5</td>\n",
       "    </tr>\n",
       "    <tr>\n",
       "      <th>3</th>\n",
       "      <td>M416</td>\n",
       "      <td>LHYnana</td>\n",
       "      <td>11.0</td>\n",
       "      <td>467785.8</td>\n",
       "      <td>318166.1</td>\n",
       "      <td>ERANGEL</td>\n",
       "      <td>2U4GBNA0YmlTGucmurdMK2LklO0uiEBpLbx7EUw7n-emtn...</td>\n",
       "      <td>964</td>\n",
       "      <td>pokkerguy</td>\n",
       "      <td>NaN</td>\n",
       "      <td>468878.0</td>\n",
       "      <td>318632.4</td>\n",
       "    </tr>\n",
       "  </tbody>\n",
       "</table>\n",
       "</div>"
      ],
      "text/plain": [
       "  killed_by killer_name  killer_placement  killer_position_x  \\\n",
       "0      UMP9    bigjj321               5.0           332478.2   \n",
       "1  Bluezone        None               NaN                NaN   \n",
       "2     M16A4   StolenV91              24.0           520532.2   \n",
       "3      M416     LHYnana              11.0           467785.8   \n",
       "\n",
       "   killer_position_y      map  \\\n",
       "0           533202.6  ERANGEL   \n",
       "1                NaN  ERANGEL   \n",
       "2           467115.6  ERANGEL   \n",
       "3           318166.1  ERANGEL   \n",
       "\n",
       "                                            match_id  time    victim_name  \\\n",
       "0  2U4GBNA0YmmYVKQqfjTRvzroK1jWy0P_Ekt9jDJjdzJ8_g...   747    unbertakerP   \n",
       "1  2U4GBNA0YmnpTzelHSxoLknOT8Wco_qaNyOFz53xi7X7Em...  1487  Your-Old-Iron   \n",
       "2  2U4GBNA0YmlVfjiMYDoLjs98iK0X1fFCQtmxh9XIAXWJ4l...   504       sasadezx   \n",
       "3  2U4GBNA0YmlTGucmurdMK2LklO0uiEBpLbx7EUw7n-emtn...   964      pokkerguy   \n",
       "\n",
       "   victim_placement  victim_position_x  victim_position_y  \n",
       "0               3.0           330715.8           532682.2  \n",
       "1              82.0                0.0                0.0  \n",
       "2              33.0           520822.9           467389.5  \n",
       "3               NaN           468878.0           318632.4  "
      ]
     },
     "execution_count": 24,
     "metadata": {},
     "output_type": "execute_result"
    }
   ],
   "source": [
    "deaths.head(4)"
   ]
  },
  {
   "cell_type": "markdown",
   "metadata": {},
   "source": [
    "# MATCHES IN SAMPLE"
   ]
  },
  {
   "cell_type": "code",
   "execution_count": 25,
   "metadata": {},
   "outputs": [
    {
     "data": {
      "text/plain": [
       "map\n",
       "ERANGEL    200000\n",
       "MIRAMAR    200000\n",
       "Name: match_id, dtype: int64"
      ]
     },
     "execution_count": 25,
     "metadata": {},
     "output_type": "execute_result"
    }
   ],
   "source": [
    "deaths.groupby('map')['match_id'].count()"
   ]
  },
  {
   "cell_type": "markdown",
   "metadata": {},
   "source": [
    "# Kills per user per match vs placement"
   ]
  },
  {
   "cell_type": "code",
   "execution_count": 34,
   "metadata": {},
   "outputs": [],
   "source": [
    "kum = deaths.groupby(['match_id', 'killer_name']).agg({'killer_placement':'first', \n",
    "                                                                    'map': 'count'}).sort_values('map',ascending=False)"
   ]
  },
  {
   "cell_type": "code",
   "execution_count": 35,
   "metadata": {},
   "outputs": [],
   "source": [
    "kum.columns = ['killer_placement', 'kills']"
   ]
  },
  {
   "cell_type": "code",
   "execution_count": 36,
   "metadata": {},
   "outputs": [
    {
     "data": {
      "text/html": [
       "<div>\n",
       "<style scoped>\n",
       "    .dataframe tbody tr th:only-of-type {\n",
       "        vertical-align: middle;\n",
       "    }\n",
       "\n",
       "    .dataframe tbody tr th {\n",
       "        vertical-align: top;\n",
       "    }\n",
       "\n",
       "    .dataframe thead th {\n",
       "        text-align: right;\n",
       "    }\n",
       "</style>\n",
       "<table border=\"1\" class=\"dataframe\">\n",
       "  <thead>\n",
       "    <tr style=\"text-align: right;\">\n",
       "      <th></th>\n",
       "      <th></th>\n",
       "      <th>killer_placement</th>\n",
       "      <th>kills</th>\n",
       "    </tr>\n",
       "    <tr>\n",
       "      <th>match_id</th>\n",
       "      <th>killer_name</th>\n",
       "      <th></th>\n",
       "      <th></th>\n",
       "    </tr>\n",
       "  </thead>\n",
       "  <tbody>\n",
       "    <tr>\n",
       "      <th>2U4GBNA0Yml8DHHj0gjSNaIRKJBGJ8boJs_Wd5QouEcqSKzQ1bCnTTiGGbTtpJD8</th>\n",
       "      <th>#unknown</th>\n",
       "      <td>4.0</td>\n",
       "      <td>9</td>\n",
       "    </tr>\n",
       "    <tr>\n",
       "      <th>2U4GBNA0YmlaiizyNo9quswlM8NL4rHku2SuRFBiYJ1NaoxYMgmXhnyZK0FtJe1_</th>\n",
       "      <th>#unknown</th>\n",
       "      <td>18.0</td>\n",
       "      <td>9</td>\n",
       "    </tr>\n",
       "    <tr>\n",
       "      <th>2U4GBNA0Yml74fmFma0471HqcIkEFOHt5JMAZGXHn_MOturixjiEINcNhL0_ukb2</th>\n",
       "      <th>#unknown</th>\n",
       "      <td>18.0</td>\n",
       "      <td>7</td>\n",
       "    </tr>\n",
       "    <tr>\n",
       "      <th>2U4GBNA0YmkUAoZTDqdGI_ihPaoMXV1WTKMKsVBwIqqk63xOzAZnceYsNAZT2A2C</th>\n",
       "      <th>#unknown</th>\n",
       "      <td>1.0</td>\n",
       "      <td>7</td>\n",
       "    </tr>\n",
       "    <tr>\n",
       "      <th>2U4GBNA0YmlxrIXrRU4efR7DCqCaRM7XlWeRJxfyyAtgD_ksoP8kArJF5lC3j4I2</th>\n",
       "      <th>#unknown</th>\n",
       "      <td>18.0</td>\n",
       "      <td>7</td>\n",
       "    </tr>\n",
       "  </tbody>\n",
       "</table>\n",
       "</div>"
      ],
      "text/plain": [
       "                                                                killer_placement  \\\n",
       "match_id                                           killer_name                     \n",
       "2U4GBNA0Yml8DHHj0gjSNaIRKJBGJ8boJs_Wd5QouEcqSKz... #unknown                  4.0   \n",
       "2U4GBNA0YmlaiizyNo9quswlM8NL4rHku2SuRFBiYJ1Naox... #unknown                 18.0   \n",
       "2U4GBNA0Yml74fmFma0471HqcIkEFOHt5JMAZGXHn_MOtur... #unknown                 18.0   \n",
       "2U4GBNA0YmkUAoZTDqdGI_ihPaoMXV1WTKMKsVBwIqqk63x... #unknown                  1.0   \n",
       "2U4GBNA0YmlxrIXrRU4efR7DCqCaRM7XlWeRJxfyyAtgD_k... #unknown                 18.0   \n",
       "\n",
       "                                                                kills  \n",
       "match_id                                           killer_name         \n",
       "2U4GBNA0Yml8DHHj0gjSNaIRKJBGJ8boJs_Wd5QouEcqSKz... #unknown         9  \n",
       "2U4GBNA0YmlaiizyNo9quswlM8NL4rHku2SuRFBiYJ1Naox... #unknown         9  \n",
       "2U4GBNA0Yml74fmFma0471HqcIkEFOHt5JMAZGXHn_MOtur... #unknown         7  \n",
       "2U4GBNA0YmkUAoZTDqdGI_ihPaoMXV1WTKMKsVBwIqqk63x... #unknown         7  \n",
       "2U4GBNA0YmlxrIXrRU4efR7DCqCaRM7XlWeRJxfyyAtgD_k... #unknown         7  "
      ]
     },
     "execution_count": 36,
     "metadata": {},
     "output_type": "execute_result"
    }
   ],
   "source": [
    "kum.head(5)"
   ]
  },
  {
   "cell_type": "code",
   "execution_count": 37,
   "metadata": {},
   "outputs": [
    {
     "data": {
      "text/plain": [
       "99"
      ]
     },
     "execution_count": 37,
     "metadata": {},
     "output_type": "execute_result"
    }
   ],
   "source": [
    "kum['killer_placement'].nunique()"
   ]
  },
  {
   "cell_type": "code",
   "execution_count": 40,
   "metadata": {},
   "outputs": [
    {
     "data": {
      "text/plain": [
       "1"
      ]
     },
     "execution_count": 40,
     "metadata": {},
     "output_type": "execute_result"
    }
   ],
   "source": [
    "kum['kills'].min()"
   ]
  },
  {
   "cell_type": "code",
   "execution_count": 43,
   "metadata": {},
   "outputs": [
    {
     "data": {
      "text/plain": [
       "<matplotlib.axes._subplots.AxesSubplot at 0x121a7a4e0>"
      ]
     },
     "execution_count": 43,
     "metadata": {},
     "output_type": "execute_result"
    },
    {
     "data": {
      "image/png": "[encoded data removed]",
      "text/plain": [
       "<Figure size 432x288 with 1 Axes>"
      ]
     },
     "metadata": {},
     "output_type": "display_data"
    }
   ],
   "source": [
    "sns.kdeplot(kum.killer_placement, kum.kills, cmap=\"Reds\", shade=True, bw=.15)"
   ]
  },
  {
   "cell_type": "code",
   "execution_count": null,
   "metadata": {},
   "outputs": [],
   "source": []
  }
 ],
 "metadata": {
  "kernelspec": {
   "display_name": "Python 3",
   "language": "python",
   "name": "python3"
  },
  "language_info": {
   "codemirror_mode": {
    "name": "ipython",
    "version": 3
   },
   "file_extension": ".py",
   "mimetype": "text/x-python",
   "name": "python",
   "nbconvert_exporter": "python",
   "pygments_lexer": "ipython3",
   "version": "3.6.5"
  }
 },
 "nbformat": 4,
 "nbformat_minor": 2
}
