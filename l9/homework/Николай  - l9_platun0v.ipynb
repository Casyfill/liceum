{
  "nbformat": 4,
  "nbformat_minor": 0,
  "metadata": {
    "colab": {
      "name": "2_Predicting_Rent.ipynb",
      "version": "0.3.2",
      "provenance": [],
      "collapsed_sections": []
    },
    "kernelspec": {
      "display_name": "Python 3",
      "language": "python",
      "name": "python3"
    }
  },
  "cells": [
    {
      "metadata": {
        "id": "ecJPC9Phuzzm",
        "colab_type": "code",
        "colab": {}
      },
      "cell_type": "code",
      "source": [
        "import pandas as pd"
      ],
      "execution_count": 0,
      "outputs": []
    },
    {
      "metadata": {
        "id": "au6QSW8_HQH8",
        "colab_type": "code",
        "colab": {}
      },
      "cell_type": "code",
      "source": [
        "import warnings\n",
        "warnings.filterwarnings('ignore')"
      ],
      "execution_count": 0,
      "outputs": []
    },
    {
      "metadata": {
        "id": "txYgwr5Xuzz-",
        "colab_type": "code",
        "colab": {}
      },
      "cell_type": "code",
      "source": [
        "path = 'https://raw.githubusercontent.com/Codecademy/datasets/master/streeteasy/queens.csv'\n",
        "df = pd.read_csv(path)\n",
        "y = df.rent\n",
        "X = df.drop('rent', axis=1).select_dtypes('number')"
      ],
      "execution_count": 0,
      "outputs": []
    },
    {
      "metadata": {
        "id": "GHAC1uej7TSC",
        "colab_type": "code",
        "colab": {}
      },
      "cell_type": "code",
      "source": [
        "def test_pred(y_pred, y_test):\n",
        "    from sklearn.metrics import mean_absolute_error, mean_squared_error, r2_score\n",
        "    for metric in  mean_absolute_error, mean_squared_error, r2_score:\n",
        "         print(f'{metric.__name__}: {metric(y_pred, y_test)}')"
      ],
      "execution_count": 0,
      "outputs": []
    },
    {
      "metadata": {
        "id": "Tlu50Efc7Tm2",
        "colab_type": "code",
        "colab": {}
      },
      "cell_type": "code",
      "source": [
        "from sklearn.metrics.pairwise import euclidean_distances\n",
        "from sklearn.metrics import r2_score\n",
        "import numpy as np\n",
        "\n",
        "def _closest_k(X1, X2, k=5):\n",
        "    matrix = euclidean_distances(X1, X2)\n",
        "    df = pd.DataFrame(matrix,\n",
        "                 index=X1.index, \n",
        "                 columns=X2.index)\n",
        "    \n",
        "    order = np.argsort(matrix, axis=1)[:, :k]\n",
        "    result = pd.DataFrame(X2.index[order], \n",
        "                      columns=np.arange(k),\n",
        "                      index=X1.index)\n",
        "    \n",
        "    return result, df"
      ],
      "execution_count": 0,
      "outputs": []
    },
    {
      "metadata": {
        "id": "jKHK_8zh7XhZ",
        "colab_type": "code",
        "colab": {}
      },
      "cell_type": "code",
      "source": [
        "class KNN:\n",
        "    X = None\n",
        "    y = None\n",
        "    \n",
        "    def __init__(self, k=5):\n",
        "        self.k = k\n",
        "    \n",
        "    def fit(self, X, y):\n",
        "        self.X = X\n",
        "        self.y = y\n",
        "    \n",
        "\n",
        "    def predict(self, X):\n",
        "        closest, matrix = _closest_k(X, self.X, self.k)\n",
        "        \n",
        "        s1 = self.y[closest.iloc[:, 0]]\n",
        "        s2 = []\n",
        "        for e in matrix.index:\n",
        "            s2.append(matrix.loc[e, closest.loc[e, 0]] ** 2)\n",
        "        s2 = np.array(s2)\n",
        "        \n",
        "        s1 *= s2\n",
        "        \n",
        "        for i in range(1, self.k):\n",
        "            s1_ = self.y[closest.iloc[:, i]].values.astype('float64')\n",
        "            \n",
        "            s2_ = []\n",
        "            for e in matrix.index:\n",
        "                s2_.append(matrix.loc[e, closest.loc[e, i]] ** 2)\n",
        "            s2 += np.array(s2_)\n",
        "            \n",
        "            s1_ *= s2_\n",
        "            s1 += s1_\n",
        "        \n",
        "        s1.index = X.index\n",
        "        return s1 / s2\n",
        "    \n",
        "    def score(self, X, y):\n",
        "        y_pred = self.predict(X)\n",
        "        return r2_score(y_pred, y)"
      ],
      "execution_count": 0,
      "outputs": []
    },
    {
      "metadata": {
        "id": "pZUaJgT7uz02",
        "colab_type": "text"
      },
      "cell_type": "markdown",
      "source": [
        "# Fit Model"
      ]
    },
    {
      "metadata": {
        "id": "qJc9O7HJGxfR",
        "colab_type": "code",
        "colab": {}
      },
      "cell_type": "code",
      "source": [
        "from sklearn.model_selection import train_test_split\n",
        "from sklearn.preprocessing import Normalizer, MinMaxScaler\n",
        "\n",
        "X_train, X_test, y_train, y_test = train_test_split(X, y, train_size=.8, random_state=1324)"
      ],
      "execution_count": 0,
      "outputs": []
    },
    {
      "metadata": {
        "id": "FNScTwdEElI0",
        "colab_type": "code",
        "colab": {}
      },
      "cell_type": "code",
      "source": [
        "scaler = MinMaxScaler()\n",
        "# scaler.fit(X_train)\n",
        "\n",
        "X_train = pd.DataFrame(scaler.fit_transform(X_train), columns=X_train.columns, index=X_train.index)\n",
        "X_test = pd.DataFrame(scaler.fit_transform(X_test), columns=X_test.columns, index=X_test.index)"
      ],
      "execution_count": 0,
      "outputs": []
    },
    {
      "metadata": {
        "id": "WEWgmMlAuz05",
        "colab_type": "code",
        "colab": {}
      },
      "cell_type": "code",
      "source": [
        "model = KNN(k=5)\n",
        "model.fit(X_train, y_train)\n",
        "y_pred = model.predict(X_test)"
      ],
      "execution_count": 0,
      "outputs": []
    },
    {
      "metadata": {
        "id": "CZvDiacJuz1b",
        "colab_type": "code",
        "outputId": "ea34950b-63b6-424b-9c5a-2923a79d0c7a",
        "colab": {
          "base_uri": "https://localhost:8080/",
          "height": 68
        }
      },
      "cell_type": "code",
      "source": [
        "test_pred(y_pred, y_test)"
      ],
      "execution_count": 0,
      "outputs": [
        {
          "output_type": "stream",
          "text": [
            "mean_absolute_error: 375.0551472722361\n",
            "mean_squared_error: 262747.1031584342\n",
            "r2_score: 0.4139216831786259\n"
          ],
          "name": "stdout"
        }
      ]
    },
    {
      "metadata": {
        "id": "vJ7l6DguYCJY",
        "colab_type": "code",
        "colab": {}
      },
      "cell_type": "code",
      "source": [
        "\"\"\"\n",
        "Лучший результат получается при 4-5 K\n",
        "\n",
        "\n",
        "Самый простой способ - нормализовать данные с помощью MinMaxScaler\n",
        "Как уже говорилось, выделять значимые признаки\n",
        "Кодировать категориальные признаки\n",
        "\n",
        "\n",
        "Долго считает евклидово расстояние между всеми признаками\n",
        "\n",
        "\n",
        "Плюсы:\n",
        "Простая реализация\n",
        "Устойчив к выбросам, т.к. шанс попадания выброса в k ближайших соседей очень мал.\n",
        "Минусы:\n",
        "Хранит в себе весь тестовый набор, а значит требует много памяти\n",
        "\n",
        "\n",
        "\"\"\""
      ],
      "execution_count": 0,
      "outputs": []
    }
  ]
}