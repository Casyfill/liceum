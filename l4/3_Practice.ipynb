{
 "cells": [
  {
   "cell_type": "markdown",
   "metadata": {},
   "source": [
    "# Практика\n",
    "\n",
    "в этом ноутбуке мы попробуем смоделировать сверх-упрощенную модель солнечной системы, используя классы. Для простоты в классе мы будем использовать следующие допущения:\n",
    "- в нашей системе солнце неподвижно\n",
    "- все планеты и спутники имеют круговую орбиту\n",
    "- данные полученны из публичной таблицы, в качестве радиуса используем большую полуокружность.\n",
    "\n",
    "[данные](http://www.allplanets.ru/solar_sistem.htm)"
   ]
  },
  {
   "cell_type": "code",
   "execution_count": 1,
   "metadata": {},
   "outputs": [],
   "source": [
    "%matplotlib inline\n",
    "import pylab as plt\n",
    "\n",
    "from matplotlib.patches import Ellipse"
   ]
  },
  {
   "cell_type": "code",
   "execution_count": 2,
   "metadata": {},
   "outputs": [],
   "source": [
    "from ipywidgets import interact, interactive, fixed, interact_manual, IntSlider\n",
    "import ipywidgets as widgets"
   ]
  },
  {
   "cell_type": "markdown",
   "metadata": {},
   "source": [
    "# Interaction"
   ]
  },
  {
   "cell_type": "code",
   "execution_count": 3,
   "metadata": {},
   "outputs": [],
   "source": [
    "def f(x):\n",
    "    return x"
   ]
  },
  {
   "cell_type": "code",
   "execution_count": 4,
   "metadata": {},
   "outputs": [
    {
     "data": {
      "application/vnd.jupyter.widget-view+json": {
       "model_id": "09413556add14a7fb3f66b1869473ca0",
       "version_major": 2,
       "version_minor": 0
      },
      "text/plain": [
       "interactive(children=(IntSlider(value=10, description='x', max=3650), Output()), _dom_classes=('widget-interac…"
      ]
     },
     "metadata": {},
     "output_type": "display_data"
    }
   ],
   "source": [
    "interact(f, x=IntSlider(10, max=3650, min=0, step=1));"
   ]
  },
  {
   "cell_type": "markdown",
   "metadata": {},
   "source": [
    "# Model"
   ]
  },
  {
   "cell_type": "code",
   "execution_count": 5,
   "metadata": {},
   "outputs": [],
   "source": [
    "from math import sin, cos, radians, pi"
   ]
  },
  {
   "cell_type": "code",
   "execution_count": 56,
   "metadata": {},
   "outputs": [],
   "source": [
    "class Celestial(object):\n",
    "    x = 0\n",
    "    y = 0\n",
    "    params = dict()\n",
    "    \n",
    "    def __init__(self, name, \n",
    "                 radius=10_000, period=365, \n",
    "                 start=0, color='grey', size=20, **kwargs):\n",
    "        \n",
    "        self.name = name\n",
    "        self.radius = radius\n",
    "        self.period = period\n",
    "        self.start = start\n",
    "        self.color = color\n",
    "        self.size = size\n",
    "        \n",
    "        self.calc_position(0)  # start position\n",
    "        self.params.update(kwargs)\n",
    "\n",
    "        \n",
    "    def calc_position(self, days):\n",
    "        # need to clarify start units\n",
    "        angle = self.start + radians(360* (days / self.period))\n",
    "        \n",
    "        self.x = self.radius * cos(angle)\n",
    "        self.y = self.radius * sin(angle)\n",
    "    \n",
    "    def draw_orbit(self, ax):\n",
    "        orbit = Ellipse((0, 0), self.radius*2, self.radius*2, facecolor='none', edgecolor='grey', linestyle='--')\n",
    "        ax.add_artist(orbit)\n",
    "    \n",
    "    def vis(self, ax=None):\n",
    "        'visualize planet on the plot'\n",
    "        if ax is None:\n",
    "            fig, ax = plt.subplots()\n",
    "\n",
    "        self.draw_orbit(ax=ax)\n",
    "        ax.scatter(self.x, self.y, s=self.size, c=self.color)\n",
    "        \n",
    "        \n",
    "        \n",
    "        \n",
    "        "
   ]
  },
  {
   "cell_type": "code",
   "execution_count": 57,
   "metadata": {},
   "outputs": [],
   "source": [
    "Earth = Celestial('Earth', color='blue', size=50, radius=5000)"
   ]
  },
  {
   "cell_type": "code",
   "execution_count": 58,
   "metadata": {},
   "outputs": [
    {
     "data": {
      "text/plain": [
       "(-15000, 15000)"
      ]
     },
     "execution_count": 58,
     "metadata": {},
     "output_type": "execute_result"
    },
    {
     "data": {
      "image/png": "[encoded data removed]",
      "text/plain": [
       "<Figure size 432x288 with 1 Axes>"
      ]
     },
     "metadata": {},
     "output_type": "display_data"
    }
   ],
   "source": [
    "fig, ax = plt.subplots()\n",
    "\n",
    "Earth.vis(ax=ax)\n",
    "\n",
    "ax.axis('equal');\n",
    "ax.set_xlim(-15_000, 15_000)\n",
    "ax.set_ylim(-15_000, 15_000)"
   ]
  },
  {
   "cell_type": "code",
   "execution_count": 59,
   "metadata": {},
   "outputs": [],
   "source": [
    "Earth.calc_position(180)"
   ]
  },
  {
   "cell_type": "code",
   "execution_count": 60,
   "metadata": {},
   "outputs": [
    {
     "data": {
      "text/plain": [
       "(-15000, 15000)"
      ]
     },
     "execution_count": 60,
     "metadata": {},
     "output_type": "execute_result"
    },
    {
     "data": {
      "image/png": "[encoded data removed]",
      "text/plain": [
       "<Figure size 432x288 with 1 Axes>"
      ]
     },
     "metadata": {},
     "output_type": "display_data"
    }
   ],
   "source": [
    "fig, ax = plt.subplots()\n",
    "\n",
    "Earth.vis(ax=ax)\n",
    "\n",
    "ax.axis('equal');\n",
    "ax.set_xlim(-15_000, 15_000)\n",
    "ax.set_ylim(-15_000, 15_000)"
   ]
  },
  {
   "cell_type": "markdown",
   "metadata": {},
   "source": [
    "# Interaction"
   ]
  },
  {
   "cell_type": "code",
   "execution_count": 61,
   "metadata": {},
   "outputs": [],
   "source": [
    "bodies = [Earth, ]"
   ]
  },
  {
   "cell_type": "code",
   "execution_count": 62,
   "metadata": {},
   "outputs": [],
   "source": [
    "def update_all(days):\n",
    "    fig, ax = plt.subplots(figsize=(12,12))\n",
    "    \n",
    "    for body in bodies:\n",
    "        body.calc_position(days)\n",
    "        body.vis(ax)\n",
    "    \n",
    "    ax.axis('equal');\n",
    "    ax.set_xlim(-15_000, 15_000)\n",
    "    ax.set_ylim(-15_000, 15_000)\n",
    "    plt.axis('off')"
   ]
  },
  {
   "cell_type": "code",
   "execution_count": 64,
   "metadata": {},
   "outputs": [
    {
     "data": {
      "application/vnd.jupyter.widget-view+json": {
       "model_id": "2e142204abd64dbda85d7a04ab28892d",
       "version_major": 2,
       "version_minor": 0
      },
      "text/plain": [
       "interactive(children=(IntSlider(value=10, description='days', max=365), Output()), _dom_classes=('widget-inter…"
      ]
     },
     "metadata": {},
     "output_type": "display_data"
    }
   ],
   "source": [
    "\n",
    "interact(update_all, days=IntSlider(10, max=365, min=0, step=1));\n",
    "\n"
   ]
  },
  {
   "cell_type": "markdown",
   "metadata": {},
   "source": [
    "# Sun and planets"
   ]
  },
  {
   "cell_type": "markdown",
   "metadata": {},
   "source": [
    "### Sun"
   ]
  },
  {
   "cell_type": "markdown",
   "metadata": {},
   "source": [
    "### Hacky way"
   ]
  },
  {
   "cell_type": "code",
   "execution_count": 65,
   "metadata": {},
   "outputs": [],
   "source": [
    "sun = Celestial('Солнце', 0, 1, 0, 'yellow', 200) # period=0 raises exception\n",
    "sun.calc_position = lambda x: None"
   ]
  },
  {
   "cell_type": "markdown",
   "metadata": {},
   "source": [
    "## Better (but longer) way"
   ]
  },
  {
   "cell_type": "code",
   "execution_count": 66,
   "metadata": {},
   "outputs": [],
   "source": [
    "class Star(Celestial):\n",
    "    radius = 0\n",
    "    period = 0\n",
    "    \n",
    "    def calc_position(self, days):\n",
    "        pass\n",
    "    "
   ]
  },
  {
   "cell_type": "code",
   "execution_count": 67,
   "metadata": {},
   "outputs": [],
   "source": [
    "sun = Star(name='Солнце')"
   ]
  },
  {
   "cell_type": "markdown",
   "metadata": {},
   "source": [
    "## Planets"
   ]
  },
  {
   "cell_type": "code",
   "execution_count": 68,
   "metadata": {},
   "outputs": [],
   "source": [
    "import pandas as pd\n",
    "url = 'http://www.allplanets.ru/solar_sistem.htm'"
   ]
  },
  {
   "cell_type": "code",
   "execution_count": 69,
   "metadata": {},
   "outputs": [],
   "source": [
    "df = pd.read_html(url, index_col=0, header=0)[0].T"
   ]
  },
  {
   "cell_type": "code",
   "execution_count": 70,
   "metadata": {},
   "outputs": [
    {
     "data": {
      "text/html": [
       "<div>\n",
       "<style scoped>\n",
       "    .dataframe tbody tr th:only-of-type {\n",
       "        vertical-align: middle;\n",
       "    }\n",
       "\n",
       "    .dataframe tbody tr th {\n",
       "        vertical-align: top;\n",
       "    }\n",
       "\n",
       "    .dataframe thead th {\n",
       "        text-align: right;\n",
       "    }\n",
       "</style>\n",
       "<table border=\"1\" class=\"dataframe\">\n",
       "  <thead>\n",
       "    <tr style=\"text-align: right;\">\n",
       "      <th>Планета</th>\n",
       "      <th>Расстояние от Солнца в перигелии</th>\n",
       "      <th>Сидерический период, лет</th>\n",
       "      <th>Число известных спутников</th>\n",
       "    </tr>\n",
       "  </thead>\n",
       "  <tbody>\n",
       "    <tr>\n",
       "      <th>Меркурий</th>\n",
       "      <td>46,0 или 0,308 а.е.</td>\n",
       "      <td>0, 241 или 87,97 дней</td>\n",
       "      <td>0</td>\n",
       "    </tr>\n",
       "    <tr>\n",
       "      <th>Венера</th>\n",
       "      <td>107,48  или  0,718 а.е.</td>\n",
       "      <td>0,615 или 224,7 дней</td>\n",
       "      <td>0</td>\n",
       "    </tr>\n",
       "    <tr>\n",
       "      <th>Земля</th>\n",
       "      <td>147,1 или 0,983 а.е.</td>\n",
       "      <td>365,24 дней</td>\n",
       "      <td>1</td>\n",
       "    </tr>\n",
       "    <tr>\n",
       "      <th>Марс</th>\n",
       "      <td>206,6  или 1,38 а.е.</td>\n",
       "      <td>1,88 или 686,9 дней</td>\n",
       "      <td>2</td>\n",
       "    </tr>\n",
       "    <tr>\n",
       "      <th>Юпитер</th>\n",
       "      <td>740,74  или 4,95 а.е.</td>\n",
       "      <td>11857</td>\n",
       "      <td>62</td>\n",
       "    </tr>\n",
       "    <tr>\n",
       "      <th>Сатурн</th>\n",
       "      <td>13495  или 9,02 а.е.</td>\n",
       "      <td>294</td>\n",
       "      <td>34</td>\n",
       "    </tr>\n",
       "    <tr>\n",
       "      <th>Уран</th>\n",
       "      <td>27356  или 18,29 а.е.</td>\n",
       "      <td>8402</td>\n",
       "      <td>27</td>\n",
       "    </tr>\n",
       "    <tr>\n",
       "      <th>Нептун</th>\n",
       "      <td>44596  или 29,81 а.е.</td>\n",
       "      <td>16479</td>\n",
       "      <td>13</td>\n",
       "    </tr>\n",
       "    <tr>\n",
       "      <th>Плутон</th>\n",
       "      <td>44368  или 29,66 а.е.</td>\n",
       "      <td>24792</td>\n",
       "      <td>5</td>\n",
       "    </tr>\n",
       "  </tbody>\n",
       "</table>\n",
       "</div>"
      ],
      "text/plain": [
       "Планета  Расстояние от Солнца в перигелии Сидерический период, лет  \\\n",
       "Меркурий              46,0 или 0,308 а.е.    0, 241 или 87,97 дней   \n",
       "Венера            107,48  или  0,718 а.е.     0,615 или 224,7 дней   \n",
       "Земля                147,1 или 0,983 а.е.              365,24 дней   \n",
       "Марс                 206,6  или 1,38 а.е.      1,88 или 686,9 дней   \n",
       "Юпитер              740,74  или 4,95 а.е.                    11857   \n",
       "Сатурн               13495  или 9,02 а.е.                      294   \n",
       "Уран                27356  или 18,29 а.е.                     8402   \n",
       "Нептун              44596  или 29,81 а.е.                    16479   \n",
       "Плутон              44368  или 29,66 а.е.                    24792   \n",
       "\n",
       "Планета  Число известных спутников  \n",
       "Меркурий                         0  \n",
       "Венера                           0  \n",
       "Земля                            1  \n",
       "Марс                             2  \n",
       "Юпитер                          62  \n",
       "Сатурн                          34  \n",
       "Уран                            27  \n",
       "Нептун                          13  \n",
       "Плутон                           5  "
      ]
     },
     "execution_count": 70,
     "metadata": {},
     "output_type": "execute_result"
    }
   ],
   "source": [
    "df.iloc[:, [1, 5, -1]]"
   ]
  },
  {
   "cell_type": "code",
   "execution_count": 71,
   "metadata": {},
   "outputs": [],
   "source": [
    "planets_data = [\n",
    "    {\"name\":'Меркурий', 'radius':46, 'color':'orange', 'period':88, 'satellites': 0},\n",
    "    {\"name\":'Венера', 'radius':108, 'color':'yellow', 'period':225, 'satellites': 0},\n",
    "    {\"name\":'Земля', 'radius':147, 'color':'blue', 'period':365, 'satellites': 1},\n",
    "    {\"name\":'Марс', 'radius':206, 'color':'red', 'period':687, 'satellites': 2},\n",
    "#     {\"name\":'Юпитер', 'radius':740, 'color':'orange', 'period':11857, 'satellites': 62},\n",
    "#     {\"name\":'Сатурн', 'radius':13495, 'color':'grey', 'period':294, 'satellites': 34},\n",
    "#     {\"name\":'Уран', 'radius':27356, 'color':'purple', 'period':8402, 'satellites': 27},\n",
    "#     {\"name\":'Нептун', 'radius':44596, 'color':'darkblue', 'period':16479, 'satellites': 13},\n",
    "#     {\"name\":'Плутон', 'radius':44368, 'color':'black', 'period':24792, 'satellites': 5},\n",
    "    \n",
    "]"
   ]
  },
  {
   "cell_type": "code",
   "execution_count": null,
   "metadata": {},
   "outputs": [],
   "source": []
  },
  {
   "cell_type": "code",
   "execution_count": 72,
   "metadata": {},
   "outputs": [],
   "source": [
    "bodies = {planet['name']: Celestial(size=100, **planet) for planet in planets_data}"
   ]
  },
  {
   "cell_type": "code",
   "execution_count": 73,
   "metadata": {},
   "outputs": [],
   "source": [
    "bodies['sun'] = sun"
   ]
  },
  {
   "cell_type": "markdown",
   "metadata": {},
   "source": [
    "# Satellite"
   ]
  },
  {
   "cell_type": "code",
   "execution_count": 92,
   "metadata": {},
   "outputs": [],
   "source": [
    "class Satellite(Celestial):\n",
    "    '''rotates around the planet'''\n",
    "    planet = None\n",
    "    \n",
    "    def __init__(self, planet, *args, **kwargs):\n",
    "        self.planet = planet\n",
    "        super().__init__(*args, **kwargs)\n",
    "    \n",
    "    def calc_position(self, days):\n",
    "        super().calc_position(days)\n",
    "        self.x += self.planet.x\n",
    "        self.y += self.planet.y\n",
    "    \n",
    "    def draw_orbit(self, ax):\n",
    "        orbit = Ellipse((self.planet.x, self.planet.y), self.radius*2, self.radius*2, facecolor='none', edgecolor='grey', linestyle='--')\n",
    "        ax.add_artist(orbit)\n",
    "        "
   ]
  },
  {
   "cell_type": "markdown",
   "metadata": {},
   "source": [
    "Из гугла: Орби́та Луны́ — траектория, по которой Луна вращается вокруг общего с Землёй центра масс, располагающегося примерно в 4700 км от центра Земли. Каждый оборот занимает 27,3 земных суток и называется сидерическим месяцем. В среднем Луна удалена от центра Земли на 60 земных радиусов, что составляет 385000 км."
   ]
  },
  {
   "cell_type": "code",
   "execution_count": 93,
   "metadata": {},
   "outputs": [],
   "source": [
    "moon = Satellite(name='Луна', planet=bodies['Земля'], radius=10, period=27)"
   ]
  },
  {
   "cell_type": "code",
   "execution_count": 94,
   "metadata": {},
   "outputs": [],
   "source": [
    "bodies['Лунв'] = moon"
   ]
  },
  {
   "cell_type": "code",
   "execution_count": 95,
   "metadata": {},
   "outputs": [
    {
     "data": {
      "text/plain": [
       "147.0"
      ]
     },
     "execution_count": 95,
     "metadata": {},
     "output_type": "execute_result"
    }
   ],
   "source": [
    "moon.planet.x"
   ]
  },
  {
   "cell_type": "markdown",
   "metadata": {},
   "source": [
    "# Visualise"
   ]
  },
  {
   "cell_type": "code",
   "execution_count": 96,
   "metadata": {},
   "outputs": [],
   "source": [
    "def update_all(days):\n",
    "    fig, ax = plt.subplots(figsize=(12,12))\n",
    "    \n",
    "    for body in bodies.values():\n",
    "        body.calc_position(days)\n",
    "        body.vis(ax)\n",
    "    \n",
    "    ax.axis('equal');\n",
    "#     ax.set_xlim(-15_000, 15_000)\n",
    "#     ax.set_ylim(-15_000, 15_000)\n",
    "    plt.axis('off')"
   ]
  },
  {
   "cell_type": "code",
   "execution_count": 97,
   "metadata": {},
   "outputs": [
    {
     "data": {
      "application/vnd.jupyter.widget-view+json": {
       "model_id": "11b4ea95dd4f439c936da2b15e72771f",
       "version_major": 2,
       "version_minor": 0
      },
      "text/plain": [
       "interactive(children=(IntSlider(value=0, description='days', max=365), Output()), _dom_classes=('widget-intera…"
      ]
     },
     "metadata": {},
     "output_type": "display_data"
    }
   ],
   "source": [
    "\n",
    "interact(update_all, days=IntSlider(0, max=365, min=0, step=1));\n",
    "\n"
   ]
  },
  {
   "cell_type": "code",
   "execution_count": null,
   "metadata": {},
   "outputs": [],
   "source": []
  }
 ],
 "metadata": {
  "kernelspec": {
   "display_name": "Python 3",
   "language": "python",
   "name": "python3"
  },
  "language_info": {
   "codemirror_mode": {
    "name": "ipython",
    "version": 3
   },
   "file_extension": ".py",
   "mimetype": "text/x-python",
   "name": "python",
   "nbconvert_exporter": "python",
   "pygments_lexer": "ipython3",
   "version": "3.6.5"
  }
 },
 "nbformat": 4,
 "nbformat_minor": 2
}
