{
 "cells": [
  {
   "cell_type": "markdown",
   "metadata": {},
   "source": [
    "# Практика\n",
    "\n",
    "Классы особенно удобны при наличии множества схожих объектов. В этом ноутбуке мы попробуем смоделировать сверх-упрощенную модель солнечной системы, используя классы. Для простоты в классе мы будем использовать следующие допущения:\n",
    "- в нашей системе солнце неподвижно\n",
    "- все планеты и спутники имеют круговую орбиту\n",
    "- данные полученны из публичной таблицы, в качестве радиуса используем большую полуокружность.\n",
    "\n",
    "[данные](http://www.allplanets.ru/solar_sistem.htm)"
   ]
  },
  {
   "cell_type": "code",
   "execution_count": 13,
   "metadata": {},
   "outputs": [],
   "source": [
    "%matplotlib inline\n",
    "import pylab as plt\n",
    "\n",
    "from matplotlib.patches import Ellipse"
   ]
  },
  {
   "cell_type": "code",
   "execution_count": 14,
   "metadata": {},
   "outputs": [],
   "source": [
    "from ipywidgets import interact, interactive, fixed, interact_manual, IntSlider\n",
    "import ipywidgets as widgets"
   ]
  },
  {
   "cell_type": "markdown",
   "metadata": {},
   "source": [
    "# Interaction"
   ]
  },
  {
   "cell_type": "code",
   "execution_count": 15,
   "metadata": {},
   "outputs": [],
   "source": [
    "def f(x):\n",
    "    return x"
   ]
  },
  {
   "cell_type": "code",
   "execution_count": 16,
   "metadata": {},
   "outputs": [
    {
     "data": {
      "text/plain": [
       "10"
      ]
     },
     "metadata": {},
     "output_type": "display_data"
    }
   ],
   "source": [
    "interact(f, x=IntSlider(10, max=3650, min=0, step=1));"
   ]
  },
  {
   "cell_type": "markdown",
   "metadata": {},
   "source": [
    "# Model"
   ]
  },
  {
   "cell_type": "code",
   "execution_count": 17,
   "metadata": {},
   "outputs": [],
   "source": [
    "from math import sin, cos, radians, pi"
   ]
  },
  {
   "cell_type": "markdown",
   "metadata": {},
   "source": [
    "## Sun"
   ]
  },
  {
   "cell_type": "markdown",
   "metadata": {},
   "source": [
    "в нашей системе солнце - самый простой объект. оно просто находится в центре и должно само себя рисовать"
   ]
  },
  {
   "cell_type": "code",
   "execution_count": 36,
   "metadata": {},
   "outputs": [],
   "source": [
    "class Celestial(object):\n",
    "    x, y = 0, 0\n",
    "    name, color, size = None, None, None\n",
    "    \n",
    "    def __init__(self, name='Unidentified', color='yellow', size=100):\n",
    "        self.name = name\n",
    "        self.color = color\n",
    "        self.size = size\n",
    "    \n",
    "    def calc_position(self, *args, **kwargs):\n",
    "        pass\n",
    "    \n",
    "    def vis(self, ax=None, **kwargs):\n",
    "        if ax is None:\n",
    "            fig, ax = plt.subplots(**kwargs)\n",
    "\n",
    "        ax.scatter(self.x, self.y, s=self.size, c=self.color)\n",
    "        \n",
    "        \n",
    "        "
   ]
  },
  {
   "cell_type": "code",
   "execution_count": 37,
   "metadata": {},
   "outputs": [],
   "source": [
    "sun = Celestial('Sun')"
   ]
  },
  {
   "cell_type": "markdown",
   "metadata": {},
   "source": [
    "## Planets"
   ]
  },
  {
   "cell_type": "markdown",
   "metadata": {},
   "source": [
    "планеты намного сложнее - они имеют радиус и скорость вращения, и должны уметь находить свою позицию относительно солнца "
   ]
  },
  {
   "cell_type": "code",
   "execution_count": 48,
   "metadata": {},
   "outputs": [],
   "source": [
    "class Planet(Celestial):\n",
    "    \n",
    "    def __init__(self,\n",
    "                 name,\n",
    "                 ocenter,\n",
    "                 radius=10_000, period=365, \n",
    "                 start=0, *args, **kwargs):\n",
    "        \n",
    "        self.ocenter = ocenter  # home star\n",
    "        self.radius = radius    # mln kms \n",
    "        self.period = period    # in days\n",
    "        self.start = start      # in radians, TODO: change; we dont use it for now\n",
    "        super().__init__(name=name, *args, **kwargs) # функция инит для Celestial\n",
    "    \n",
    "        self.calc_position(0)  # move to the start position on default\n",
    "\n",
    "        \n",
    "    def calc_position(self, days:int):\n",
    "        # need to clarify start units\n",
    "        angle = self.start + radians(360* (days / self.period))\n",
    "        \n",
    "        self.x = self.radius * cos(angle) + self.ocenter.x\n",
    "        self.y = self.radius * sin(angle) + self.ocenter.y\n",
    "        \n",
    "    \n",
    "    def draw_orbit(self, ax):\n",
    "        orbit = Ellipse((self.ocenter.x, self.ocenter.y), \n",
    "                         self.radius*2, \n",
    "                         self.radius*2, \n",
    "                         facecolor='none', \n",
    "                         edgecolor='grey', linestyle='--')\n",
    "\n",
    "        ax.add_artist(orbit)\n",
    "    \n",
    "    def vis(self, ax=None):\n",
    "        'visualize planet on the plot'\n",
    "        if ax is None:\n",
    "            fig, ax = plt.subplots()\n",
    "\n",
    "        self.draw_orbit(ax=ax)  # we want to draw it before the object itself\n",
    "        super().vis(ax=ax)"
   ]
  },
  {
   "cell_type": "code",
   "execution_count": 51,
   "metadata": {},
   "outputs": [],
   "source": [
    "earth = Planet(name='Earth', ocenter=sun, color='blue', size=50, radius=5000)"
   ]
  },
  {
   "cell_type": "code",
   "execution_count": 52,
   "metadata": {},
   "outputs": [
    {
     "data": {
      "text/plain": [
       "(-15000, 15000)"
      ]
     },
     "execution_count": 52,
     "metadata": {},
     "output_type": "execute_result"
    },
    {
     "data": {
      "image/png": "[encoded data removed]",
      "text/plain": [
       "<matplotlib.figure.Figure at 0x10f9e70b8>"
      ]
     },
     "metadata": {},
     "output_type": "display_data"
    }
   ],
   "source": [
    "fig, ax = plt.subplots()\n",
    "sun.vis(ax=ax)\n",
    "earth.vis(ax=ax)\n",
    "\n",
    "ax.axis('equal');\n",
    "ax.set_xlim(-15_000, 15_000)\n",
    "ax.set_ylim(-15_000, 15_000)"
   ]
  },
  {
   "cell_type": "code",
   "execution_count": 53,
   "metadata": {},
   "outputs": [],
   "source": [
    "earth.calc_position(180)"
   ]
  },
  {
   "cell_type": "code",
   "execution_count": 54,
   "metadata": {},
   "outputs": [
    {
     "data": {
      "text/plain": [
       "(-15000, 15000)"
      ]
     },
     "execution_count": 54,
     "metadata": {},
     "output_type": "execute_result"
    },
    {
     "data": {
      "image/png": "[encoded data removed]",
      "text/plain": [
       "<matplotlib.figure.Figure at 0x10feefcf8>"
      ]
     },
     "metadata": {},
     "output_type": "display_data"
    }
   ],
   "source": [
    "fig, ax = plt.subplots()\n",
    "\n",
    "sun.vis(ax=ax)\n",
    "earth.vis(ax=ax)\n",
    "\n",
    "ax.axis('equal');\n",
    "ax.set_xlim(-15_000, 15_000)\n",
    "ax.set_ylim(-15_000, 15_000)"
   ]
  },
  {
   "cell_type": "markdown",
   "metadata": {},
   "source": [
    "# Interaction"
   ]
  },
  {
   "cell_type": "code",
   "execution_count": 55,
   "metadata": {},
   "outputs": [],
   "source": [
    "bodies = [sun, earth, ]"
   ]
  },
  {
   "cell_type": "code",
   "execution_count": 56,
   "metadata": {},
   "outputs": [],
   "source": [
    "def update_all(days):\n",
    "    fig, ax = plt.subplots(figsize=(12,12))\n",
    "    \n",
    "    for body in bodies:\n",
    "        body.calc_position(days)\n",
    "        body.vis(ax)\n",
    "    \n",
    "    ax.axis('equal');\n",
    "    ax.set_xlim(-15_000, 15_000)\n",
    "    ax.set_ylim(-15_000, 15_000)\n",
    "    plt.axis('off')"
   ]
  },
  {
   "cell_type": "code",
   "execution_count": 57,
   "metadata": {},
   "outputs": [
    {
     "data": {
      "image/png": "[encoded data removed]",
      "text/plain": [
       "<matplotlib.figure.Figure at 0x110084828>"
      ]
     },
     "metadata": {},
     "output_type": "display_data"
    }
   ],
   "source": [
    "interact(update_all, days=IntSlider(10, max=365, min=0, step=1));"
   ]
  },
  {
   "cell_type": "markdown",
   "metadata": {},
   "source": [
    "# Sattellite"
   ]
  },
  {
   "cell_type": "code",
   "execution_count": 60,
   "metadata": {},
   "outputs": [],
   "source": [
    "class Satellite(Planet):\n",
    "    '''rotates around the planet'''\n",
    "    \n",
    "        "
   ]
  },
  {
   "cell_type": "code",
   "execution_count": 64,
   "metadata": {},
   "outputs": [],
   "source": [
    "moon = Satellite(name='Луна', ocenter=earth, radius=10, period=27, color='grey')"
   ]
  },
  {
   "cell_type": "markdown",
   "metadata": {},
   "source": [
    "## Whole System"
   ]
  },
  {
   "cell_type": "code",
   "execution_count": null,
   "metadata": {},
   "outputs": [],
   "source": []
  },
  {
   "cell_type": "code",
   "execution_count": 68,
   "metadata": {},
   "outputs": [],
   "source": [
    "planets_data = [\n",
    "    {\"name\":'Меркурий', 'radius':46, 'color':'orange', 'period':88},\n",
    "    {\"name\":'Венера', 'radius':108, 'color':'yellow', 'period':225},\n",
    "    {\"name\":'Земля', 'radius':147, 'color':'blue', 'period':365},\n",
    "    {\"name\":'Марс', 'radius':206, 'color':'red', 'period':687},\n",
    "#     {\"name\":'Юпитер', 'radius':740, 'color':'orange', 'period':11857, 'satellites': 62},\n",
    "#     {\"name\":'Сатурн', 'radius':13495, 'color':'grey', 'period':294, 'satellites': 34},\n",
    "#     {\"name\":'Уран', 'radius':27356, 'color':'purple', 'period':8402, 'satellites': 27},\n",
    "#     {\"name\":'Нептун', 'radius':44596, 'color':'darkblue', 'period':16479, 'satellites': 13},\n",
    "#     {\"name\":'Плутон', 'radius':44368, 'color':'black', 'period':24792, 'satellites': 5},\n",
    "    \n",
    "]"
   ]
  },
  {
   "cell_type": "code",
   "execution_count": 72,
   "metadata": {},
   "outputs": [],
   "source": [
    "planets = {planet['name']: Planet(size=100, ocenter=sun, **planet) for planet in planets_data}"
   ]
  },
  {
   "cell_type": "code",
   "execution_count": 78,
   "metadata": {},
   "outputs": [],
   "source": [
    "moon = Satellite(name='Луна', ocenter=planets['Земля'], radius=10, period=27, color='grey')"
   ]
  },
  {
   "cell_type": "code",
   "execution_count": 79,
   "metadata": {},
   "outputs": [],
   "source": [
    "system = {'sun': sun, 'moon': moon, **planets}"
   ]
  },
  {
   "cell_type": "code",
   "execution_count": 80,
   "metadata": {},
   "outputs": [
    {
     "data": {
      "text/plain": [
       "147.0"
      ]
     },
     "execution_count": 80,
     "metadata": {},
     "output_type": "execute_result"
    }
   ],
   "source": [
    "moon.ocenter.x"
   ]
  },
  {
   "cell_type": "markdown",
   "metadata": {},
   "source": [
    "# Visualise"
   ]
  },
  {
   "cell_type": "code",
   "execution_count": 81,
   "metadata": {},
   "outputs": [],
   "source": [
    "def update_all(days):\n",
    "    fig, ax = plt.subplots(figsize=(12,12))\n",
    "    \n",
    "    for body in system.values():\n",
    "        body.calc_position(days)\n",
    "        body.vis(ax)\n",
    "    \n",
    "    ax.axis('equal');\n",
    "#     ax.set_xlim(-15_000, 15_000)\n",
    "#     ax.set_ylim(-15_000, 15_000)\n",
    "    plt.axis('off')"
   ]
  },
  {
   "cell_type": "code",
   "execution_count": 82,
   "metadata": {},
   "outputs": [
    {
     "data": {
      "image/png": "[encoded data removed]",
      "text/plain": [
       "<matplotlib.figure.Figure at 0x10f77a7b8>"
      ]
     },
     "metadata": {},
     "output_type": "display_data"
    }
   ],
   "source": [
    "\n",
    "interact(update_all, days=IntSlider(0, max=365, min=0, step=1));\n"
   ]
  },
  {
   "cell_type": "markdown",
   "metadata": {},
   "source": [
    "## Whats next"
   ]
  },
  {
   "cell_type": "markdown",
   "metadata": {},
   "source": [
    "- подклеить сателлиты к планетам, так чтобы при инициализации планеты / визуализации планеты спутники бы появлялись сами по себе\n",
    "- создать класс Solar System для простоты генерации системы\n",
    "- подумать над красивыми настройками стиля объекта\n",
    "- подумать над более красивым методом визуализации"
   ]
  },
  {
   "cell_type": "code",
   "execution_count": null,
   "metadata": {},
   "outputs": [],
   "source": []
  }
 ],
 "metadata": {
  "kernelspec": {
   "display_name": "Python 3",
   "language": "python",
   "name": "python3"
  },
  "language_info": {
   "codemirror_mode": {
    "name": "ipython",
    "version": 3
   },
   "file_extension": ".py",
   "mimetype": "text/x-python",
   "name": "python",
   "nbconvert_exporter": "python",
   "pygments_lexer": "ipython3",
   "version": "3.6.3"
  }
 },
 "nbformat": 4,
 "nbformat_minor": 2
}
