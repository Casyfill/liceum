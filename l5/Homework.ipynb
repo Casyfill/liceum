{
 "cells": [
  {
   "cell_type": "markdown",
   "metadata": {},
   "source": [
    "Сравнить данные за Январь и Аагуст 2018. "
   ]
  },
  {
   "cell_type": "code",
   "execution_count": 2,
   "metadata": {},
   "outputs": [],
   "source": [
    "%matplotlib inline\n",
    "import pylab as plt\n",
    "plt.style.use('fivethirtyeight')\n",
    "\n",
    "import pandas as pd"
   ]
  },
  {
   "cell_type": "code",
   "execution_count": 3,
   "metadata": {},
   "outputs": [],
   "source": [
    "january_path = '../data/l5/201801-citibike-tripdata.csv.zip'\n",
    "august_path = 'https://s3.amazonaws.com/tripdata/201801-citibike-tripdata.csv.zip'  # url, но можно использовать напрямую как путь - данные будут скачиваться какое-то время.\n"
   ]
  },
  {
   "cell_type": "markdown",
   "metadata": {},
   "source": [
    "либо их можно1 раз скачать через терминал: `curl https://s3.amazonaws.com/tripdata/201801-citibike-tripdata.csv.zip`"
   ]
  },
  {
   "cell_type": "markdown",
   "metadata": {},
   "source": [
    "# Q1. какое соотношение поездок в августе к январским, в процентах?"
   ]
  },
  {
   "cell_type": "code",
   "execution_count": 4,
   "metadata": {},
   "outputs": [],
   "source": [
    "## "
   ]
  },
  {
   "cell_type": "markdown",
   "metadata": {},
   "source": [
    "# Q2. как отличается медиана времени путешествия женщин-подписчиков от аналогичной метрики для мужчин-подписчиков?"
   ]
  },
  {
   "cell_type": "markdown",
   "metadata": {},
   "source": [
    "# Q3. Как соотноситя среднее время путешествия для мужчин более 40 лет (будем считать что записи более 100 лет - неправильные) к аналогичному для мужчин < 40. А для женщин?"
   ]
  },
  {
   "cell_type": "markdown",
   "metadata": {},
   "source": [
    "# Q4. Сколько заработал Citibike в Августе если:\n",
    "- разовые покупатели платят 5 за поедку, не более 1 часа, далее 1 за каждые 10 минут (округление вверх)\n",
    "- подписчики платят 75 в месяц, поездки бесплатны не более 30 минут, далее 1 за каждые 10 минут (округление вверх)\n",
    "- для подписчиков до 16 подписка стоит 25"
   ]
  },
  {
   "cell_type": "markdown",
   "metadata": {},
   "source": [
    "# Сколько поездок < 30 минут мне нужно совершить, чтобы окупить Subscription (по сравнению с разовыми), если учесть что subscription я могу купить до уплаты налогов, которые условно составляют 35% заработка?"
   ]
  }
 ],
 "metadata": {
  "kernelspec": {
   "display_name": "Python 3",
   "language": "python",
   "name": "python3"
  },
  "language_info": {
   "codemirror_mode": {
    "name": "ipython",
    "version": 3
   },
   "file_extension": ".py",
   "mimetype": "text/x-python",
   "name": "python",
   "nbconvert_exporter": "python",
   "pygments_lexer": "ipython3",
   "version": "3.6.3"
  },
  "toc-autonumbering": true
 },
 "nbformat": 4,
 "nbformat_minor": 2
}
