{
 "cells": [
  {
   "cell_type": "markdown",
   "metadata": {},
   "source": [
    "Сравнить данные за Январь и Аагуст 2018. "
   ]
  },
  {
   "cell_type": "markdown",
   "metadata": {},
   "source": [
    "[Отвечать тут](https://casyfill.typeform.com/to/CsougW)"
   ]
  },
  {
   "cell_type": "code",
   "execution_count": 1,
   "metadata": {},
   "outputs": [],
   "source": [
    "%matplotlib inline\n",
    "import pylab as plt\n",
    "plt.style.use('fivethirtyeight')\n",
    "\n",
    "import pandas as pd"
   ]
  },
  {
   "cell_type": "code",
   "execution_count": 2,
   "metadata": {},
   "outputs": [],
   "source": [
    "january_path = '../data/l5/201801-citibike-tripdata.csv.zip'\n",
    "august_path = 'https://s3.amazonaws.com/tripdata/201808-citibike-tripdata.csv.zip'  # url, но можно использовать напрямую как путь - данные будут скачиваться какое-то время."
   ]
  },
  {
   "cell_type": "markdown",
   "metadata": {},
   "source": [
    "либо их можно1 раз скачать через терминал: `curl https://s3.amazonaws.com/tripdata/201808-citibike-tripdata.csv.zip`"
   ]
  },
  {
   "cell_type": "markdown",
   "metadata": {},
   "source": [
    "# Q1. какое соотношение поездок в августе к январским, в процентах?"
   ]
  },
  {
   "cell_type": "code",
   "execution_count": 4,
   "metadata": {},
   "outputs": [],
   "source": [
    "## your code "
   ]
  },
  {
   "cell_type": "markdown",
   "metadata": {},
   "source": [
    "# Q2. как отличается медиана времени путешествия женщин-подписчиков от аналогичной метрики для мужчин-подписчиков в авгесте?"
   ]
  },
  {
   "cell_type": "code",
   "execution_count": null,
   "metadata": {},
   "outputs": [],
   "source": [
    "## your code "
   ]
  },
  {
   "cell_type": "markdown",
   "metadata": {},
   "source": [
    "# Q3. В августе - как соотносится среднее время путешествия для мужчин более 40 лет (будем считать что записи более 100 лет - неправильные, их надо откинуть) к аналогичному для мужчин < 40?"
   ]
  },
  {
   "cell_type": "code",
   "execution_count": null,
   "metadata": {},
   "outputs": [],
   "source": [
    "## your code "
   ]
  },
  {
   "cell_type": "markdown",
   "metadata": {},
   "source": [
    "# Q4. Сколько заработал Citibike в августе если:\n",
    "- разовые покупатели платят 3 за поедку, не более 30 минут, далее 4 за каждые 15 минут (округление вверх)\n",
    "- подписчики платят 75 в месяц, поездки бесплатны не более 30 минут, далее 4 за каждые 15 минут (округление вверх)\n",
    "- для подписчиков до 16 подписка стоит 25"
   ]
  },
  {
   "cell_type": "code",
   "execution_count": 1,
   "metadata": {},
   "outputs": [],
   "source": [
    "## your code "
   ]
  },
  {
   "cell_type": "markdown",
   "metadata": {},
   "source": [
    "# Q5. Представьте себя аналитиком Citibike. Опишите ключевые изменения/отличия системы с января по август в 3-5 пунктах."
   ]
  },
  {
   "cell_type": "code",
   "execution_count": null,
   "metadata": {},
   "outputs": [],
   "source": [
    "## your code "
   ]
  }
 ],
 "metadata": {
  "kernelspec": {
   "display_name": "Python 3",
   "language": "python",
   "name": "python3"
  },
  "language_info": {
   "codemirror_mode": {
    "name": "ipython",
    "version": 3
   },
   "file_extension": ".py",
   "mimetype": "text/x-python",
   "name": "python",
   "nbconvert_exporter": "python",
   "pygments_lexer": "ipython3",
   "version": "3.6.3"
  },
  "toc-autonumbering": true
 },
 "nbformat": 4,
 "nbformat_minor": 2
}
