{
 "cells": [
  {
   "cell_type": "code",
   "execution_count": 1,
   "metadata": {},
   "outputs": [],
   "source": [
    "%matplotlib inline\n",
    "import pylab as plt\n",
    "plt.style.use('fivethirtyeight')"
   ]
  },
  {
   "cell_type": "code",
   "execution_count": 2,
   "metadata": {},
   "outputs": [],
   "source": [
    "import pandas as pd\n",
    "# from ml import KNN\n",
    "from sklearn.model_selection import train_test_split\n",
    "from sklearn.preprocessing import StandardScaler\n",
    "from sklearn.neighbors import KNeighborsRegressor"
   ]
  },
  {
   "cell_type": "code",
   "execution_count": 3,
   "metadata": {},
   "outputs": [
    {
     "data": {
      "text/html": [
       "<div>\n",
       "<style scoped>\n",
       "    .dataframe tbody tr th:only-of-type {\n",
       "        vertical-align: middle;\n",
       "    }\n",
       "\n",
       "    .dataframe tbody tr th {\n",
       "        vertical-align: top;\n",
       "    }\n",
       "\n",
       "    .dataframe thead th {\n",
       "        text-align: right;\n",
       "    }\n",
       "</style>\n",
       "<table border=\"1\" class=\"dataframe\">\n",
       "  <thead>\n",
       "    <tr style=\"text-align: right;\">\n",
       "      <th></th>\n",
       "      <th>rental_id</th>\n",
       "      <th>rent</th>\n",
       "      <th>bedrooms</th>\n",
       "      <th>bathrooms</th>\n",
       "      <th>size_sqft</th>\n",
       "      <th>min_to_subway</th>\n",
       "      <th>floor</th>\n",
       "      <th>building_age_yrs</th>\n",
       "      <th>no_fee</th>\n",
       "      <th>has_roofdeck</th>\n",
       "      <th>has_washer_dryer</th>\n",
       "      <th>has_doorman</th>\n",
       "      <th>has_elevator</th>\n",
       "      <th>has_dishwasher</th>\n",
       "      <th>has_patio</th>\n",
       "      <th>has_gym</th>\n",
       "      <th>neighborhood</th>\n",
       "      <th>borough</th>\n",
       "    </tr>\n",
       "  </thead>\n",
       "  <tbody>\n",
       "    <tr>\n",
       "      <th>0</th>\n",
       "      <td>10234</td>\n",
       "      <td>3000</td>\n",
       "      <td>3.0</td>\n",
       "      <td>1</td>\n",
       "      <td>1000</td>\n",
       "      <td>4</td>\n",
       "      <td>1.0</td>\n",
       "      <td>106</td>\n",
       "      <td>0</td>\n",
       "      <td>0</td>\n",
       "      <td>0</td>\n",
       "      <td>0</td>\n",
       "      <td>0</td>\n",
       "      <td>0</td>\n",
       "      <td>0</td>\n",
       "      <td>0</td>\n",
       "      <td>Astoria</td>\n",
       "      <td>Queens</td>\n",
       "    </tr>\n",
       "    <tr>\n",
       "      <th>1</th>\n",
       "      <td>10524</td>\n",
       "      <td>1950</td>\n",
       "      <td>1.0</td>\n",
       "      <td>1</td>\n",
       "      <td>950</td>\n",
       "      <td>1</td>\n",
       "      <td>3.0</td>\n",
       "      <td>83</td>\n",
       "      <td>0</td>\n",
       "      <td>0</td>\n",
       "      <td>0</td>\n",
       "      <td>0</td>\n",
       "      <td>0</td>\n",
       "      <td>0</td>\n",
       "      <td>0</td>\n",
       "      <td>0</td>\n",
       "      <td>Forest Hills</td>\n",
       "      <td>Queens</td>\n",
       "    </tr>\n",
       "    <tr>\n",
       "      <th>2</th>\n",
       "      <td>5465</td>\n",
       "      <td>3500</td>\n",
       "      <td>1.0</td>\n",
       "      <td>1</td>\n",
       "      <td>996</td>\n",
       "      <td>9</td>\n",
       "      <td>7.0</td>\n",
       "      <td>3</td>\n",
       "      <td>1</td>\n",
       "      <td>0</td>\n",
       "      <td>0</td>\n",
       "      <td>0</td>\n",
       "      <td>0</td>\n",
       "      <td>0</td>\n",
       "      <td>0</td>\n",
       "      <td>0</td>\n",
       "      <td>Astoria</td>\n",
       "      <td>Queens</td>\n",
       "    </tr>\n",
       "  </tbody>\n",
       "</table>\n",
       "</div>"
      ],
      "text/plain": [
       "   rental_id  rent  bedrooms  bathrooms  size_sqft  min_to_subway  floor  \\\n",
       "0      10234  3000       3.0          1       1000              4    1.0   \n",
       "1      10524  1950       1.0          1        950              1    3.0   \n",
       "2       5465  3500       1.0          1        996              9    7.0   \n",
       "\n",
       "   building_age_yrs  no_fee  has_roofdeck  has_washer_dryer  has_doorman  \\\n",
       "0               106       0             0                 0            0   \n",
       "1                83       0             0                 0            0   \n",
       "2                 3       1             0                 0            0   \n",
       "\n",
       "   has_elevator  has_dishwasher  has_patio  has_gym  neighborhood borough  \n",
       "0             0               0          0        0       Astoria  Queens  \n",
       "1             0               0          0        0  Forest Hills  Queens  \n",
       "2             0               0          0        0       Astoria  Queens  "
      ]
     },
     "execution_count": 3,
     "metadata": {},
     "output_type": "execute_result"
    }
   ],
   "source": [
    "path = 'https://raw.githubusercontent.com/Codecademy/datasets/master/streeteasy/queens.csv'\n",
    "df = pd.read_csv(path)\n",
    "df.head(3)"
   ]
  },
  {
   "cell_type": "markdown",
   "metadata": {},
   "source": [
    "## Prepare Data"
   ]
  },
  {
   "cell_type": "code",
   "execution_count": 6,
   "metadata": {},
   "outputs": [],
   "source": [
    "y = df.rent"
   ]
  },
  {
   "cell_type": "code",
   "execution_count": 4,
   "metadata": {},
   "outputs": [],
   "source": [
    "X = df.drop('rent', axis=1).select_dtypes('number')"
   ]
  },
  {
   "cell_type": "code",
   "execution_count": 7,
   "metadata": {},
   "outputs": [
    {
     "name": "stderr",
     "output_type": "stream",
     "text": [
      "/Users/philippk/anaconda3/envs/py36/lib/python3.6/site-packages/sklearn/model_selection/_split.py:2179: FutureWarning: From version 0.21, test_size will always complement train_size unless both are specified.\n",
      "  FutureWarning)\n"
     ]
    }
   ],
   "source": [
    "X_train, X_test, y_train, y_test = train_test_split(X, y, train_size=.8, random_state=123)"
   ]
  },
  {
   "cell_type": "markdown",
   "metadata": {},
   "source": [
    "# Fit Model"
   ]
  },
  {
   "cell_type": "code",
   "execution_count": 8,
   "metadata": {},
   "outputs": [],
   "source": [
    "model = KNeighborsRegressor(n_neighbors=3)"
   ]
  },
  {
   "cell_type": "code",
   "execution_count": 9,
   "metadata": {},
   "outputs": [
    {
     "data": {
      "text/plain": [
       "KNeighborsRegressor(algorithm='auto', leaf_size=30, metric='minkowski',\n",
       "          metric_params=None, n_jobs=None, n_neighbors=3, p=2,\n",
       "          weights='uniform')"
      ]
     },
     "execution_count": 9,
     "metadata": {},
     "output_type": "execute_result"
    }
   ],
   "source": [
    "model.fit(X_train, y_train)"
   ]
  },
  {
   "cell_type": "code",
   "execution_count": 10,
   "metadata": {},
   "outputs": [],
   "source": [
    "y_pred = model.predict(X_test)"
   ]
  },
  {
   "cell_type": "code",
   "execution_count": 11,
   "metadata": {},
   "outputs": [
    {
     "name": "stdout",
     "output_type": "stream",
     "text": [
      "mean_absolute_error: 640.3555555555556\n",
      "mean_squared_error: 700313.1382716049\n",
      "r2_score: -1.5599118899874753\n"
     ]
    }
   ],
   "source": [
    "# definitely correct and usually faster\n",
    "from sklearn.metrics import mean_absolute_error, mean_squared_error, r2_score\n",
    "for metric in  mean_absolute_error, mean_squared_error, r2_score:\n",
    "     print(f'{metric.__name__}: {metric(y_pred, y_test)}')"
   ]
  },
  {
   "cell_type": "code",
   "execution_count": 12,
   "metadata": {},
   "outputs": [
    {
     "data": {
      "text/plain": [
       "854.6123999140013"
      ]
     },
     "execution_count": 12,
     "metadata": {},
     "output_type": "execute_result"
    }
   ],
   "source": [
    "df['rent'].std()"
   ]
  },
  {
   "cell_type": "markdown",
   "metadata": {},
   "source": [
    "Наша модель работает ужасно... но почему?"
   ]
  },
  {
   "cell_type": "markdown",
   "metadata": {},
   "source": [
    "- Существуют выбросы\n",
    "- Данные не нормализированны\n",
    "- Модель не умеет \"убивать\" глупые фичи"
   ]
  },
  {
   "cell_type": "markdown",
   "metadata": {},
   "source": [
    "# Drop Id"
   ]
  },
  {
   "cell_type": "code",
   "execution_count": 13,
   "metadata": {},
   "outputs": [
    {
     "name": "stderr",
     "output_type": "stream",
     "text": [
      "/Users/philippk/anaconda3/envs/py36/lib/python3.6/site-packages/pandas/core/frame.py:3940: SettingWithCopyWarning: \n",
      "A value is trying to be set on a copy of a slice from a DataFrame\n",
      "\n",
      "See the caveats in the documentation: http://pandas.pydata.org/pandas-docs/stable/indexing.html#indexing-view-versus-copy\n",
      "  errors=errors)\n"
     ]
    }
   ],
   "source": [
    "X_train.drop('rental_id', axis=1, inplace=True)\n",
    "X_test.drop('rental_id', axis=1, inplace=True)"
   ]
  },
  {
   "cell_type": "code",
   "execution_count": 14,
   "metadata": {},
   "outputs": [
    {
     "data": {
      "text/plain": [
       "KNeighborsRegressor(algorithm='auto', leaf_size=30, metric='minkowski',\n",
       "          metric_params=None, n_jobs=None, n_neighbors=3, p=2,\n",
       "          weights='uniform')"
      ]
     },
     "execution_count": 14,
     "metadata": {},
     "output_type": "execute_result"
    }
   ],
   "source": [
    "model.fit(X_train, y_train)"
   ]
  },
  {
   "cell_type": "code",
   "execution_count": 15,
   "metadata": {},
   "outputs": [],
   "source": [
    "y_pred = model.predict(X_test)"
   ]
  },
  {
   "cell_type": "code",
   "execution_count": 16,
   "metadata": {},
   "outputs": [
    {
     "name": "stdout",
     "output_type": "stream",
     "text": [
      "mean_absolute_error: 352.58148148148143\n",
      "mean_squared_error: 252517.56419753088\n",
      "r2_score: 0.5450957824077073\n"
     ]
    }
   ],
   "source": [
    "# definitely correct and usually faster\n",
    "from sklearn.metrics import mean_absolute_error, mean_squared_error, r2_score\n",
    "for metric in  mean_absolute_error, mean_squared_error, r2_score:\n",
    "     print(f'{metric.__name__}: {metric(y_pred, y_test)}')"
   ]
  },
  {
   "cell_type": "markdown",
   "metadata": {},
   "source": [
    "# Scale"
   ]
  },
  {
   "cell_type": "code",
   "execution_count": 17,
   "metadata": {},
   "outputs": [],
   "source": [
    "use_cols = [ 'bedrooms', 'bathrooms', 'size_sqft', 'min_to_subway', 'floor', 'building_age_yrs', 'no_fee']"
   ]
  },
  {
   "cell_type": "code",
   "execution_count": 18,
   "metadata": {},
   "outputs": [],
   "source": [
    "scaler = StandardScaler()"
   ]
  },
  {
   "cell_type": "code",
   "execution_count": 19,
   "metadata": {},
   "outputs": [
    {
     "name": "stderr",
     "output_type": "stream",
     "text": [
      "/Users/philippk/anaconda3/envs/py36/lib/python3.6/site-packages/sklearn/preprocessing/data.py:625: DataConversionWarning: Data with input dtype int64, float64 were all converted to float64 by StandardScaler.\n",
      "  return self.partial_fit(X, y)\n",
      "/Users/philippk/anaconda3/envs/py36/lib/python3.6/site-packages/sklearn/base.py:462: DataConversionWarning: Data with input dtype int64, float64 were all converted to float64 by StandardScaler.\n",
      "  return self.fit(X, **fit_params).transform(X)\n",
      "/Users/philippk/anaconda3/envs/py36/lib/python3.6/site-packages/sklearn/preprocessing/data.py:625: DataConversionWarning: Data with input dtype int64, float64 were all converted to float64 by StandardScaler.\n",
      "  return self.partial_fit(X, y)\n",
      "/Users/philippk/anaconda3/envs/py36/lib/python3.6/site-packages/sklearn/base.py:462: DataConversionWarning: Data with input dtype int64, float64 were all converted to float64 by StandardScaler.\n",
      "  return self.fit(X, **fit_params).transform(X)\n"
     ]
    }
   ],
   "source": [
    "# X_train_s = scaler.fit_transform(X_train)\n",
    "# X_test_s = scaler.fit_transform(X_test)\n",
    "\n",
    "X_train_s = scaler.fit_transform(X_train[use_cols])\n",
    "X_test_s = scaler.fit_transform(X_test[use_cols])"
   ]
  },
  {
   "cell_type": "code",
   "execution_count": 20,
   "metadata": {},
   "outputs": [
    {
     "data": {
      "text/plain": [
       "KNeighborsRegressor(algorithm='auto', leaf_size=30, metric='minkowski',\n",
       "          metric_params=None, n_jobs=None, n_neighbors=3, p=2,\n",
       "          weights='uniform')"
      ]
     },
     "execution_count": 20,
     "metadata": {},
     "output_type": "execute_result"
    }
   ],
   "source": [
    "model.fit(X_train_s, y_train)"
   ]
  },
  {
   "cell_type": "code",
   "execution_count": 21,
   "metadata": {},
   "outputs": [],
   "source": [
    "y_pred = model.predict(X_test_s)"
   ]
  },
  {
   "cell_type": "code",
   "execution_count": 22,
   "metadata": {},
   "outputs": [
    {
     "name": "stdout",
     "output_type": "stream",
     "text": [
      "mean_absolute_error: 311.81851851851854\n",
      "mean_squared_error: 243635.74691358022\n",
      "r2_score: 0.5428204696087342\n"
     ]
    }
   ],
   "source": [
    "\n",
    "from sklearn.metrics import mean_absolute_error, mean_squared_error, r2_score\n",
    "for metric in  mean_absolute_error, mean_squared_error, r2_score:\n",
    "     print(f'{metric.__name__}: {metric(y_pred, y_test)}')"
   ]
  },
  {
   "cell_type": "markdown",
   "metadata": {},
   "source": [
    "# Handling Categorical"
   ]
  },
  {
   "cell_type": "code",
   "execution_count": 51,
   "metadata": {},
   "outputs": [],
   "source": [
    "from sklearn.preprocessing import LabelEncoder, OneHotEncoder"
   ]
  },
  {
   "cell_type": "code",
   "execution_count": 61,
   "metadata": {},
   "outputs": [],
   "source": [
    "# ?LabelEncoder"
   ]
  },
  {
   "cell_type": "code",
   "execution_count": 62,
   "metadata": {},
   "outputs": [
    {
     "data": {
      "text/plain": [
       "LabelEncoder()"
      ]
     },
     "execution_count": 62,
     "metadata": {},
     "output_type": "execute_result"
    }
   ],
   "source": [
    "LE = LabelEncoder()\n",
    "LE.fit(['Manhattan', 'Queens', 'Brooklyn'])"
   ]
  },
  {
   "cell_type": "code",
   "execution_count": 75,
   "metadata": {},
   "outputs": [],
   "source": [
    "OH = OneHotEncoder(handle_unknown='ignore')"
   ]
  },
  {
   "cell_type": "code",
   "execution_count": 86,
   "metadata": {},
   "outputs": [],
   "source": [
    "# OH.fit_transform(df[['borough']])"
   ]
  },
  {
   "cell_type": "markdown",
   "metadata": {},
   "source": [
    "## Using frequency as a feature "
   ]
  },
  {
   "cell_type": "code",
   "execution_count": 23,
   "metadata": {},
   "outputs": [
    {
     "data": {
      "text/plain": [
       "Astoria                106\n",
       "Long Island City        79\n",
       "Rego Park               37\n",
       "Forest Hills            28\n",
       "Sunnyside               24\n",
       "Ridgewood               17\n",
       "Flushing                15\n",
       "Kew Gardens             14\n",
       "Briarwood                7\n",
       "Elmhurst                 6\n",
       "Jackson Heights          6\n",
       "Jamaica Estates          4\n",
       "Queens Village           3\n",
       "Woodside                 3\n",
       "Kew Gardens Hills        2\n",
       "Rockaway All             1\n",
       "Richmond Hill            1\n",
       "Glendale                 1\n",
       "Oakland Gardens          1\n",
       "South Richmond Hill      1\n",
       "North Corona             1\n",
       "Corona                   1\n",
       "Name: neighborhood, dtype: int64"
      ]
     },
     "execution_count": 23,
     "metadata": {},
     "output_type": "execute_result"
    }
   ],
   "source": [
    "df.reindex(X_train.index)['neighborhood'].value_counts()"
   ]
  },
  {
   "cell_type": "code",
   "execution_count": 24,
   "metadata": {},
   "outputs": [],
   "source": [
    "nab_values = (df.reindex(X_train.index)['neighborhood'].value_counts() /  len(X_train)).to_dict()"
   ]
  },
  {
   "cell_type": "code",
   "execution_count": 25,
   "metadata": {},
   "outputs": [],
   "source": [
    "nabs = df['neighborhood'].map(nab_values)"
   ]
  },
  {
   "cell_type": "code",
   "execution_count": 26,
   "metadata": {},
   "outputs": [],
   "source": [
    "# nabs"
   ]
  },
  {
   "cell_type": "code",
   "execution_count": 27,
   "metadata": {},
   "outputs": [
    {
     "name": "stderr",
     "output_type": "stream",
     "text": [
      "/Users/philippk/anaconda3/envs/py36/lib/python3.6/site-packages/ipykernel_launcher.py:1: SettingWithCopyWarning: \n",
      "A value is trying to be set on a copy of a slice from a DataFrame.\n",
      "Try using .loc[row_indexer,col_indexer] = value instead\n",
      "\n",
      "See the caveats in the documentation: http://pandas.pydata.org/pandas-docs/stable/indexing.html#indexing-view-versus-copy\n",
      "  \"\"\"Entry point for launching an IPython kernel.\n",
      "/Users/philippk/anaconda3/envs/py36/lib/python3.6/site-packages/ipykernel_launcher.py:2: SettingWithCopyWarning: \n",
      "A value is trying to be set on a copy of a slice from a DataFrame.\n",
      "Try using .loc[row_indexer,col_indexer] = value instead\n",
      "\n",
      "See the caveats in the documentation: http://pandas.pydata.org/pandas-docs/stable/indexing.html#indexing-view-versus-copy\n",
      "  \n"
     ]
    }
   ],
   "source": [
    "X_train['neighborhood'] = nabs.reindex(X_train.index)\n",
    "X_test['neighborhood'] = nabs.reindex(X_test.index).fillna(nabs.mean())  # некоторые районы не попали в трейн !"
   ]
  },
  {
   "cell_type": "code",
   "execution_count": 28,
   "metadata": {},
   "outputs": [
    {
     "name": "stderr",
     "output_type": "stream",
     "text": [
      "/Users/philippk/anaconda3/envs/py36/lib/python3.6/site-packages/sklearn/preprocessing/data.py:625: DataConversionWarning: Data with input dtype int64, float64 were all converted to float64 by StandardScaler.\n",
      "  return self.partial_fit(X, y)\n",
      "/Users/philippk/anaconda3/envs/py36/lib/python3.6/site-packages/sklearn/base.py:462: DataConversionWarning: Data with input dtype int64, float64 were all converted to float64 by StandardScaler.\n",
      "  return self.fit(X, **fit_params).transform(X)\n",
      "/Users/philippk/anaconda3/envs/py36/lib/python3.6/site-packages/sklearn/preprocessing/data.py:625: DataConversionWarning: Data with input dtype int64, float64 were all converted to float64 by StandardScaler.\n",
      "  return self.partial_fit(X, y)\n",
      "/Users/philippk/anaconda3/envs/py36/lib/python3.6/site-packages/sklearn/base.py:462: DataConversionWarning: Data with input dtype int64, float64 were all converted to float64 by StandardScaler.\n",
      "  return self.fit(X, **fit_params).transform(X)\n"
     ]
    }
   ],
   "source": [
    "X_train_s = scaler.fit_transform(X_train[use_cols + ['neighborhood']] )\n",
    "X_test_s = scaler.fit_transform(X_test[use_cols + ['neighborhood']])"
   ]
  },
  {
   "cell_type": "code",
   "execution_count": 29,
   "metadata": {},
   "outputs": [
    {
     "data": {
      "text/plain": [
       "KNeighborsRegressor(algorithm='auto', leaf_size=30, metric='minkowski',\n",
       "          metric_params=None, n_jobs=None, n_neighbors=3, p=2,\n",
       "          weights='uniform')"
      ]
     },
     "execution_count": 29,
     "metadata": {},
     "output_type": "execute_result"
    }
   ],
   "source": [
    "model.fit(X_train_s, y_train)"
   ]
  },
  {
   "cell_type": "code",
   "execution_count": 30,
   "metadata": {},
   "outputs": [
    {
     "name": "stdout",
     "output_type": "stream",
     "text": [
      "mean_absolute_error: 261.3074074074074\n",
      "mean_squared_error: 174415.7074074074\n",
      "r2_score: 0.6751730637604156\n"
     ]
    }
   ],
   "source": [
    "y_pred = model.predict(X_test_s)\n",
    "\n",
    "from sklearn.metrics import mean_absolute_error, mean_squared_error, r2_score\n",
    "for metric in  mean_absolute_error, mean_squared_error, r2_score:\n",
    "     print(f'{metric.__name__}: {metric(y_pred, y_test)}')"
   ]
  },
  {
   "cell_type": "markdown",
   "metadata": {},
   "source": [
    "## Гиперпараметры"
   ]
  },
  {
   "cell_type": "code",
   "execution_count": 33,
   "metadata": {},
   "outputs": [],
   "source": [
    "from sklearn.model_selection import GridSearchCV"
   ]
  },
  {
   "cell_type": "code",
   "execution_count": 34,
   "metadata": {},
   "outputs": [],
   "source": [
    "parameters = {'n_neighbors':range(1,11)}"
   ]
  },
  {
   "cell_type": "code",
   "execution_count": 35,
   "metadata": {},
   "outputs": [],
   "source": [
    "cv = GridSearchCV(model, parameters, cv=5, iid=False)"
   ]
  },
  {
   "cell_type": "code",
   "execution_count": 36,
   "metadata": {},
   "outputs": [
    {
     "data": {
      "text/plain": [
       "GridSearchCV(cv=5, error_score='raise-deprecating',\n",
       "       estimator=KNeighborsRegressor(algorithm='auto', leaf_size=30, metric='minkowski',\n",
       "          metric_params=None, n_jobs=None, n_neighbors=3, p=2,\n",
       "          weights='uniform'),\n",
       "       fit_params=None, iid=False, n_jobs=None,\n",
       "       param_grid={'n_neighbors': range(1, 11)}, pre_dispatch='2*n_jobs',\n",
       "       refit=True, return_train_score='warn', scoring=None, verbose=0)"
      ]
     },
     "execution_count": 36,
     "metadata": {},
     "output_type": "execute_result"
    }
   ],
   "source": [
    "cv.fit(X_train_s, y_train)"
   ]
  },
  {
   "cell_type": "code",
   "execution_count": 37,
   "metadata": {},
   "outputs": [
    {
     "name": "stderr",
     "output_type": "stream",
     "text": [
      "/Users/philippk/anaconda3/envs/py36/lib/python3.6/site-packages/sklearn/utils/deprecation.py:125: FutureWarning: You are accessing a training score ('split0_train_score'), which will not be available by default any more in 0.21. If you need training scores, please set return_train_score=True\n",
      "  warnings.warn(*warn_args, **warn_kwargs)\n",
      "/Users/philippk/anaconda3/envs/py36/lib/python3.6/site-packages/sklearn/utils/deprecation.py:125: FutureWarning: You are accessing a training score ('split1_train_score'), which will not be available by default any more in 0.21. If you need training scores, please set return_train_score=True\n",
      "  warnings.warn(*warn_args, **warn_kwargs)\n",
      "/Users/philippk/anaconda3/envs/py36/lib/python3.6/site-packages/sklearn/utils/deprecation.py:125: FutureWarning: You are accessing a training score ('split2_train_score'), which will not be available by default any more in 0.21. If you need training scores, please set return_train_score=True\n",
      "  warnings.warn(*warn_args, **warn_kwargs)\n",
      "/Users/philippk/anaconda3/envs/py36/lib/python3.6/site-packages/sklearn/utils/deprecation.py:125: FutureWarning: You are accessing a training score ('split3_train_score'), which will not be available by default any more in 0.21. If you need training scores, please set return_train_score=True\n",
      "  warnings.warn(*warn_args, **warn_kwargs)\n",
      "/Users/philippk/anaconda3/envs/py36/lib/python3.6/site-packages/sklearn/utils/deprecation.py:125: FutureWarning: You are accessing a training score ('split4_train_score'), which will not be available by default any more in 0.21. If you need training scores, please set return_train_score=True\n",
      "  warnings.warn(*warn_args, **warn_kwargs)\n",
      "/Users/philippk/anaconda3/envs/py36/lib/python3.6/site-packages/sklearn/utils/deprecation.py:125: FutureWarning: You are accessing a training score ('mean_train_score'), which will not be available by default any more in 0.21. If you need training scores, please set return_train_score=True\n",
      "  warnings.warn(*warn_args, **warn_kwargs)\n",
      "/Users/philippk/anaconda3/envs/py36/lib/python3.6/site-packages/sklearn/utils/deprecation.py:125: FutureWarning: You are accessing a training score ('std_train_score'), which will not be available by default any more in 0.21. If you need training scores, please set return_train_score=True\n",
      "  warnings.warn(*warn_args, **warn_kwargs)\n"
     ]
    }
   ],
   "source": [
    "cv_results = pd.DataFrame(cv.cv_results_).set_index(pd.Series(parameters['n_neighbors']))"
   ]
  },
  {
   "cell_type": "code",
   "execution_count": 38,
   "metadata": {},
   "outputs": [
    {
     "data": {
      "text/html": [
       "<div>\n",
       "<style scoped>\n",
       "    .dataframe tbody tr th:only-of-type {\n",
       "        vertical-align: middle;\n",
       "    }\n",
       "\n",
       "    .dataframe tbody tr th {\n",
       "        vertical-align: top;\n",
       "    }\n",
       "\n",
       "    .dataframe thead th {\n",
       "        text-align: right;\n",
       "    }\n",
       "</style>\n",
       "<table border=\"1\" class=\"dataframe\">\n",
       "  <thead>\n",
       "    <tr style=\"text-align: right;\">\n",
       "      <th></th>\n",
       "      <th>mean_fit_time</th>\n",
       "      <th>std_fit_time</th>\n",
       "      <th>mean_score_time</th>\n",
       "      <th>std_score_time</th>\n",
       "      <th>param_n_neighbors</th>\n",
       "      <th>params</th>\n",
       "      <th>split0_test_score</th>\n",
       "      <th>split1_test_score</th>\n",
       "      <th>split2_test_score</th>\n",
       "      <th>split3_test_score</th>\n",
       "      <th>...</th>\n",
       "      <th>mean_test_score</th>\n",
       "      <th>std_test_score</th>\n",
       "      <th>rank_test_score</th>\n",
       "      <th>split0_train_score</th>\n",
       "      <th>split1_train_score</th>\n",
       "      <th>split2_train_score</th>\n",
       "      <th>split3_train_score</th>\n",
       "      <th>split4_train_score</th>\n",
       "      <th>mean_train_score</th>\n",
       "      <th>std_train_score</th>\n",
       "    </tr>\n",
       "  </thead>\n",
       "  <tbody>\n",
       "    <tr>\n",
       "      <th>1</th>\n",
       "      <td>0.001436</td>\n",
       "      <td>0.000465</td>\n",
       "      <td>0.001676</td>\n",
       "      <td>0.000360</td>\n",
       "      <td>1</td>\n",
       "      <td>{'n_neighbors': 1}</td>\n",
       "      <td>0.629691</td>\n",
       "      <td>0.388919</td>\n",
       "      <td>0.582123</td>\n",
       "      <td>0.721020</td>\n",
       "      <td>...</td>\n",
       "      <td>0.602612</td>\n",
       "      <td>0.117222</td>\n",
       "      <td>10</td>\n",
       "      <td>0.999212</td>\n",
       "      <td>0.999987</td>\n",
       "      <td>0.999585</td>\n",
       "      <td>0.999368</td>\n",
       "      <td>0.999806</td>\n",
       "      <td>0.999592</td>\n",
       "      <td>0.000282</td>\n",
       "    </tr>\n",
       "    <tr>\n",
       "      <th>2</th>\n",
       "      <td>0.000982</td>\n",
       "      <td>0.000152</td>\n",
       "      <td>0.001306</td>\n",
       "      <td>0.000203</td>\n",
       "      <td>2</td>\n",
       "      <td>{'n_neighbors': 2}</td>\n",
       "      <td>0.639600</td>\n",
       "      <td>0.671219</td>\n",
       "      <td>0.550890</td>\n",
       "      <td>0.749405</td>\n",
       "      <td>...</td>\n",
       "      <td>0.658192</td>\n",
       "      <td>0.064526</td>\n",
       "      <td>6</td>\n",
       "      <td>0.914898</td>\n",
       "      <td>0.895920</td>\n",
       "      <td>0.900038</td>\n",
       "      <td>0.888779</td>\n",
       "      <td>0.891018</td>\n",
       "      <td>0.898130</td>\n",
       "      <td>0.009249</td>\n",
       "    </tr>\n",
       "    <tr>\n",
       "      <th>3</th>\n",
       "      <td>0.001190</td>\n",
       "      <td>0.000368</td>\n",
       "      <td>0.002198</td>\n",
       "      <td>0.000398</td>\n",
       "      <td>3</td>\n",
       "      <td>{'n_neighbors': 3}</td>\n",
       "      <td>0.610832</td>\n",
       "      <td>0.774003</td>\n",
       "      <td>0.565974</td>\n",
       "      <td>0.785287</td>\n",
       "      <td>...</td>\n",
       "      <td>0.681133</td>\n",
       "      <td>0.086960</td>\n",
       "      <td>1</td>\n",
       "      <td>0.878772</td>\n",
       "      <td>0.818530</td>\n",
       "      <td>0.855571</td>\n",
       "      <td>0.845264</td>\n",
       "      <td>0.853058</td>\n",
       "      <td>0.850239</td>\n",
       "      <td>0.019394</td>\n",
       "    </tr>\n",
       "    <tr>\n",
       "      <th>4</th>\n",
       "      <td>0.001107</td>\n",
       "      <td>0.000149</td>\n",
       "      <td>0.001329</td>\n",
       "      <td>0.000091</td>\n",
       "      <td>4</td>\n",
       "      <td>{'n_neighbors': 4}</td>\n",
       "      <td>0.608149</td>\n",
       "      <td>0.795168</td>\n",
       "      <td>0.620221</td>\n",
       "      <td>0.749117</td>\n",
       "      <td>...</td>\n",
       "      <td>0.678827</td>\n",
       "      <td>0.077711</td>\n",
       "      <td>2</td>\n",
       "      <td>0.844561</td>\n",
       "      <td>0.798094</td>\n",
       "      <td>0.824240</td>\n",
       "      <td>0.806260</td>\n",
       "      <td>0.832130</td>\n",
       "      <td>0.821057</td>\n",
       "      <td>0.016920</td>\n",
       "    </tr>\n",
       "    <tr>\n",
       "      <th>5</th>\n",
       "      <td>0.000890</td>\n",
       "      <td>0.000227</td>\n",
       "      <td>0.001223</td>\n",
       "      <td>0.000077</td>\n",
       "      <td>5</td>\n",
       "      <td>{'n_neighbors': 5}</td>\n",
       "      <td>0.581131</td>\n",
       "      <td>0.788438</td>\n",
       "      <td>0.647633</td>\n",
       "      <td>0.788551</td>\n",
       "      <td>...</td>\n",
       "      <td>0.678025</td>\n",
       "      <td>0.093263</td>\n",
       "      <td>3</td>\n",
       "      <td>0.814731</td>\n",
       "      <td>0.763313</td>\n",
       "      <td>0.805496</td>\n",
       "      <td>0.795409</td>\n",
       "      <td>0.802383</td>\n",
       "      <td>0.796266</td>\n",
       "      <td>0.017608</td>\n",
       "    </tr>\n",
       "    <tr>\n",
       "      <th>6</th>\n",
       "      <td>0.000820</td>\n",
       "      <td>0.000100</td>\n",
       "      <td>0.001267</td>\n",
       "      <td>0.000185</td>\n",
       "      <td>6</td>\n",
       "      <td>{'n_neighbors': 6}</td>\n",
       "      <td>0.569377</td>\n",
       "      <td>0.804196</td>\n",
       "      <td>0.622741</td>\n",
       "      <td>0.786395</td>\n",
       "      <td>...</td>\n",
       "      <td>0.670154</td>\n",
       "      <td>0.104218</td>\n",
       "      <td>4</td>\n",
       "      <td>0.790956</td>\n",
       "      <td>0.742127</td>\n",
       "      <td>0.781125</td>\n",
       "      <td>0.768791</td>\n",
       "      <td>0.782103</td>\n",
       "      <td>0.773021</td>\n",
       "      <td>0.016983</td>\n",
       "    </tr>\n",
       "    <tr>\n",
       "      <th>7</th>\n",
       "      <td>0.001012</td>\n",
       "      <td>0.000250</td>\n",
       "      <td>0.001163</td>\n",
       "      <td>0.000094</td>\n",
       "      <td>7</td>\n",
       "      <td>{'n_neighbors': 7}</td>\n",
       "      <td>0.567359</td>\n",
       "      <td>0.799283</td>\n",
       "      <td>0.597692</td>\n",
       "      <td>0.796142</td>\n",
       "      <td>...</td>\n",
       "      <td>0.659647</td>\n",
       "      <td>0.114317</td>\n",
       "      <td>5</td>\n",
       "      <td>0.773516</td>\n",
       "      <td>0.719615</td>\n",
       "      <td>0.767983</td>\n",
       "      <td>0.746815</td>\n",
       "      <td>0.768497</td>\n",
       "      <td>0.755285</td>\n",
       "      <td>0.020061</td>\n",
       "    </tr>\n",
       "    <tr>\n",
       "      <th>8</th>\n",
       "      <td>0.000756</td>\n",
       "      <td>0.000118</td>\n",
       "      <td>0.001243</td>\n",
       "      <td>0.000335</td>\n",
       "      <td>8</td>\n",
       "      <td>{'n_neighbors': 8}</td>\n",
       "      <td>0.568876</td>\n",
       "      <td>0.780500</td>\n",
       "      <td>0.619028</td>\n",
       "      <td>0.812871</td>\n",
       "      <td>...</td>\n",
       "      <td>0.655299</td>\n",
       "      <td>0.122404</td>\n",
       "      <td>7</td>\n",
       "      <td>0.769067</td>\n",
       "      <td>0.702297</td>\n",
       "      <td>0.747252</td>\n",
       "      <td>0.715785</td>\n",
       "      <td>0.749929</td>\n",
       "      <td>0.736866</td>\n",
       "      <td>0.024310</td>\n",
       "    </tr>\n",
       "    <tr>\n",
       "      <th>9</th>\n",
       "      <td>0.000684</td>\n",
       "      <td>0.000045</td>\n",
       "      <td>0.001208</td>\n",
       "      <td>0.000165</td>\n",
       "      <td>9</td>\n",
       "      <td>{'n_neighbors': 9}</td>\n",
       "      <td>0.566213</td>\n",
       "      <td>0.785346</td>\n",
       "      <td>0.605682</td>\n",
       "      <td>0.817670</td>\n",
       "      <td>...</td>\n",
       "      <td>0.652703</td>\n",
       "      <td>0.127615</td>\n",
       "      <td>8</td>\n",
       "      <td>0.763130</td>\n",
       "      <td>0.682240</td>\n",
       "      <td>0.740572</td>\n",
       "      <td>0.701873</td>\n",
       "      <td>0.742757</td>\n",
       "      <td>0.726115</td>\n",
       "      <td>0.029559</td>\n",
       "    </tr>\n",
       "    <tr>\n",
       "      <th>10</th>\n",
       "      <td>0.000611</td>\n",
       "      <td>0.000074</td>\n",
       "      <td>0.001320</td>\n",
       "      <td>0.000585</td>\n",
       "      <td>10</td>\n",
       "      <td>{'n_neighbors': 10}</td>\n",
       "      <td>0.567364</td>\n",
       "      <td>0.772155</td>\n",
       "      <td>0.590908</td>\n",
       "      <td>0.817123</td>\n",
       "      <td>...</td>\n",
       "      <td>0.649607</td>\n",
       "      <td>0.122904</td>\n",
       "      <td>9</td>\n",
       "      <td>0.753607</td>\n",
       "      <td>0.677909</td>\n",
       "      <td>0.734357</td>\n",
       "      <td>0.699767</td>\n",
       "      <td>0.736081</td>\n",
       "      <td>0.720344</td>\n",
       "      <td>0.027476</td>\n",
       "    </tr>\n",
       "  </tbody>\n",
       "</table>\n",
       "<p>10 rows × 21 columns</p>\n",
       "</div>"
      ],
      "text/plain": [
       "    mean_fit_time  std_fit_time  mean_score_time  std_score_time  \\\n",
       "1        0.001436      0.000465         0.001676        0.000360   \n",
       "2        0.000982      0.000152         0.001306        0.000203   \n",
       "3        0.001190      0.000368         0.002198        0.000398   \n",
       "4        0.001107      0.000149         0.001329        0.000091   \n",
       "5        0.000890      0.000227         0.001223        0.000077   \n",
       "6        0.000820      0.000100         0.001267        0.000185   \n",
       "7        0.001012      0.000250         0.001163        0.000094   \n",
       "8        0.000756      0.000118         0.001243        0.000335   \n",
       "9        0.000684      0.000045         0.001208        0.000165   \n",
       "10       0.000611      0.000074         0.001320        0.000585   \n",
       "\n",
       "   param_n_neighbors               params  split0_test_score  \\\n",
       "1                  1   {'n_neighbors': 1}           0.629691   \n",
       "2                  2   {'n_neighbors': 2}           0.639600   \n",
       "3                  3   {'n_neighbors': 3}           0.610832   \n",
       "4                  4   {'n_neighbors': 4}           0.608149   \n",
       "5                  5   {'n_neighbors': 5}           0.581131   \n",
       "6                  6   {'n_neighbors': 6}           0.569377   \n",
       "7                  7   {'n_neighbors': 7}           0.567359   \n",
       "8                  8   {'n_neighbors': 8}           0.568876   \n",
       "9                  9   {'n_neighbors': 9}           0.566213   \n",
       "10                10  {'n_neighbors': 10}           0.567364   \n",
       "\n",
       "    split1_test_score  split2_test_score  split3_test_score  ...  \\\n",
       "1            0.388919           0.582123           0.721020  ...   \n",
       "2            0.671219           0.550890           0.749405  ...   \n",
       "3            0.774003           0.565974           0.785287  ...   \n",
       "4            0.795168           0.620221           0.749117  ...   \n",
       "5            0.788438           0.647633           0.788551  ...   \n",
       "6            0.804196           0.622741           0.786395  ...   \n",
       "7            0.799283           0.597692           0.796142  ...   \n",
       "8            0.780500           0.619028           0.812871  ...   \n",
       "9            0.785346           0.605682           0.817670  ...   \n",
       "10           0.772155           0.590908           0.817123  ...   \n",
       "\n",
       "    mean_test_score  std_test_score  rank_test_score  split0_train_score  \\\n",
       "1          0.602612        0.117222               10            0.999212   \n",
       "2          0.658192        0.064526                6            0.914898   \n",
       "3          0.681133        0.086960                1            0.878772   \n",
       "4          0.678827        0.077711                2            0.844561   \n",
       "5          0.678025        0.093263                3            0.814731   \n",
       "6          0.670154        0.104218                4            0.790956   \n",
       "7          0.659647        0.114317                5            0.773516   \n",
       "8          0.655299        0.122404                7            0.769067   \n",
       "9          0.652703        0.127615                8            0.763130   \n",
       "10         0.649607        0.122904                9            0.753607   \n",
       "\n",
       "    split1_train_score  split2_train_score  split3_train_score  \\\n",
       "1             0.999987            0.999585            0.999368   \n",
       "2             0.895920            0.900038            0.888779   \n",
       "3             0.818530            0.855571            0.845264   \n",
       "4             0.798094            0.824240            0.806260   \n",
       "5             0.763313            0.805496            0.795409   \n",
       "6             0.742127            0.781125            0.768791   \n",
       "7             0.719615            0.767983            0.746815   \n",
       "8             0.702297            0.747252            0.715785   \n",
       "9             0.682240            0.740572            0.701873   \n",
       "10            0.677909            0.734357            0.699767   \n",
       "\n",
       "    split4_train_score  mean_train_score  std_train_score  \n",
       "1             0.999806          0.999592         0.000282  \n",
       "2             0.891018          0.898130         0.009249  \n",
       "3             0.853058          0.850239         0.019394  \n",
       "4             0.832130          0.821057         0.016920  \n",
       "5             0.802383          0.796266         0.017608  \n",
       "6             0.782103          0.773021         0.016983  \n",
       "7             0.768497          0.755285         0.020061  \n",
       "8             0.749929          0.736866         0.024310  \n",
       "9             0.742757          0.726115         0.029559  \n",
       "10            0.736081          0.720344         0.027476  \n",
       "\n",
       "[10 rows x 21 columns]"
      ]
     },
     "execution_count": 38,
     "metadata": {},
     "output_type": "execute_result"
    }
   ],
   "source": [
    "cv_results"
   ]
  },
  {
   "cell_type": "code",
   "execution_count": 39,
   "metadata": {},
   "outputs": [
    {
     "data": {
      "text/plain": [
       "<matplotlib.axes._subplots.AxesSubplot at 0x1a209ee9b0>"
      ]
     },
     "execution_count": 39,
     "metadata": {},
     "output_type": "execute_result"
    },
    {
     "data": {
      "image/png": "[encoded data removed]",
      "text/plain": [
       "<Figure size 432x288 with 1 Axes>"
      ]
     },
     "metadata": {
      "needs_background": "light"
     },
     "output_type": "display_data"
    }
   ],
   "source": [
    "cv_results['mean_test_score'].plot()"
   ]
  },
  {
   "cell_type": "code",
   "execution_count": 41,
   "metadata": {},
   "outputs": [
    {
     "data": {
      "text/plain": [
       "{'n_neighbors': 3}"
      ]
     },
     "execution_count": 41,
     "metadata": {},
     "output_type": "execute_result"
    }
   ],
   "source": [
    "cv.best_params_"
   ]
  },
  {
   "cell_type": "code",
   "execution_count": null,
   "metadata": {},
   "outputs": [],
   "source": [
    "cv.predict()"
   ]
  }
 ],
 "metadata": {
  "kernelspec": {
   "display_name": "Python 3",
   "language": "python",
   "name": "python3"
  },
  "language_info": {
   "codemirror_mode": {
    "name": "ipython",
    "version": 3
   },
   "file_extension": ".py",
   "mimetype": "text/x-python",
   "name": "python",
   "nbconvert_exporter": "python",
   "pygments_lexer": "ipython3",
   "version": "3.6.5"
  }
 },
 "nbformat": 4,
 "nbformat_minor": 2
}
